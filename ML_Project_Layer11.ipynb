{
  "cells": [
    {
      "cell_type": "code",
      "execution_count": 1,
      "metadata": {
        "id": "BD3K22HEw-gB"
      },
      "outputs": [],
      "source": [
        "import pandas as pd\n",
        "import numpy as np"
      ]
    },
    {
      "cell_type": "code",
      "execution_count": 3,
      "metadata": {
        "colab": {
          "base_uri": "https://localhost:8080/"
        },
        "id": "JEdlAF6pvSls",
        "outputId": "2c73b0a9-d453-4f64-9a3c-868f6a3797ef"
      },
      "outputs": [
        {
          "ename": "ModuleNotFoundError",
          "evalue": "No module named 'google'",
          "output_type": "error",
          "traceback": [
            "\u001b[1;31m---------------------------------------------------------------------------\u001b[0m",
            "\u001b[1;31mModuleNotFoundError\u001b[0m                       Traceback (most recent call last)",
            "\u001b[1;32m~\\AppData\\Local\\Temp/ipykernel_19460/3283790583.py\u001b[0m in \u001b[0;36m<module>\u001b[1;34m\u001b[0m\n\u001b[1;32m----> 1\u001b[1;33m \u001b[1;32mfrom\u001b[0m \u001b[0mgoogle\u001b[0m\u001b[1;33m.\u001b[0m\u001b[0mcolab\u001b[0m \u001b[1;32mimport\u001b[0m \u001b[0mdrive\u001b[0m\u001b[1;33m\u001b[0m\u001b[1;33m\u001b[0m\u001b[0m\n\u001b[0m\u001b[0;32m      2\u001b[0m \u001b[0mMOUNT_PATH\u001b[0m\u001b[1;33m=\u001b[0m\u001b[1;34m'/content/drive'\u001b[0m\u001b[1;33m\u001b[0m\u001b[1;33m\u001b[0m\u001b[0m\n\u001b[0;32m      3\u001b[0m \u001b[0mdrive\u001b[0m\u001b[1;33m.\u001b[0m\u001b[0mmount\u001b[0m\u001b[1;33m(\u001b[0m\u001b[0mMOUNT_PATH\u001b[0m\u001b[1;33m)\u001b[0m\u001b[1;33m\u001b[0m\u001b[1;33m\u001b[0m\u001b[0m\n\u001b[0;32m      4\u001b[0m \u001b[1;33m\u001b[0m\u001b[0m\n\u001b[0;32m      5\u001b[0m \u001b[0mWORKING_DIR\u001b[0m\u001b[1;33m=\u001b[0m\u001b[1;34mf\"{MOUNT_PATH}/MyDrive/ML_Project/Layer11\"\u001b[0m\u001b[1;33m\u001b[0m\u001b[1;33m\u001b[0m\u001b[0m\n",
            "\u001b[1;31mModuleNotFoundError\u001b[0m: No module named 'google'"
          ]
        }
      ],
      "source": [
        "from google.colab import drive\n",
        "MOUNT_PATH='/content/drive'\n",
        "drive.mount(MOUNT_PATH)\n",
        "\n",
        "WORKING_DIR=f\"{MOUNT_PATH}/MyDrive/ML_Project/Layer11\""
      ]
    },
    {
      "cell_type": "code",
      "execution_count": 2,
      "metadata": {},
      "outputs": [],
      "source": [
        "WORKING_DIR=\"layer-11-new\""
      ]
    },
    {
      "cell_type": "markdown",
      "metadata": {
        "id": "-KTmqbNYT_CM"
      },
      "source": [
        "### Importing dataset"
      ]
    },
    {
      "cell_type": "code",
      "execution_count": 3,
      "metadata": {
        "colab": {
          "base_uri": "https://localhost:8080/",
          "height": 255
        },
        "id": "1-gTALxqwpk-",
        "outputId": "4a92b350-d9e9-435b-fb9a-be8c7a5fe6ef"
      },
      "outputs": [
        {
          "data": {
            "text/html": [
              "<div>\n",
              "<style scoped>\n",
              "    .dataframe tbody tr th:only-of-type {\n",
              "        vertical-align: middle;\n",
              "    }\n",
              "\n",
              "    .dataframe tbody tr th {\n",
              "        vertical-align: top;\n",
              "    }\n",
              "\n",
              "    .dataframe thead th {\n",
              "        text-align: right;\n",
              "    }\n",
              "</style>\n",
              "<table border=\"1\" class=\"dataframe\">\n",
              "  <thead>\n",
              "    <tr style=\"text-align: right;\">\n",
              "      <th></th>\n",
              "      <th>feature_1</th>\n",
              "      <th>feature_2</th>\n",
              "      <th>feature_3</th>\n",
              "      <th>feature_4</th>\n",
              "      <th>feature_5</th>\n",
              "      <th>feature_6</th>\n",
              "      <th>feature_7</th>\n",
              "      <th>feature_8</th>\n",
              "      <th>feature_9</th>\n",
              "      <th>feature_10</th>\n",
              "      <th>...</th>\n",
              "      <th>feature_763</th>\n",
              "      <th>feature_764</th>\n",
              "      <th>feature_765</th>\n",
              "      <th>feature_766</th>\n",
              "      <th>feature_767</th>\n",
              "      <th>feature_768</th>\n",
              "      <th>label_1</th>\n",
              "      <th>label_2</th>\n",
              "      <th>label_3</th>\n",
              "      <th>label_4</th>\n",
              "    </tr>\n",
              "  </thead>\n",
              "  <tbody>\n",
              "    <tr>\n",
              "      <th>0</th>\n",
              "      <td>0.031138</td>\n",
              "      <td>0.079892</td>\n",
              "      <td>0.157382</td>\n",
              "      <td>-0.014636</td>\n",
              "      <td>-0.051778</td>\n",
              "      <td>-0.021332</td>\n",
              "      <td>-0.073593</td>\n",
              "      <td>-0.005386</td>\n",
              "      <td>-0.212557</td>\n",
              "      <td>0.099683</td>\n",
              "      <td>...</td>\n",
              "      <td>-0.085248</td>\n",
              "      <td>-0.096007</td>\n",
              "      <td>-0.000766</td>\n",
              "      <td>0.021399</td>\n",
              "      <td>-0.041432</td>\n",
              "      <td>0.094806</td>\n",
              "      <td>45</td>\n",
              "      <td>NaN</td>\n",
              "      <td>1</td>\n",
              "      <td>6</td>\n",
              "    </tr>\n",
              "    <tr>\n",
              "      <th>1</th>\n",
              "      <td>0.113040</td>\n",
              "      <td>0.175731</td>\n",
              "      <td>0.217741</td>\n",
              "      <td>-0.196254</td>\n",
              "      <td>-0.010129</td>\n",
              "      <td>-0.030586</td>\n",
              "      <td>0.067114</td>\n",
              "      <td>-0.072412</td>\n",
              "      <td>-0.239192</td>\n",
              "      <td>0.104741</td>\n",
              "      <td>...</td>\n",
              "      <td>-0.090283</td>\n",
              "      <td>-0.053885</td>\n",
              "      <td>-0.010967</td>\n",
              "      <td>0.062209</td>\n",
              "      <td>-0.122958</td>\n",
              "      <td>0.192949</td>\n",
              "      <td>45</td>\n",
              "      <td>NaN</td>\n",
              "      <td>1</td>\n",
              "      <td>6</td>\n",
              "    </tr>\n",
              "    <tr>\n",
              "      <th>2</th>\n",
              "      <td>0.048570</td>\n",
              "      <td>0.091281</td>\n",
              "      <td>0.160776</td>\n",
              "      <td>-0.150937</td>\n",
              "      <td>0.020115</td>\n",
              "      <td>0.044117</td>\n",
              "      <td>-0.050092</td>\n",
              "      <td>-0.045661</td>\n",
              "      <td>-0.155332</td>\n",
              "      <td>0.117206</td>\n",
              "      <td>...</td>\n",
              "      <td>-0.021524</td>\n",
              "      <td>-0.008411</td>\n",
              "      <td>-0.006248</td>\n",
              "      <td>0.031468</td>\n",
              "      <td>-0.056915</td>\n",
              "      <td>0.154731</td>\n",
              "      <td>45</td>\n",
              "      <td>NaN</td>\n",
              "      <td>1</td>\n",
              "      <td>6</td>\n",
              "    </tr>\n",
              "    <tr>\n",
              "      <th>3</th>\n",
              "      <td>0.039212</td>\n",
              "      <td>0.118388</td>\n",
              "      <td>0.173831</td>\n",
              "      <td>-0.096659</td>\n",
              "      <td>-0.008702</td>\n",
              "      <td>0.061298</td>\n",
              "      <td>0.008974</td>\n",
              "      <td>-0.003277</td>\n",
              "      <td>-0.065046</td>\n",
              "      <td>0.095480</td>\n",
              "      <td>...</td>\n",
              "      <td>-0.071936</td>\n",
              "      <td>-0.023120</td>\n",
              "      <td>-0.007812</td>\n",
              "      <td>0.057600</td>\n",
              "      <td>-0.121892</td>\n",
              "      <td>0.072796</td>\n",
              "      <td>45</td>\n",
              "      <td>NaN</td>\n",
              "      <td>1</td>\n",
              "      <td>6</td>\n",
              "    </tr>\n",
              "    <tr>\n",
              "      <th>4</th>\n",
              "      <td>0.056019</td>\n",
              "      <td>0.170639</td>\n",
              "      <td>0.157917</td>\n",
              "      <td>-0.228605</td>\n",
              "      <td>-0.065965</td>\n",
              "      <td>-0.088732</td>\n",
              "      <td>-0.082243</td>\n",
              "      <td>-0.080568</td>\n",
              "      <td>-0.341500</td>\n",
              "      <td>0.142430</td>\n",
              "      <td>...</td>\n",
              "      <td>-0.155621</td>\n",
              "      <td>-0.079447</td>\n",
              "      <td>0.015316</td>\n",
              "      <td>0.127726</td>\n",
              "      <td>-0.151966</td>\n",
              "      <td>0.169634</td>\n",
              "      <td>45</td>\n",
              "      <td>NaN</td>\n",
              "      <td>1</td>\n",
              "      <td>6</td>\n",
              "    </tr>\n",
              "  </tbody>\n",
              "</table>\n",
              "<p>5 rows × 772 columns</p>\n",
              "</div>"
            ],
            "text/plain": [
              "   feature_1  feature_2  feature_3  feature_4  feature_5  feature_6  \\\n",
              "0   0.031138   0.079892   0.157382  -0.014636  -0.051778  -0.021332   \n",
              "1   0.113040   0.175731   0.217741  -0.196254  -0.010129  -0.030586   \n",
              "2   0.048570   0.091281   0.160776  -0.150937   0.020115   0.044117   \n",
              "3   0.039212   0.118388   0.173831  -0.096659  -0.008702   0.061298   \n",
              "4   0.056019   0.170639   0.157917  -0.228605  -0.065965  -0.088732   \n",
              "\n",
              "   feature_7  feature_8  feature_9  feature_10  ...  feature_763  feature_764  \\\n",
              "0  -0.073593  -0.005386  -0.212557    0.099683  ...    -0.085248    -0.096007   \n",
              "1   0.067114  -0.072412  -0.239192    0.104741  ...    -0.090283    -0.053885   \n",
              "2  -0.050092  -0.045661  -0.155332    0.117206  ...    -0.021524    -0.008411   \n",
              "3   0.008974  -0.003277  -0.065046    0.095480  ...    -0.071936    -0.023120   \n",
              "4  -0.082243  -0.080568  -0.341500    0.142430  ...    -0.155621    -0.079447   \n",
              "\n",
              "   feature_765  feature_766  feature_767  feature_768  label_1  label_2  \\\n",
              "0    -0.000766     0.021399    -0.041432     0.094806       45      NaN   \n",
              "1    -0.010967     0.062209    -0.122958     0.192949       45      NaN   \n",
              "2    -0.006248     0.031468    -0.056915     0.154731       45      NaN   \n",
              "3    -0.007812     0.057600    -0.121892     0.072796       45      NaN   \n",
              "4     0.015316     0.127726    -0.151966     0.169634       45      NaN   \n",
              "\n",
              "   label_3  label_4  \n",
              "0        1        6  \n",
              "1        1        6  \n",
              "2        1        6  \n",
              "3        1        6  \n",
              "4        1        6  \n",
              "\n",
              "[5 rows x 772 columns]"
            ]
          },
          "execution_count": 3,
          "metadata": {},
          "output_type": "execute_result"
        }
      ],
      "source": [
        "train = pd.read_csv(f\"{WORKING_DIR}/layer_11_train.csv\")\n",
        "train.head()"
      ]
    },
    {
      "cell_type": "code",
      "execution_count": 4,
      "metadata": {
        "colab": {
          "base_uri": "https://localhost:8080/",
          "height": 255
        },
        "id": "fRsbYuEAwtTa",
        "outputId": "123ec5d7-a42c-432b-e759-4d93f54fea2c"
      },
      "outputs": [
        {
          "data": {
            "text/html": [
              "<div>\n",
              "<style scoped>\n",
              "    .dataframe tbody tr th:only-of-type {\n",
              "        vertical-align: middle;\n",
              "    }\n",
              "\n",
              "    .dataframe tbody tr th {\n",
              "        vertical-align: top;\n",
              "    }\n",
              "\n",
              "    .dataframe thead th {\n",
              "        text-align: right;\n",
              "    }\n",
              "</style>\n",
              "<table border=\"1\" class=\"dataframe\">\n",
              "  <thead>\n",
              "    <tr style=\"text-align: right;\">\n",
              "      <th></th>\n",
              "      <th>feature_1</th>\n",
              "      <th>feature_2</th>\n",
              "      <th>feature_3</th>\n",
              "      <th>feature_4</th>\n",
              "      <th>feature_5</th>\n",
              "      <th>feature_6</th>\n",
              "      <th>feature_7</th>\n",
              "      <th>feature_8</th>\n",
              "      <th>feature_9</th>\n",
              "      <th>feature_10</th>\n",
              "      <th>...</th>\n",
              "      <th>feature_763</th>\n",
              "      <th>feature_764</th>\n",
              "      <th>feature_765</th>\n",
              "      <th>feature_766</th>\n",
              "      <th>feature_767</th>\n",
              "      <th>feature_768</th>\n",
              "      <th>label_1</th>\n",
              "      <th>label_2</th>\n",
              "      <th>label_3</th>\n",
              "      <th>label_4</th>\n",
              "    </tr>\n",
              "  </thead>\n",
              "  <tbody>\n",
              "    <tr>\n",
              "      <th>0</th>\n",
              "      <td>0.025707</td>\n",
              "      <td>0.072842</td>\n",
              "      <td>0.137001</td>\n",
              "      <td>-0.093690</td>\n",
              "      <td>0.015632</td>\n",
              "      <td>0.019517</td>\n",
              "      <td>-0.089173</td>\n",
              "      <td>-0.037077</td>\n",
              "      <td>-0.116238</td>\n",
              "      <td>0.097865</td>\n",
              "      <td>...</td>\n",
              "      <td>-0.043002</td>\n",
              "      <td>-0.037699</td>\n",
              "      <td>0.042082</td>\n",
              "      <td>0.006500</td>\n",
              "      <td>-0.038191</td>\n",
              "      <td>0.116253</td>\n",
              "      <td>45</td>\n",
              "      <td>NaN</td>\n",
              "      <td>1</td>\n",
              "      <td>6</td>\n",
              "    </tr>\n",
              "    <tr>\n",
              "      <th>1</th>\n",
              "      <td>0.017289</td>\n",
              "      <td>0.053504</td>\n",
              "      <td>0.141158</td>\n",
              "      <td>-0.046288</td>\n",
              "      <td>-0.037644</td>\n",
              "      <td>0.018299</td>\n",
              "      <td>-0.090750</td>\n",
              "      <td>0.020565</td>\n",
              "      <td>-0.150711</td>\n",
              "      <td>0.042980</td>\n",
              "      <td>...</td>\n",
              "      <td>-0.039593</td>\n",
              "      <td>-0.055229</td>\n",
              "      <td>0.001704</td>\n",
              "      <td>-0.005439</td>\n",
              "      <td>-0.035530</td>\n",
              "      <td>0.060964</td>\n",
              "      <td>45</td>\n",
              "      <td>NaN</td>\n",
              "      <td>1</td>\n",
              "      <td>6</td>\n",
              "    </tr>\n",
              "    <tr>\n",
              "      <th>2</th>\n",
              "      <td>0.030724</td>\n",
              "      <td>0.108214</td>\n",
              "      <td>0.115952</td>\n",
              "      <td>-0.101992</td>\n",
              "      <td>-0.015330</td>\n",
              "      <td>0.032235</td>\n",
              "      <td>-0.000838</td>\n",
              "      <td>-0.031209</td>\n",
              "      <td>-0.037022</td>\n",
              "      <td>0.060745</td>\n",
              "      <td>...</td>\n",
              "      <td>-0.029340</td>\n",
              "      <td>-0.046902</td>\n",
              "      <td>0.010382</td>\n",
              "      <td>0.047438</td>\n",
              "      <td>-0.056359</td>\n",
              "      <td>0.062159</td>\n",
              "      <td>45</td>\n",
              "      <td>NaN</td>\n",
              "      <td>1</td>\n",
              "      <td>6</td>\n",
              "    </tr>\n",
              "    <tr>\n",
              "      <th>3</th>\n",
              "      <td>0.039265</td>\n",
              "      <td>0.075224</td>\n",
              "      <td>0.112761</td>\n",
              "      <td>-0.108313</td>\n",
              "      <td>-0.004113</td>\n",
              "      <td>0.040537</td>\n",
              "      <td>-0.060936</td>\n",
              "      <td>-0.052650</td>\n",
              "      <td>-0.063517</td>\n",
              "      <td>0.083030</td>\n",
              "      <td>...</td>\n",
              "      <td>-0.003430</td>\n",
              "      <td>-0.021894</td>\n",
              "      <td>0.020697</td>\n",
              "      <td>0.026693</td>\n",
              "      <td>-0.013656</td>\n",
              "      <td>0.083940</td>\n",
              "      <td>45</td>\n",
              "      <td>NaN</td>\n",
              "      <td>1</td>\n",
              "      <td>6</td>\n",
              "    </tr>\n",
              "    <tr>\n",
              "      <th>4</th>\n",
              "      <td>0.029869</td>\n",
              "      <td>0.037192</td>\n",
              "      <td>0.107736</td>\n",
              "      <td>-0.038029</td>\n",
              "      <td>-0.002430</td>\n",
              "      <td>-0.002113</td>\n",
              "      <td>-0.059072</td>\n",
              "      <td>-0.045483</td>\n",
              "      <td>-0.099818</td>\n",
              "      <td>0.050547</td>\n",
              "      <td>...</td>\n",
              "      <td>-0.031195</td>\n",
              "      <td>-0.034666</td>\n",
              "      <td>-0.010491</td>\n",
              "      <td>0.036413</td>\n",
              "      <td>-0.028152</td>\n",
              "      <td>0.122546</td>\n",
              "      <td>45</td>\n",
              "      <td>NaN</td>\n",
              "      <td>1</td>\n",
              "      <td>6</td>\n",
              "    </tr>\n",
              "  </tbody>\n",
              "</table>\n",
              "<p>5 rows × 772 columns</p>\n",
              "</div>"
            ],
            "text/plain": [
              "   feature_1  feature_2  feature_3  feature_4  feature_5  feature_6  \\\n",
              "0   0.025707   0.072842   0.137001  -0.093690   0.015632   0.019517   \n",
              "1   0.017289   0.053504   0.141158  -0.046288  -0.037644   0.018299   \n",
              "2   0.030724   0.108214   0.115952  -0.101992  -0.015330   0.032235   \n",
              "3   0.039265   0.075224   0.112761  -0.108313  -0.004113   0.040537   \n",
              "4   0.029869   0.037192   0.107736  -0.038029  -0.002430  -0.002113   \n",
              "\n",
              "   feature_7  feature_8  feature_9  feature_10  ...  feature_763  feature_764  \\\n",
              "0  -0.089173  -0.037077  -0.116238    0.097865  ...    -0.043002    -0.037699   \n",
              "1  -0.090750   0.020565  -0.150711    0.042980  ...    -0.039593    -0.055229   \n",
              "2  -0.000838  -0.031209  -0.037022    0.060745  ...    -0.029340    -0.046902   \n",
              "3  -0.060936  -0.052650  -0.063517    0.083030  ...    -0.003430    -0.021894   \n",
              "4  -0.059072  -0.045483  -0.099818    0.050547  ...    -0.031195    -0.034666   \n",
              "\n",
              "   feature_765  feature_766  feature_767  feature_768  label_1  label_2  \\\n",
              "0     0.042082     0.006500    -0.038191     0.116253       45      NaN   \n",
              "1     0.001704    -0.005439    -0.035530     0.060964       45      NaN   \n",
              "2     0.010382     0.047438    -0.056359     0.062159       45      NaN   \n",
              "3     0.020697     0.026693    -0.013656     0.083940       45      NaN   \n",
              "4    -0.010491     0.036413    -0.028152     0.122546       45      NaN   \n",
              "\n",
              "   label_3  label_4  \n",
              "0        1        6  \n",
              "1        1        6  \n",
              "2        1        6  \n",
              "3        1        6  \n",
              "4        1        6  \n",
              "\n",
              "[5 rows x 772 columns]"
            ]
          },
          "execution_count": 4,
          "metadata": {},
          "output_type": "execute_result"
        }
      ],
      "source": [
        "valid = pd.read_csv(f\"{WORKING_DIR}/layer_11_valid.csv\")\n",
        "valid.head()"
      ]
    },
    {
      "cell_type": "code",
      "execution_count": 5,
      "metadata": {
        "colab": {
          "base_uri": "https://localhost:8080/",
          "height": 255
        },
        "id": "3NqeSFf2wt0H",
        "outputId": "5a680315-0ad7-4235-b13c-f369da128240"
      },
      "outputs": [
        {
          "data": {
            "text/html": [
              "<div>\n",
              "<style scoped>\n",
              "    .dataframe tbody tr th:only-of-type {\n",
              "        vertical-align: middle;\n",
              "    }\n",
              "\n",
              "    .dataframe tbody tr th {\n",
              "        vertical-align: top;\n",
              "    }\n",
              "\n",
              "    .dataframe thead th {\n",
              "        text-align: right;\n",
              "    }\n",
              "</style>\n",
              "<table border=\"1\" class=\"dataframe\">\n",
              "  <thead>\n",
              "    <tr style=\"text-align: right;\">\n",
              "      <th></th>\n",
              "      <th>feature_1</th>\n",
              "      <th>feature_2</th>\n",
              "      <th>feature_3</th>\n",
              "      <th>feature_4</th>\n",
              "      <th>feature_5</th>\n",
              "      <th>feature_6</th>\n",
              "      <th>feature_7</th>\n",
              "      <th>feature_8</th>\n",
              "      <th>feature_9</th>\n",
              "      <th>feature_10</th>\n",
              "      <th>...</th>\n",
              "      <th>feature_763</th>\n",
              "      <th>feature_764</th>\n",
              "      <th>feature_765</th>\n",
              "      <th>feature_766</th>\n",
              "      <th>feature_767</th>\n",
              "      <th>feature_768</th>\n",
              "      <th>label_1</th>\n",
              "      <th>label_2</th>\n",
              "      <th>label_3</th>\n",
              "      <th>label_4</th>\n",
              "    </tr>\n",
              "  </thead>\n",
              "  <tbody>\n",
              "    <tr>\n",
              "      <th>0</th>\n",
              "      <td>-0.000848</td>\n",
              "      <td>0.078148</td>\n",
              "      <td>0.187810</td>\n",
              "      <td>-0.041648</td>\n",
              "      <td>-0.033607</td>\n",
              "      <td>-0.038199</td>\n",
              "      <td>-0.089919</td>\n",
              "      <td>0.024080</td>\n",
              "      <td>-0.201969</td>\n",
              "      <td>0.064583</td>\n",
              "      <td>...</td>\n",
              "      <td>-0.078486</td>\n",
              "      <td>-0.070084</td>\n",
              "      <td>-0.053011</td>\n",
              "      <td>0.008485</td>\n",
              "      <td>-0.052973</td>\n",
              "      <td>0.078296</td>\n",
              "      <td>45</td>\n",
              "      <td>NaN</td>\n",
              "      <td>1</td>\n",
              "      <td>6</td>\n",
              "    </tr>\n",
              "    <tr>\n",
              "      <th>1</th>\n",
              "      <td>0.103377</td>\n",
              "      <td>0.159788</td>\n",
              "      <td>0.212854</td>\n",
              "      <td>-0.233145</td>\n",
              "      <td>-0.057392</td>\n",
              "      <td>-0.096155</td>\n",
              "      <td>-0.019025</td>\n",
              "      <td>-0.038726</td>\n",
              "      <td>-0.259538</td>\n",
              "      <td>0.155536</td>\n",
              "      <td>...</td>\n",
              "      <td>-0.176942</td>\n",
              "      <td>-0.089102</td>\n",
              "      <td>-0.010966</td>\n",
              "      <td>0.136578</td>\n",
              "      <td>-0.107316</td>\n",
              "      <td>0.217518</td>\n",
              "      <td>45</td>\n",
              "      <td>NaN</td>\n",
              "      <td>1</td>\n",
              "      <td>6</td>\n",
              "    </tr>\n",
              "    <tr>\n",
              "      <th>2</th>\n",
              "      <td>0.071094</td>\n",
              "      <td>0.130005</td>\n",
              "      <td>0.135423</td>\n",
              "      <td>-0.129862</td>\n",
              "      <td>0.018247</td>\n",
              "      <td>0.078235</td>\n",
              "      <td>-0.041788</td>\n",
              "      <td>-0.063971</td>\n",
              "      <td>-0.130495</td>\n",
              "      <td>0.099881</td>\n",
              "      <td>...</td>\n",
              "      <td>-0.020031</td>\n",
              "      <td>-0.024434</td>\n",
              "      <td>-0.033826</td>\n",
              "      <td>0.041559</td>\n",
              "      <td>-0.024067</td>\n",
              "      <td>0.097203</td>\n",
              "      <td>45</td>\n",
              "      <td>NaN</td>\n",
              "      <td>1</td>\n",
              "      <td>6</td>\n",
              "    </tr>\n",
              "    <tr>\n",
              "      <th>3</th>\n",
              "      <td>0.011934</td>\n",
              "      <td>0.030001</td>\n",
              "      <td>0.134863</td>\n",
              "      <td>-0.049538</td>\n",
              "      <td>-0.004478</td>\n",
              "      <td>0.002138</td>\n",
              "      <td>-0.045417</td>\n",
              "      <td>-0.018220</td>\n",
              "      <td>-0.055388</td>\n",
              "      <td>0.045562</td>\n",
              "      <td>...</td>\n",
              "      <td>-0.013422</td>\n",
              "      <td>-0.024320</td>\n",
              "      <td>0.001298</td>\n",
              "      <td>-0.008532</td>\n",
              "      <td>-0.045537</td>\n",
              "      <td>0.050802</td>\n",
              "      <td>45</td>\n",
              "      <td>NaN</td>\n",
              "      <td>1</td>\n",
              "      <td>6</td>\n",
              "    </tr>\n",
              "    <tr>\n",
              "      <th>4</th>\n",
              "      <td>0.025101</td>\n",
              "      <td>0.058108</td>\n",
              "      <td>0.118522</td>\n",
              "      <td>-0.072302</td>\n",
              "      <td>-0.007582</td>\n",
              "      <td>-0.006370</td>\n",
              "      <td>-0.003366</td>\n",
              "      <td>-0.032282</td>\n",
              "      <td>-0.104052</td>\n",
              "      <td>0.062415</td>\n",
              "      <td>...</td>\n",
              "      <td>-0.013517</td>\n",
              "      <td>-0.069421</td>\n",
              "      <td>-0.027624</td>\n",
              "      <td>0.042998</td>\n",
              "      <td>-0.001015</td>\n",
              "      <td>0.104858</td>\n",
              "      <td>45</td>\n",
              "      <td>NaN</td>\n",
              "      <td>1</td>\n",
              "      <td>6</td>\n",
              "    </tr>\n",
              "  </tbody>\n",
              "</table>\n",
              "<p>5 rows × 772 columns</p>\n",
              "</div>"
            ],
            "text/plain": [
              "   feature_1  feature_2  feature_3  feature_4  feature_5  feature_6  \\\n",
              "0  -0.000848   0.078148   0.187810  -0.041648  -0.033607  -0.038199   \n",
              "1   0.103377   0.159788   0.212854  -0.233145  -0.057392  -0.096155   \n",
              "2   0.071094   0.130005   0.135423  -0.129862   0.018247   0.078235   \n",
              "3   0.011934   0.030001   0.134863  -0.049538  -0.004478   0.002138   \n",
              "4   0.025101   0.058108   0.118522  -0.072302  -0.007582  -0.006370   \n",
              "\n",
              "   feature_7  feature_8  feature_9  feature_10  ...  feature_763  feature_764  \\\n",
              "0  -0.089919   0.024080  -0.201969    0.064583  ...    -0.078486    -0.070084   \n",
              "1  -0.019025  -0.038726  -0.259538    0.155536  ...    -0.176942    -0.089102   \n",
              "2  -0.041788  -0.063971  -0.130495    0.099881  ...    -0.020031    -0.024434   \n",
              "3  -0.045417  -0.018220  -0.055388    0.045562  ...    -0.013422    -0.024320   \n",
              "4  -0.003366  -0.032282  -0.104052    0.062415  ...    -0.013517    -0.069421   \n",
              "\n",
              "   feature_765  feature_766  feature_767  feature_768  label_1  label_2  \\\n",
              "0    -0.053011     0.008485    -0.052973     0.078296       45      NaN   \n",
              "1    -0.010966     0.136578    -0.107316     0.217518       45      NaN   \n",
              "2    -0.033826     0.041559    -0.024067     0.097203       45      NaN   \n",
              "3     0.001298    -0.008532    -0.045537     0.050802       45      NaN   \n",
              "4    -0.027624     0.042998    -0.001015     0.104858       45      NaN   \n",
              "\n",
              "   label_3  label_4  \n",
              "0        1        6  \n",
              "1        1        6  \n",
              "2        1        6  \n",
              "3        1        6  \n",
              "4        1        6  \n",
              "\n",
              "[5 rows x 772 columns]"
            ]
          },
          "execution_count": 5,
          "metadata": {},
          "output_type": "execute_result"
        }
      ],
      "source": [
        "test = pd.read_csv(f\"{WORKING_DIR}/layer_11_test.csv\")\n",
        "test.head()"
      ]
    },
    {
      "cell_type": "code",
      "execution_count": 6,
      "metadata": {
        "colab": {
          "base_uri": "https://localhost:8080/"
        },
        "id": "fPrd9P1WoJUa",
        "outputId": "a417801f-d08a-4039-aadd-7b0a0af81572"
      },
      "outputs": [
        {
          "name": "stdout",
          "output_type": "stream",
          "text": [
            "feature_1        0\n",
            "feature_2        0\n",
            "feature_3        0\n",
            "feature_4        0\n",
            "feature_5        0\n",
            "              ... \n",
            "feature_768      0\n",
            "label_1          0\n",
            "label_2        480\n",
            "label_3          0\n",
            "label_4          0\n",
            "Length: 772, dtype: int64\n"
          ]
        }
      ],
      "source": [
        "# Checking for missing values\n",
        "print(train.isnull().sum())"
      ]
    },
    {
      "cell_type": "code",
      "execution_count": 6,
      "metadata": {
        "colab": {
          "base_uri": "https://localhost:8080/"
        },
        "id": "wXbB2ZCzoLCH",
        "outputId": "a4e56f1b-0503-4616-fb9a-cc1cb035b548"
      },
      "outputs": [
        {
          "name": "stdout",
          "output_type": "stream",
          "text": [
            "['label_1', 'label_2', 'label_3', 'label_4']\n",
            "['feature_1', 'feature_2', 'feature_3', 'feature_4', 'feature_5', 'feature_6', 'feature_7', 'feature_8', 'feature_9', 'feature_10', 'feature_11', 'feature_12', 'feature_13', 'feature_14', 'feature_15', 'feature_16', 'feature_17', 'feature_18', 'feature_19', 'feature_20', 'feature_21', 'feature_22', 'feature_23', 'feature_24', 'feature_25', 'feature_26', 'feature_27', 'feature_28', 'feature_29', 'feature_30', 'feature_31', 'feature_32', 'feature_33', 'feature_34', 'feature_35', 'feature_36', 'feature_37', 'feature_38', 'feature_39', 'feature_40', 'feature_41', 'feature_42', 'feature_43', 'feature_44', 'feature_45', 'feature_46', 'feature_47', 'feature_48', 'feature_49', 'feature_50', 'feature_51', 'feature_52', 'feature_53', 'feature_54', 'feature_55', 'feature_56', 'feature_57', 'feature_58', 'feature_59', 'feature_60', 'feature_61', 'feature_62', 'feature_63', 'feature_64', 'feature_65', 'feature_66', 'feature_67', 'feature_68', 'feature_69', 'feature_70', 'feature_71', 'feature_72', 'feature_73', 'feature_74', 'feature_75', 'feature_76', 'feature_77', 'feature_78', 'feature_79', 'feature_80', 'feature_81', 'feature_82', 'feature_83', 'feature_84', 'feature_85', 'feature_86', 'feature_87', 'feature_88', 'feature_89', 'feature_90', 'feature_91', 'feature_92', 'feature_93', 'feature_94', 'feature_95', 'feature_96', 'feature_97', 'feature_98', 'feature_99', 'feature_100', 'feature_101', 'feature_102', 'feature_103', 'feature_104', 'feature_105', 'feature_106', 'feature_107', 'feature_108', 'feature_109', 'feature_110', 'feature_111', 'feature_112', 'feature_113', 'feature_114', 'feature_115', 'feature_116', 'feature_117', 'feature_118', 'feature_119', 'feature_120', 'feature_121', 'feature_122', 'feature_123', 'feature_124', 'feature_125', 'feature_126', 'feature_127', 'feature_128', 'feature_129', 'feature_130', 'feature_131', 'feature_132', 'feature_133', 'feature_134', 'feature_135', 'feature_136', 'feature_137', 'feature_138', 'feature_139', 'feature_140', 'feature_141', 'feature_142', 'feature_143', 'feature_144', 'feature_145', 'feature_146', 'feature_147', 'feature_148', 'feature_149', 'feature_150', 'feature_151', 'feature_152', 'feature_153', 'feature_154', 'feature_155', 'feature_156', 'feature_157', 'feature_158', 'feature_159', 'feature_160', 'feature_161', 'feature_162', 'feature_163', 'feature_164', 'feature_165', 'feature_166', 'feature_167', 'feature_168', 'feature_169', 'feature_170', 'feature_171', 'feature_172', 'feature_173', 'feature_174', 'feature_175', 'feature_176', 'feature_177', 'feature_178', 'feature_179', 'feature_180', 'feature_181', 'feature_182', 'feature_183', 'feature_184', 'feature_185', 'feature_186', 'feature_187', 'feature_188', 'feature_189', 'feature_190', 'feature_191', 'feature_192', 'feature_193', 'feature_194', 'feature_195', 'feature_196', 'feature_197', 'feature_198', 'feature_199', 'feature_200', 'feature_201', 'feature_202', 'feature_203', 'feature_204', 'feature_205', 'feature_206', 'feature_207', 'feature_208', 'feature_209', 'feature_210', 'feature_211', 'feature_212', 'feature_213', 'feature_214', 'feature_215', 'feature_216', 'feature_217', 'feature_218', 'feature_219', 'feature_220', 'feature_221', 'feature_222', 'feature_223', 'feature_224', 'feature_225', 'feature_226', 'feature_227', 'feature_228', 'feature_229', 'feature_230', 'feature_231', 'feature_232', 'feature_233', 'feature_234', 'feature_235', 'feature_236', 'feature_237', 'feature_238', 'feature_239', 'feature_240', 'feature_241', 'feature_242', 'feature_243', 'feature_244', 'feature_245', 'feature_246', 'feature_247', 'feature_248', 'feature_249', 'feature_250', 'feature_251', 'feature_252', 'feature_253', 'feature_254', 'feature_255', 'feature_256', 'feature_257', 'feature_258', 'feature_259', 'feature_260', 'feature_261', 'feature_262', 'feature_263', 'feature_264', 'feature_265', 'feature_266', 'feature_267', 'feature_268', 'feature_269', 'feature_270', 'feature_271', 'feature_272', 'feature_273', 'feature_274', 'feature_275', 'feature_276', 'feature_277', 'feature_278', 'feature_279', 'feature_280', 'feature_281', 'feature_282', 'feature_283', 'feature_284', 'feature_285', 'feature_286', 'feature_287', 'feature_288', 'feature_289', 'feature_290', 'feature_291', 'feature_292', 'feature_293', 'feature_294', 'feature_295', 'feature_296', 'feature_297', 'feature_298', 'feature_299', 'feature_300', 'feature_301', 'feature_302', 'feature_303', 'feature_304', 'feature_305', 'feature_306', 'feature_307', 'feature_308', 'feature_309', 'feature_310', 'feature_311', 'feature_312', 'feature_313', 'feature_314', 'feature_315', 'feature_316', 'feature_317', 'feature_318', 'feature_319', 'feature_320', 'feature_321', 'feature_322', 'feature_323', 'feature_324', 'feature_325', 'feature_326', 'feature_327', 'feature_328', 'feature_329', 'feature_330', 'feature_331', 'feature_332', 'feature_333', 'feature_334', 'feature_335', 'feature_336', 'feature_337', 'feature_338', 'feature_339', 'feature_340', 'feature_341', 'feature_342', 'feature_343', 'feature_344', 'feature_345', 'feature_346', 'feature_347', 'feature_348', 'feature_349', 'feature_350', 'feature_351', 'feature_352', 'feature_353', 'feature_354', 'feature_355', 'feature_356', 'feature_357', 'feature_358', 'feature_359', 'feature_360', 'feature_361', 'feature_362', 'feature_363', 'feature_364', 'feature_365', 'feature_366', 'feature_367', 'feature_368', 'feature_369', 'feature_370', 'feature_371', 'feature_372', 'feature_373', 'feature_374', 'feature_375', 'feature_376', 'feature_377', 'feature_378', 'feature_379', 'feature_380', 'feature_381', 'feature_382', 'feature_383', 'feature_384', 'feature_385', 'feature_386', 'feature_387', 'feature_388', 'feature_389', 'feature_390', 'feature_391', 'feature_392', 'feature_393', 'feature_394', 'feature_395', 'feature_396', 'feature_397', 'feature_398', 'feature_399', 'feature_400', 'feature_401', 'feature_402', 'feature_403', 'feature_404', 'feature_405', 'feature_406', 'feature_407', 'feature_408', 'feature_409', 'feature_410', 'feature_411', 'feature_412', 'feature_413', 'feature_414', 'feature_415', 'feature_416', 'feature_417', 'feature_418', 'feature_419', 'feature_420', 'feature_421', 'feature_422', 'feature_423', 'feature_424', 'feature_425', 'feature_426', 'feature_427', 'feature_428', 'feature_429', 'feature_430', 'feature_431', 'feature_432', 'feature_433', 'feature_434', 'feature_435', 'feature_436', 'feature_437', 'feature_438', 'feature_439', 'feature_440', 'feature_441', 'feature_442', 'feature_443', 'feature_444', 'feature_445', 'feature_446', 'feature_447', 'feature_448', 'feature_449', 'feature_450', 'feature_451', 'feature_452', 'feature_453', 'feature_454', 'feature_455', 'feature_456', 'feature_457', 'feature_458', 'feature_459', 'feature_460', 'feature_461', 'feature_462', 'feature_463', 'feature_464', 'feature_465', 'feature_466', 'feature_467', 'feature_468', 'feature_469', 'feature_470', 'feature_471', 'feature_472', 'feature_473', 'feature_474', 'feature_475', 'feature_476', 'feature_477', 'feature_478', 'feature_479', 'feature_480', 'feature_481', 'feature_482', 'feature_483', 'feature_484', 'feature_485', 'feature_486', 'feature_487', 'feature_488', 'feature_489', 'feature_490', 'feature_491', 'feature_492', 'feature_493', 'feature_494', 'feature_495', 'feature_496', 'feature_497', 'feature_498', 'feature_499', 'feature_500', 'feature_501', 'feature_502', 'feature_503', 'feature_504', 'feature_505', 'feature_506', 'feature_507', 'feature_508', 'feature_509', 'feature_510', 'feature_511', 'feature_512', 'feature_513', 'feature_514', 'feature_515', 'feature_516', 'feature_517', 'feature_518', 'feature_519', 'feature_520', 'feature_521', 'feature_522', 'feature_523', 'feature_524', 'feature_525', 'feature_526', 'feature_527', 'feature_528', 'feature_529', 'feature_530', 'feature_531', 'feature_532', 'feature_533', 'feature_534', 'feature_535', 'feature_536', 'feature_537', 'feature_538', 'feature_539', 'feature_540', 'feature_541', 'feature_542', 'feature_543', 'feature_544', 'feature_545', 'feature_546', 'feature_547', 'feature_548', 'feature_549', 'feature_550', 'feature_551', 'feature_552', 'feature_553', 'feature_554', 'feature_555', 'feature_556', 'feature_557', 'feature_558', 'feature_559', 'feature_560', 'feature_561', 'feature_562', 'feature_563', 'feature_564', 'feature_565', 'feature_566', 'feature_567', 'feature_568', 'feature_569', 'feature_570', 'feature_571', 'feature_572', 'feature_573', 'feature_574', 'feature_575', 'feature_576', 'feature_577', 'feature_578', 'feature_579', 'feature_580', 'feature_581', 'feature_582', 'feature_583', 'feature_584', 'feature_585', 'feature_586', 'feature_587', 'feature_588', 'feature_589', 'feature_590', 'feature_591', 'feature_592', 'feature_593', 'feature_594', 'feature_595', 'feature_596', 'feature_597', 'feature_598', 'feature_599', 'feature_600', 'feature_601', 'feature_602', 'feature_603', 'feature_604', 'feature_605', 'feature_606', 'feature_607', 'feature_608', 'feature_609', 'feature_610', 'feature_611', 'feature_612', 'feature_613', 'feature_614', 'feature_615', 'feature_616', 'feature_617', 'feature_618', 'feature_619', 'feature_620', 'feature_621', 'feature_622', 'feature_623', 'feature_624', 'feature_625', 'feature_626', 'feature_627', 'feature_628', 'feature_629', 'feature_630', 'feature_631', 'feature_632', 'feature_633', 'feature_634', 'feature_635', 'feature_636', 'feature_637', 'feature_638', 'feature_639', 'feature_640', 'feature_641', 'feature_642', 'feature_643', 'feature_644', 'feature_645', 'feature_646', 'feature_647', 'feature_648', 'feature_649', 'feature_650', 'feature_651', 'feature_652', 'feature_653', 'feature_654', 'feature_655', 'feature_656', 'feature_657', 'feature_658', 'feature_659', 'feature_660', 'feature_661', 'feature_662', 'feature_663', 'feature_664', 'feature_665', 'feature_666', 'feature_667', 'feature_668', 'feature_669', 'feature_670', 'feature_671', 'feature_672', 'feature_673', 'feature_674', 'feature_675', 'feature_676', 'feature_677', 'feature_678', 'feature_679', 'feature_680', 'feature_681', 'feature_682', 'feature_683', 'feature_684', 'feature_685', 'feature_686', 'feature_687', 'feature_688', 'feature_689', 'feature_690', 'feature_691', 'feature_692', 'feature_693', 'feature_694', 'feature_695', 'feature_696', 'feature_697', 'feature_698', 'feature_699', 'feature_700', 'feature_701', 'feature_702', 'feature_703', 'feature_704', 'feature_705', 'feature_706', 'feature_707', 'feature_708', 'feature_709', 'feature_710', 'feature_711', 'feature_712', 'feature_713', 'feature_714', 'feature_715', 'feature_716', 'feature_717', 'feature_718', 'feature_719', 'feature_720', 'feature_721', 'feature_722', 'feature_723', 'feature_724', 'feature_725', 'feature_726', 'feature_727', 'feature_728', 'feature_729', 'feature_730', 'feature_731', 'feature_732', 'feature_733', 'feature_734', 'feature_735', 'feature_736', 'feature_737', 'feature_738', 'feature_739', 'feature_740', 'feature_741', 'feature_742', 'feature_743', 'feature_744', 'feature_745', 'feature_746', 'feature_747', 'feature_748', 'feature_749', 'feature_750', 'feature_751', 'feature_752', 'feature_753', 'feature_754', 'feature_755', 'feature_756', 'feature_757', 'feature_758', 'feature_759', 'feature_760', 'feature_761', 'feature_762', 'feature_763', 'feature_764', 'feature_765', 'feature_766', 'feature_767', 'feature_768']\n"
          ]
        }
      ],
      "source": [
        "#constants\n",
        "L1 = 'label_1'\n",
        "L2 = 'label_2'\n",
        "L3 = 'label_3'\n",
        "L4 = 'label_4'\n",
        "\n",
        "LABELS = [L1, L2, L3, L4]\n",
        "FEATURES = [f\"feature_{i}\" for i in range (1,769)]\n",
        "ID = \"ID\"\n",
        "\n",
        "print(LABELS)\n",
        "print(FEATURES)"
      ]
    },
    {
      "cell_type": "code",
      "execution_count": 8,
      "metadata": {
        "colab": {
          "base_uri": "https://localhost:8080/",
          "height": 629
        },
        "id": "0cdovANRoMgE",
        "outputId": "e8e51650-9437-4e4e-87db-e1d5fde2b7a2"
      },
      "outputs": [
        {
          "data": {
            "image/png": "[encoded data removed]",
            "text/plain": [
              "<Figure size 1008x720 with 4 Axes>"
            ]
          },
          "metadata": {
            "needs_background": "light"
          },
          "output_type": "display_data"
        }
      ],
      "source": [
        "import matplotlib.pyplot as plt\n",
        "\n",
        "# Plotting each label\n",
        "fig, axs = plt.subplots(2, 2, figsize=(14, 10))\n",
        "\n",
        "for idx, label in enumerate(LABELS):\n",
        "    ax = axs[idx // 2, idx % 2]  # Determines the position of the subplot\n",
        "    train[label].value_counts().plot(kind='bar', ax=ax)\n",
        "    ax.set_title(f'Distribution of {label}')\n",
        "    ax.set_ylabel('Count')\n",
        "    ax.set_xlabel(label)\n",
        "\n",
        "plt.tight_layout()\n",
        "plt.show()"
      ]
    },
    {
      "cell_type": "code",
      "execution_count": 7,
      "metadata": {
        "id": "H9KvehOXoOIm"
      },
      "outputs": [],
      "source": [
        "x_train = {}\n",
        "y_train = {}\n",
        "x_valid = {}\n",
        "y_valid = {}\n",
        "x_test = {}\n",
        "y_test = {}"
      ]
    },
    {
      "cell_type": "markdown",
      "metadata": {
        "id": "NZDuWovJoQeL"
      },
      "source": [
        "### **Data Preprocess**\n",
        "\n",
        "\n",
        "*   Drop NaN from label 2\n",
        "*   Random oversample label 4"
      ]
    },
    {
      "cell_type": "code",
      "execution_count": 13,
      "metadata": {
        "colab": {
          "base_uri": "https://localhost:8080/"
        },
        "id": "XBJgsAvopOW5",
        "outputId": "dea69cd0-7afe-45d8-f1cb-9abb59659a57"
      },
      "outputs": [],
      "source": [
        "#!pip install imbalanced-learn"
      ]
    },
    {
      "cell_type": "code",
      "execution_count": 11,
      "metadata": {
        "id": "wx7X5sFrpPIp"
      },
      "outputs": [],
      "source": [
        "from imblearn.over_sampling import RandomOverSampler\n",
        "from collections import Counter"
      ]
    },
    {
      "cell_type": "code",
      "execution_count": 15,
      "metadata": {
        "id": "wijuCD4nunxd"
      },
      "outputs": [],
      "source": [
        "# Initialize the RandomOverSampler\n",
        "ros = RandomOverSampler(random_state=42)"
      ]
    },
    {
      "cell_type": "code",
      "execution_count": 8,
      "metadata": {
        "id": "hjeiy0Dsusx0"
      },
      "outputs": [],
      "source": [
        "from sklearn.preprocessing import RobustScaler"
      ]
    },
    {
      "cell_type": "code",
      "execution_count": 9,
      "metadata": {
        "id": "fxHQQR76oZeq"
      },
      "outputs": [],
      "source": [
        "for target_label in LABELS:\n",
        "  train_ds = train[train['label_2'].notna()] if target_label == 'label_2' else train\n",
        "  valid_ds = valid[valid['label_2'].notna()] if target_label == 'label_2' else valid\n",
        "  test_ds = test[test['label_2'].notna()] if target_label == 'label_2' else test\n",
        "\n",
        "  scaler = RobustScaler()\n",
        "  x_train[target_label] = pd.DataFrame(scaler.fit_transform(train_ds.drop(LABELS, axis = 1)), columns=FEATURES)\n",
        "  y_train[target_label] = train_ds[target_label]\n",
        "\n",
        "  x_valid[target_label] = pd.DataFrame(scaler.transform(valid_ds.drop(LABELS, axis = 1)), columns=FEATURES)\n",
        "  y_valid[target_label] = valid_ds[target_label]\n",
        "\n",
        "  x_test[target_label] = pd.DataFrame(scaler.transform(test_ds.drop(LABELS, axis = 1)), columns=FEATURES)"
      ]
    },
    {
      "cell_type": "code",
      "execution_count": 18,
      "metadata": {
        "colab": {
          "base_uri": "https://localhost:8080/"
        },
        "id": "A_SBy4EIuw2s",
        "outputId": "79362ce2-e095-435d-eaee-11e928901536"
      },
      "outputs": [],
      "source": [
        "# # Apply random oversampling specifically when target_label is 'label_4'\n",
        "# for target_label in LABELS:\n",
        "#     train_ds = train[train['label_2'].notna()] if target_label == 'label_2' else train\n",
        "#     valid_ds = valid[valid['label_2'].notna()] if target_label == 'label_2' else valid\n",
        "#     test_ds = test\n",
        "\n",
        "#     # Apply Random Oversampling only for label_4 (Accent)\n",
        "#     if target_label == 'label_4':\n",
        "#         # Print original class distribution\n",
        "#         print(\"Original class distribution:\", Counter(train_ds['label_4']))\n",
        "\n",
        "#         # Perform Random OverSampling\n",
        "#         X_resampled, y_resampled = ros.fit_resample(train_ds[FEATURES], train_ds['label_4'])\n",
        "\n",
        "#         # Create a new DataFrame from the resampled data\n",
        "#         train_resampled = pd.DataFrame(X_resampled, columns=FEATURES)\n",
        "#         train_resampled['label_4'] = y_resampled\n",
        "\n",
        "#         # If other labels are needed, merge them here\n",
        "#         other_labels = train_ds[LABELS].drop('label_4', axis=1).reset_index(drop=True)\n",
        "#         train_resampled = pd.concat([train_resampled, other_labels], axis=1)\n",
        "\n",
        "#         # Print new class distribution\n",
        "#         print(\"New class distribution:\", Counter(train_resampled['label_4']))\n",
        "\n",
        "#         # Use train_resampled for subsequent steps involving label_4\n",
        "#         train_ds = train_resampled\n",
        "\n",
        "#     scaler = RobustScaler()\n",
        "#     x_train[target_label] = pd.DataFrame(scaler.fit_transform(train_ds[FEATURES]), columns=FEATURES)\n",
        "#     y_train[target_label] = train_ds[target_label]\n",
        "\n",
        "#     x_valid[target_label] = pd.DataFrame(scaler.transform(valid_ds[FEATURES]), columns=FEATURES)\n",
        "#     y_valid[target_label] = valid_ds[target_label]\n"
      ]
    },
    {
      "cell_type": "code",
      "execution_count": 88,
      "metadata": {
        "colab": {
          "base_uri": "https://localhost:8080/",
          "height": 629
        },
        "id": "Ww1QIpVioWW5",
        "outputId": "cbe613db-df83-4074-fa5a-85001d5589a3"
      },
      "outputs": [
        {
          "data": {
            "image/png": "[encoded data removed]",
            "text/plain": [
              "<Figure size 1008x720 with 4 Axes>"
            ]
          },
          "metadata": {
            "needs_background": "light"
          },
          "output_type": "display_data"
        }
      ],
      "source": [
        "import matplotlib.pyplot as plt\n",
        "\n",
        "# Plotting each label\n",
        "fig, axs = plt.subplots(2, 2, figsize=(14, 10))\n",
        "\n",
        "for idx, label in enumerate(LABELS):\n",
        "    ax = axs[idx // 2, idx % 2]  # Determines the position of the subplot\n",
        "    train_ds[label].value_counts().plot(kind='bar', ax=ax)\n",
        "    ax.set_title(f'Distribution of {label}')\n",
        "    ax.set_ylabel('Count')\n",
        "    ax.set_xlabel(label)\n",
        "\n",
        "plt.tight_layout()\n",
        "plt.show()"
      ]
    },
    {
      "cell_type": "code",
      "execution_count": 89,
      "metadata": {
        "id": "pZeG0MmdobH0"
      },
      "outputs": [],
      "source": [
        "# x_test = pd.DataFrame(scaler.transform(test_ds.drop(ID, axis =1)), columns=FEATURES)\n",
        "y_test = test_ds"
      ]
    },
    {
      "cell_type": "code",
      "execution_count": 15,
      "metadata": {
        "id": "YhjpOtC8_atB"
      },
      "outputs": [],
      "source": [
        "id = test_ds[ID]"
      ]
    },
    {
      "cell_type": "code",
      "execution_count": 16,
      "metadata": {
        "colab": {
          "base_uri": "https://localhost:8080/"
        },
        "id": "ueZRoWwl_bl1",
        "outputId": "bb034258-ec5d-4224-b404-992bd942a8d9"
      },
      "outputs": [
        {
          "data": {
            "text/plain": [
              "0        1\n",
              "1        2\n",
              "2        3\n",
              "3        4\n",
              "4        5\n",
              "      ... \n",
              "739    740\n",
              "740    741\n",
              "741    742\n",
              "742    743\n",
              "743    744\n",
              "Name: ID, Length: 744, dtype: int64"
            ]
          },
          "execution_count": 16,
          "metadata": {},
          "output_type": "execute_result"
        }
      ],
      "source": [
        "id"
      ]
    },
    {
      "cell_type": "markdown",
      "metadata": {
        "id": "XgGhaTAyoc0e"
      },
      "source": [
        "# Label 1"
      ]
    },
    {
      "cell_type": "code",
      "execution_count": 90,
      "metadata": {
        "id": "UBo02JADogG5"
      },
      "outputs": [
        {
          "data": {
            "text/html": [
              "<style>#sk-container-id-6 {color: black;}#sk-container-id-6 pre{padding: 0;}#sk-container-id-6 div.sk-toggleable {background-color: white;}#sk-container-id-6 label.sk-toggleable__label {cursor: pointer;display: block;width: 100%;margin-bottom: 0;padding: 0.3em;box-sizing: border-box;text-align: center;}#sk-container-id-6 label.sk-toggleable__label-arrow:before {content: \"▸\";float: left;margin-right: 0.25em;color: #696969;}#sk-container-id-6 label.sk-toggleable__label-arrow:hover:before {color: black;}#sk-container-id-6 div.sk-estimator:hover label.sk-toggleable__label-arrow:before {color: black;}#sk-container-id-6 div.sk-toggleable__content {max-height: 0;max-width: 0;overflow: hidden;text-align: left;background-color: #f0f8ff;}#sk-container-id-6 div.sk-toggleable__content pre {margin: 0.2em;color: black;border-radius: 0.25em;background-color: #f0f8ff;}#sk-container-id-6 input.sk-toggleable__control:checked~div.sk-toggleable__content {max-height: 200px;max-width: 100%;overflow: auto;}#sk-container-id-6 input.sk-toggleable__control:checked~label.sk-toggleable__label-arrow:before {content: \"▾\";}#sk-container-id-6 div.sk-estimator input.sk-toggleable__control:checked~label.sk-toggleable__label {background-color: #d4ebff;}#sk-container-id-6 div.sk-label input.sk-toggleable__control:checked~label.sk-toggleable__label {background-color: #d4ebff;}#sk-container-id-6 input.sk-hidden--visually {border: 0;clip: rect(1px 1px 1px 1px);clip: rect(1px, 1px, 1px, 1px);height: 1px;margin: -1px;overflow: hidden;padding: 0;position: absolute;width: 1px;}#sk-container-id-6 div.sk-estimator {font-family: monospace;background-color: #f0f8ff;border: 1px dotted black;border-radius: 0.25em;box-sizing: border-box;margin-bottom: 0.5em;}#sk-container-id-6 div.sk-estimator:hover {background-color: #d4ebff;}#sk-container-id-6 div.sk-parallel-item::after {content: \"\";width: 100%;border-bottom: 1px solid gray;flex-grow: 1;}#sk-container-id-6 div.sk-label:hover label.sk-toggleable__label {background-color: #d4ebff;}#sk-container-id-6 div.sk-serial::before {content: \"\";position: absolute;border-left: 1px solid gray;box-sizing: border-box;top: 0;bottom: 0;left: 50%;z-index: 0;}#sk-container-id-6 div.sk-serial {display: flex;flex-direction: column;align-items: center;background-color: white;padding-right: 0.2em;padding-left: 0.2em;position: relative;}#sk-container-id-6 div.sk-item {position: relative;z-index: 1;}#sk-container-id-6 div.sk-parallel {display: flex;align-items: stretch;justify-content: center;background-color: white;position: relative;}#sk-container-id-6 div.sk-item::before, #sk-container-id-6 div.sk-parallel-item::before {content: \"\";position: absolute;border-left: 1px solid gray;box-sizing: border-box;top: 0;bottom: 0;left: 50%;z-index: -1;}#sk-container-id-6 div.sk-parallel-item {display: flex;flex-direction: column;z-index: 1;position: relative;background-color: white;}#sk-container-id-6 div.sk-parallel-item:first-child::after {align-self: flex-end;width: 50%;}#sk-container-id-6 div.sk-parallel-item:last-child::after {align-self: flex-start;width: 50%;}#sk-container-id-6 div.sk-parallel-item:only-child::after {width: 0;}#sk-container-id-6 div.sk-dashed-wrapped {border: 1px dashed gray;margin: 0 0.4em 0.5em 0.4em;box-sizing: border-box;padding-bottom: 0.4em;background-color: white;}#sk-container-id-6 div.sk-label label {font-family: monospace;font-weight: bold;display: inline-block;line-height: 1.2em;}#sk-container-id-6 div.sk-label-container {text-align: center;}#sk-container-id-6 div.sk-container {/* jupyter's `normalize.less` sets `[hidden] { display: none; }` but bootstrap.min.css set `[hidden] { display: none !important; }` so we also need the `!important` here to be able to override the default hidden behavior on the sphinx rendered scikit-learn.org. See: https://github.com/scikit-learn/scikit-learn/issues/21755 */display: inline-block !important;position: relative;}#sk-container-id-6 div.sk-text-repr-fallback {display: none;}</style><div id=\"sk-container-id-6\" class=\"sk-top-container\"><div class=\"sk-text-repr-fallback\"><pre>SVC(kernel=&#x27;linear&#x27;)</pre><b>In a Jupyter environment, please rerun this cell to show the HTML representation or trust the notebook. <br />On GitHub, the HTML representation is unable to render, please try loading this page with nbviewer.org.</b></div><div class=\"sk-container\" hidden><div class=\"sk-item\"><div class=\"sk-estimator sk-toggleable\"><input class=\"sk-toggleable__control sk-hidden--visually\" id=\"sk-estimator-id-8\" type=\"checkbox\" checked><label for=\"sk-estimator-id-8\" class=\"sk-toggleable__label sk-toggleable__label-arrow\">SVC</label><div class=\"sk-toggleable__content\"><pre>SVC(kernel=&#x27;linear&#x27;)</pre></div></div></div></div></div>"
            ],
            "text/plain": [
              "SVC(kernel='linear')"
            ]
          },
          "execution_count": 90,
          "metadata": {},
          "output_type": "execute_result"
        }
      ],
      "source": [
        "from sklearn import svm\n",
        "\n",
        "clf_L1 = svm.SVC(kernel = 'linear')\n",
        "clf_L1.fit(x_train[L1], y_train[L1])"
      ]
    },
    {
      "cell_type": "code",
      "execution_count": 91,
      "metadata": {
        "id": "_B_R4AFcoicm"
      },
      "outputs": [],
      "source": [
        "from sklearn import metrics\n",
        "\n",
        "y_pred_L1 = clf_L1.predict(x_valid[L1])\n",
        "y_pred_test_before_L1 = clf_L1.predict(x_test[L1])"
      ]
    },
    {
      "cell_type": "code",
      "execution_count": 92,
      "metadata": {
        "id": "vied0jg6ojqg"
      },
      "outputs": [
        {
          "name": "stdout",
          "output_type": "stream",
          "text": [
            "Predicted labels before feature engineering: [45 45 45 45 45 45  5  5  5  5  5  5  5  5  5  5  5  5 60 60 60 60 60 60\n",
            " 60 60 19 19 19 19  4  8 19 19  1 19 19 19 19 19 19 19 11 11 11 11 11 11\n",
            " 11 11 11 11 11 11 52 52 52 52 52 52 52 52 52 52 52 25 25 25 25 25 25 25\n",
            " 25 25 25 46 46 47 46 46 46 46 46 46 46 46 46 46 46 46 46 46 46 46 46 59\n",
            " 51 51 51 51 51 51 51 51 30 51 51 51 21 51 51 51 35 35 35 35 35 42 35 35\n",
            " 56 56 56 56 56 56 56 56 56 56 56 53 53 53 53 53 53 53 53 53 53  3  3  3\n",
            "  3  3  3  3  3  3  3 40 40 40 40 40 25 40 29 40 40 40 40 40 40 40 43 43\n",
            " 43 43 43 43 43 43 43 43 43 58 58 58 58 58 58 58 58 44 37 21 44 44 44 44\n",
            " 44 44 44 44 44 44 44 37 37 37 37 25 37 37 37 37 37 37 37 37 37 37 37 37\n",
            " 55 55 55 55 55 23 55 55 55 55 20 55 55 55 55 55 55 17 17 17 17 17 17 17\n",
            " 17 20 17 17 17 17  2  2  2  2  2  2  2  2  2  2  2  2 47 47 47 47 47 52\n",
            " 47 47 47 56 47 47 47 54 54 54 54 54 54 54 54 11 54 54 21 21 21 21 21 21\n",
            " 21 21 21 21 21 21 34 27 34 34 34 34 34 34 34 23 23 23 23 23 23 23 35 23\n",
            " 23 23 23 23 10 10 10 10 10 10 10 10 10 10 10 28 28 28 28 28 28 28 28 28\n",
            " 28 28 14 28 28 28 20 20 20 20 20 20 20 20 20 25 20 20  7  7  7  7  7  7\n",
            "  7  7  7  7  6  6  6  6  6  6  6  6  6 19  6  6  4  4  4  4  4  4  4  4\n",
            "  4  4 48 55 48 48 48 48 48 48 41 32 31 32 32 32 32 32 32 32 32 32 32 32\n",
            " 32 32 32 12 12 12 12 12 12 12 12 22 22 22 22 22 22 22 22 22 22 22 22 22\n",
            " 38 38 38 38 54 38 38 38 38 38 38 38 38 36 36 36 36 36 36 36  7 36 36 36\n",
            " 36 36 36 36 59 59 59 59 59 59 59 59 59 59 59 50 50 50 50 50 50 50 49 50\n",
            " 50  7 50 50 50 50 31 50 50 50 50 50 14 14 14 14 14  1 38 15 15 15 15 15\n",
            " 15 15 15 15 15 15 15 24 24 24 24 24 24 13 13 13 13 13 13 13  3 13 13 13\n",
            " 13 29 60 29 29 29 29  7 29 29 29 29 29 29 29 29 29 18 18 18 18 18 18 18\n",
            " 18 18 18 18 18 18 18 18 18  1  1  1  1  1  1  1  1  1 14  9  9 46  9  9\n",
            "  9  9  9  9 49 49 49 49 20 49 49 49 49 49 49  7 41 27 27 27 32 27 27 27\n",
            " 27 27 27 27 27 42 42 42 42 42 42 42 42 42 26 26 26 26 26 26 26 26 26 26\n",
            " 41 41 41 41 41 41 41 41 41 41 57 57 57 57 57 57 57 57 28 57 57 57 57 57\n",
            " 57 57 57  8  8  8  8  8  8  8  8  8  4  8  8  8  8 33 33 33 33 33 33 33\n",
            " 33 33 33 33 33 33 33 33 45 29 31 31 31 31 31 31 31 24  8 31 22 31 31 31\n",
            " 31 31 31 31 16 16 16 16 16 16  7 16 16 16 16 16 16 16 16 16 16 16 16 30\n",
            " 30 30 30 30 30 30 30 30 21 30 30 30 30 30 30 39 39 39 39 39 39 39 39 39\n",
            " 39 39 39 39 39 39]\n"
          ]
        }
      ],
      "source": [
        "print('Predicted labels before feature engineering:', y_pred_test_before_L1)"
      ]
    },
    {
      "cell_type": "code",
      "execution_count": 93,
      "metadata": {
        "id": "nUD9xQIQolGv"
      },
      "outputs": [
        {
          "name": "stdout",
          "output_type": "stream",
          "text": [
            "[[13  0  0 ...  0  0  0]\n",
            " [ 0  8  1 ...  0  0  0]\n",
            " [ 0  0 12 ...  0  0  0]\n",
            " ...\n",
            " [ 0  0  0 ... 20  0  0]\n",
            " [ 0  0  0 ...  0  9  0]\n",
            " [ 0  0  0 ...  0  0  8]]\n",
            "0.932\n",
            "0.9372857498424062\n",
            "0.932\n"
          ]
        }
      ],
      "source": [
        "print (metrics.confusion_matrix(y_valid[L1], y_pred_L1))\n",
        "print (metrics.accuracy_score(y_valid[L1], y_pred_L1))\n",
        "print (metrics.precision_score(y_valid[L1], y_pred_L1, average=\"weighted\"))\n",
        "print (metrics.recall_score(y_valid[L1], y_pred_L1, average=\"weighted\"))"
      ]
    },
    {
      "cell_type": "markdown",
      "metadata": {
        "id": "K3uk1SQSo_Ww"
      },
      "source": [
        "## Feature Engineering"
      ]
    },
    {
      "cell_type": "markdown",
      "metadata": {
        "id": "m2PL7faUpD5h"
      },
      "source": [
        "### PCA"
      ]
    },
    {
      "cell_type": "code",
      "execution_count": 38,
      "metadata": {
        "id": "abPZHCGIrqW6"
      },
      "outputs": [],
      "source": [
        "from sklearn.decomposition import PCA"
      ]
    },
    {
      "cell_type": "code",
      "execution_count": 39,
      "metadata": {
        "id": "8wvAwINqpBoA"
      },
      "outputs": [
        {
          "name": "stdout",
          "output_type": "stream",
          "text": [
            "Shape after PCA:  (28520, 148)\n"
          ]
        }
      ],
      "source": [
        "pca_L1 = PCA(n_components=0.95, svd_solver='full')\n",
        "pca_L1.fit(x_train[L1])\n",
        "x_train_trf_L1 = pd.DataFrame(pca_L1.transform(x_train[L1]))\n",
        "x_valid_trf_L1 = pd.DataFrame(pca_L1.transform(x_valid[L1]))\n",
        "\n",
        "print(\"Shape after PCA: \", x_train_trf_L1.shape)"
      ]
    },
    {
      "cell_type": "code",
      "execution_count": 40,
      "metadata": {},
      "outputs": [],
      "source": [
        "x_test_trf_L1 = pd.DataFrame(pca_L1.transform(x_test[L1]))"
      ]
    },
    {
      "cell_type": "code",
      "execution_count": 97,
      "metadata": {
        "id": "dedTxQQApFsg"
      },
      "outputs": [
        {
          "data": {
            "text/html": [
              "<style>#sk-container-id-7 {color: black;}#sk-container-id-7 pre{padding: 0;}#sk-container-id-7 div.sk-toggleable {background-color: white;}#sk-container-id-7 label.sk-toggleable__label {cursor: pointer;display: block;width: 100%;margin-bottom: 0;padding: 0.3em;box-sizing: border-box;text-align: center;}#sk-container-id-7 label.sk-toggleable__label-arrow:before {content: \"▸\";float: left;margin-right: 0.25em;color: #696969;}#sk-container-id-7 label.sk-toggleable__label-arrow:hover:before {color: black;}#sk-container-id-7 div.sk-estimator:hover label.sk-toggleable__label-arrow:before {color: black;}#sk-container-id-7 div.sk-toggleable__content {max-height: 0;max-width: 0;overflow: hidden;text-align: left;background-color: #f0f8ff;}#sk-container-id-7 div.sk-toggleable__content pre {margin: 0.2em;color: black;border-radius: 0.25em;background-color: #f0f8ff;}#sk-container-id-7 input.sk-toggleable__control:checked~div.sk-toggleable__content {max-height: 200px;max-width: 100%;overflow: auto;}#sk-container-id-7 input.sk-toggleable__control:checked~label.sk-toggleable__label-arrow:before {content: \"▾\";}#sk-container-id-7 div.sk-estimator input.sk-toggleable__control:checked~label.sk-toggleable__label {background-color: #d4ebff;}#sk-container-id-7 div.sk-label input.sk-toggleable__control:checked~label.sk-toggleable__label {background-color: #d4ebff;}#sk-container-id-7 input.sk-hidden--visually {border: 0;clip: rect(1px 1px 1px 1px);clip: rect(1px, 1px, 1px, 1px);height: 1px;margin: -1px;overflow: hidden;padding: 0;position: absolute;width: 1px;}#sk-container-id-7 div.sk-estimator {font-family: monospace;background-color: #f0f8ff;border: 1px dotted black;border-radius: 0.25em;box-sizing: border-box;margin-bottom: 0.5em;}#sk-container-id-7 div.sk-estimator:hover {background-color: #d4ebff;}#sk-container-id-7 div.sk-parallel-item::after {content: \"\";width: 100%;border-bottom: 1px solid gray;flex-grow: 1;}#sk-container-id-7 div.sk-label:hover label.sk-toggleable__label {background-color: #d4ebff;}#sk-container-id-7 div.sk-serial::before {content: \"\";position: absolute;border-left: 1px solid gray;box-sizing: border-box;top: 0;bottom: 0;left: 50%;z-index: 0;}#sk-container-id-7 div.sk-serial {display: flex;flex-direction: column;align-items: center;background-color: white;padding-right: 0.2em;padding-left: 0.2em;position: relative;}#sk-container-id-7 div.sk-item {position: relative;z-index: 1;}#sk-container-id-7 div.sk-parallel {display: flex;align-items: stretch;justify-content: center;background-color: white;position: relative;}#sk-container-id-7 div.sk-item::before, #sk-container-id-7 div.sk-parallel-item::before {content: \"\";position: absolute;border-left: 1px solid gray;box-sizing: border-box;top: 0;bottom: 0;left: 50%;z-index: -1;}#sk-container-id-7 div.sk-parallel-item {display: flex;flex-direction: column;z-index: 1;position: relative;background-color: white;}#sk-container-id-7 div.sk-parallel-item:first-child::after {align-self: flex-end;width: 50%;}#sk-container-id-7 div.sk-parallel-item:last-child::after {align-self: flex-start;width: 50%;}#sk-container-id-7 div.sk-parallel-item:only-child::after {width: 0;}#sk-container-id-7 div.sk-dashed-wrapped {border: 1px dashed gray;margin: 0 0.4em 0.5em 0.4em;box-sizing: border-box;padding-bottom: 0.4em;background-color: white;}#sk-container-id-7 div.sk-label label {font-family: monospace;font-weight: bold;display: inline-block;line-height: 1.2em;}#sk-container-id-7 div.sk-label-container {text-align: center;}#sk-container-id-7 div.sk-container {/* jupyter's `normalize.less` sets `[hidden] { display: none; }` but bootstrap.min.css set `[hidden] { display: none !important; }` so we also need the `!important` here to be able to override the default hidden behavior on the sphinx rendered scikit-learn.org. See: https://github.com/scikit-learn/scikit-learn/issues/21755 */display: inline-block !important;position: relative;}#sk-container-id-7 div.sk-text-repr-fallback {display: none;}</style><div id=\"sk-container-id-7\" class=\"sk-top-container\"><div class=\"sk-text-repr-fallback\"><pre>SVC(kernel=&#x27;linear&#x27;)</pre><b>In a Jupyter environment, please rerun this cell to show the HTML representation or trust the notebook. <br />On GitHub, the HTML representation is unable to render, please try loading this page with nbviewer.org.</b></div><div class=\"sk-container\" hidden><div class=\"sk-item\"><div class=\"sk-estimator sk-toggleable\"><input class=\"sk-toggleable__control sk-hidden--visually\" id=\"sk-estimator-id-9\" type=\"checkbox\" checked><label for=\"sk-estimator-id-9\" class=\"sk-toggleable__label sk-toggleable__label-arrow\">SVC</label><div class=\"sk-toggleable__content\"><pre>SVC(kernel=&#x27;linear&#x27;)</pre></div></div></div></div></div>"
            ],
            "text/plain": [
              "SVC(kernel='linear')"
            ]
          },
          "execution_count": 97,
          "metadata": {},
          "output_type": "execute_result"
        }
      ],
      "source": [
        "clf_L1 = svm.SVC(kernel = 'linear')\n",
        "clf_L1.fit(x_train_trf_L1, y_train[L1])"
      ]
    },
    {
      "cell_type": "code",
      "execution_count": 98,
      "metadata": {
        "id": "xkjEZQRBpkYN"
      },
      "outputs": [
        {
          "name": "stdout",
          "output_type": "stream",
          "text": [
            "[[13  0  0 ...  0  0  0]\n",
            " [ 1  7  1 ...  0  0  0]\n",
            " [ 0  0 12 ...  0  0  0]\n",
            " ...\n",
            " [ 0  0  0 ... 20  0  0]\n",
            " [ 0  0  0 ...  0  9  0]\n",
            " [ 0  0  0 ...  0  1  6]]\n",
            "0.8773333333333333\n",
            "0.8866689919013448\n",
            "0.8773333333333333\n"
          ]
        }
      ],
      "source": [
        "y_pred_L1 = clf_L1.predict(x_valid_trf_L1)\n",
        "\n",
        "print (metrics.confusion_matrix(y_valid[L1], y_pred_L1))\n",
        "print (metrics.accuracy_score(y_valid[L1], y_pred_L1))\n",
        "print (metrics.precision_score(y_valid[L1], y_pred_L1, average=\"weighted\"))\n",
        "print (metrics.recall_score(y_valid[L1], y_pred_L1, average=\"weighted\"))"
      ]
    },
    {
      "cell_type": "markdown",
      "metadata": {
        "id": "UjLy0aUmrtM1"
      },
      "source": [
        "### PCA with Hyper-parameter Tuning and Cross Validation"
      ]
    },
    {
      "cell_type": "code",
      "execution_count": 99,
      "metadata": {
        "id": "F2Ns-HUUw1Gi"
      },
      "outputs": [],
      "source": [
        "from sklearn.model_selection import RandomizedSearchCV\n",
        "from sklearn.metrics import accuracy_score"
      ]
    },
    {
      "cell_type": "code",
      "execution_count": 100,
      "metadata": {
        "id": "dxgx4-DtrmOz"
      },
      "outputs": [],
      "source": [
        "# Define the model\n",
        "svc_L1 = svm.SVC()"
      ]
    },
    {
      "cell_type": "code",
      "execution_count": 101,
      "metadata": {
        "id": "pPXwGgTjrvbl"
      },
      "outputs": [],
      "source": [
        "# Parameters to search\n",
        "param_distributions_L1 = {\n",
        "    'C': np.logspace(-3, 3, 7),  # logarithmic scale from 0.001 to 1000\n",
        "    'kernel': ['linear', 'rbf', 'poly'],\n",
        "    'gamma': np.logspace(-3, 3, 7)\n",
        "}"
      ]
    },
    {
      "cell_type": "markdown",
      "metadata": {},
      "source": [
        "**Wrong**"
      ]
    },
    {
      "cell_type": "code",
      "execution_count": 35,
      "metadata": {
        "id": "cwKuH85Rrwom"
      },
      "outputs": [
        {
          "name": "stdout",
          "output_type": "stream",
          "text": [
            "Fitting 5 folds for each of 5 candidates, totalling 25 fits\n"
          ]
        },
        {
          "data": {
            "text/html": [
              "<style>#sk-container-id-3 {color: black;}#sk-container-id-3 pre{padding: 0;}#sk-container-id-3 div.sk-toggleable {background-color: white;}#sk-container-id-3 label.sk-toggleable__label {cursor: pointer;display: block;width: 100%;margin-bottom: 0;padding: 0.3em;box-sizing: border-box;text-align: center;}#sk-container-id-3 label.sk-toggleable__label-arrow:before {content: \"▸\";float: left;margin-right: 0.25em;color: #696969;}#sk-container-id-3 label.sk-toggleable__label-arrow:hover:before {color: black;}#sk-container-id-3 div.sk-estimator:hover label.sk-toggleable__label-arrow:before {color: black;}#sk-container-id-3 div.sk-toggleable__content {max-height: 0;max-width: 0;overflow: hidden;text-align: left;background-color: #f0f8ff;}#sk-container-id-3 div.sk-toggleable__content pre {margin: 0.2em;color: black;border-radius: 0.25em;background-color: #f0f8ff;}#sk-container-id-3 input.sk-toggleable__control:checked~div.sk-toggleable__content {max-height: 200px;max-width: 100%;overflow: auto;}#sk-container-id-3 input.sk-toggleable__control:checked~label.sk-toggleable__label-arrow:before {content: \"▾\";}#sk-container-id-3 div.sk-estimator input.sk-toggleable__control:checked~label.sk-toggleable__label {background-color: #d4ebff;}#sk-container-id-3 div.sk-label input.sk-toggleable__control:checked~label.sk-toggleable__label {background-color: #d4ebff;}#sk-container-id-3 input.sk-hidden--visually {border: 0;clip: rect(1px 1px 1px 1px);clip: rect(1px, 1px, 1px, 1px);height: 1px;margin: -1px;overflow: hidden;padding: 0;position: absolute;width: 1px;}#sk-container-id-3 div.sk-estimator {font-family: monospace;background-color: #f0f8ff;border: 1px dotted black;border-radius: 0.25em;box-sizing: border-box;margin-bottom: 0.5em;}#sk-container-id-3 div.sk-estimator:hover {background-color: #d4ebff;}#sk-container-id-3 div.sk-parallel-item::after {content: \"\";width: 100%;border-bottom: 1px solid gray;flex-grow: 1;}#sk-container-id-3 div.sk-label:hover label.sk-toggleable__label {background-color: #d4ebff;}#sk-container-id-3 div.sk-serial::before {content: \"\";position: absolute;border-left: 1px solid gray;box-sizing: border-box;top: 0;bottom: 0;left: 50%;z-index: 0;}#sk-container-id-3 div.sk-serial {display: flex;flex-direction: column;align-items: center;background-color: white;padding-right: 0.2em;padding-left: 0.2em;position: relative;}#sk-container-id-3 div.sk-item {position: relative;z-index: 1;}#sk-container-id-3 div.sk-parallel {display: flex;align-items: stretch;justify-content: center;background-color: white;position: relative;}#sk-container-id-3 div.sk-item::before, #sk-container-id-3 div.sk-parallel-item::before {content: \"\";position: absolute;border-left: 1px solid gray;box-sizing: border-box;top: 0;bottom: 0;left: 50%;z-index: -1;}#sk-container-id-3 div.sk-parallel-item {display: flex;flex-direction: column;z-index: 1;position: relative;background-color: white;}#sk-container-id-3 div.sk-parallel-item:first-child::after {align-self: flex-end;width: 50%;}#sk-container-id-3 div.sk-parallel-item:last-child::after {align-self: flex-start;width: 50%;}#sk-container-id-3 div.sk-parallel-item:only-child::after {width: 0;}#sk-container-id-3 div.sk-dashed-wrapped {border: 1px dashed gray;margin: 0 0.4em 0.5em 0.4em;box-sizing: border-box;padding-bottom: 0.4em;background-color: white;}#sk-container-id-3 div.sk-label label {font-family: monospace;font-weight: bold;display: inline-block;line-height: 1.2em;}#sk-container-id-3 div.sk-label-container {text-align: center;}#sk-container-id-3 div.sk-container {/* jupyter's `normalize.less` sets `[hidden] { display: none; }` but bootstrap.min.css set `[hidden] { display: none !important; }` so we also need the `!important` here to be able to override the default hidden behavior on the sphinx rendered scikit-learn.org. See: https://github.com/scikit-learn/scikit-learn/issues/21755 */display: inline-block !important;position: relative;}#sk-container-id-3 div.sk-text-repr-fallback {display: none;}</style><div id=\"sk-container-id-3\" class=\"sk-top-container\"><div class=\"sk-text-repr-fallback\"><pre>RandomizedSearchCV(cv=5, estimator=SVC(), n_iter=5, n_jobs=-1,\n",
              "                   param_distributions={&#x27;C&#x27;: array([1.e-03, 1.e-02, 1.e-01, 1.e+00, 1.e+01, 1.e+02, 1.e+03]),\n",
              "                                        &#x27;gamma&#x27;: array([1.e-03, 1.e-02, 1.e-01, 1.e+00, 1.e+01, 1.e+02, 1.e+03]),\n",
              "                                        &#x27;kernel&#x27;: [&#x27;linear&#x27;, &#x27;rbf&#x27;, &#x27;poly&#x27;]},\n",
              "                   random_state=42, scoring=&#x27;accuracy&#x27;, verbose=2)</pre><b>In a Jupyter environment, please rerun this cell to show the HTML representation or trust the notebook. <br />On GitHub, the HTML representation is unable to render, please try loading this page with nbviewer.org.</b></div><div class=\"sk-container\" hidden><div class=\"sk-item sk-dashed-wrapped\"><div class=\"sk-label-container\"><div class=\"sk-label sk-toggleable\"><input class=\"sk-toggleable__control sk-hidden--visually\" id=\"sk-estimator-id-3\" type=\"checkbox\" ><label for=\"sk-estimator-id-3\" class=\"sk-toggleable__label sk-toggleable__label-arrow\">RandomizedSearchCV</label><div class=\"sk-toggleable__content\"><pre>RandomizedSearchCV(cv=5, estimator=SVC(), n_iter=5, n_jobs=-1,\n",
              "                   param_distributions={&#x27;C&#x27;: array([1.e-03, 1.e-02, 1.e-01, 1.e+00, 1.e+01, 1.e+02, 1.e+03]),\n",
              "                                        &#x27;gamma&#x27;: array([1.e-03, 1.e-02, 1.e-01, 1.e+00, 1.e+01, 1.e+02, 1.e+03]),\n",
              "                                        &#x27;kernel&#x27;: [&#x27;linear&#x27;, &#x27;rbf&#x27;, &#x27;poly&#x27;]},\n",
              "                   random_state=42, scoring=&#x27;accuracy&#x27;, verbose=2)</pre></div></div></div><div class=\"sk-parallel\"><div class=\"sk-parallel-item\"><div class=\"sk-item\"><div class=\"sk-label-container\"><div class=\"sk-label sk-toggleable\"><input class=\"sk-toggleable__control sk-hidden--visually\" id=\"sk-estimator-id-4\" type=\"checkbox\" ><label for=\"sk-estimator-id-4\" class=\"sk-toggleable__label sk-toggleable__label-arrow\">estimator: SVC</label><div class=\"sk-toggleable__content\"><pre>SVC()</pre></div></div></div><div class=\"sk-serial\"><div class=\"sk-item\"><div class=\"sk-estimator sk-toggleable\"><input class=\"sk-toggleable__control sk-hidden--visually\" id=\"sk-estimator-id-5\" type=\"checkbox\" ><label for=\"sk-estimator-id-5\" class=\"sk-toggleable__label sk-toggleable__label-arrow\">SVC</label><div class=\"sk-toggleable__content\"><pre>SVC()</pre></div></div></div></div></div></div></div></div></div></div>"
            ],
            "text/plain": [
              "RandomizedSearchCV(cv=5, estimator=SVC(), n_iter=5, n_jobs=-1,\n",
              "                   param_distributions={'C': array([1.e-03, 1.e-02, 1.e-01, 1.e+00, 1.e+01, 1.e+02, 1.e+03]),\n",
              "                                        'gamma': array([1.e-03, 1.e-02, 1.e-01, 1.e+00, 1.e+01, 1.e+02, 1.e+03]),\n",
              "                                        'kernel': ['linear', 'rbf', 'poly']},\n",
              "                   random_state=42, scoring='accuracy', verbose=2)"
            ]
          },
          "execution_count": 35,
          "metadata": {},
          "output_type": "execute_result"
        }
      ],
      "source": [
        "# Randomized search\n",
        "random_search_L1 = RandomizedSearchCV(svc_L1, param_distributions_L1, n_iter=5, cv=5, scoring='accuracy', random_state=42, verbose=2, n_jobs=-1)\n",
        "random_search_L1.fit(x_train[L1], y_train[L1])"
      ]
    },
    {
      "cell_type": "code",
      "execution_count": 36,
      "metadata": {
        "id": "rCTWV1Z_w7wr"
      },
      "outputs": [
        {
          "name": "stdout",
          "output_type": "stream",
          "text": [
            "Best parameters: {'kernel': 'linear', 'gamma': 1.0, 'C': 0.1}\n",
            "Best cross-validation score: 0.9146563814866759\n",
            "Best model: SVC(C=0.1, gamma=1.0, kernel='linear')\n"
          ]
        }
      ],
      "source": [
        "print(f\"Best parameters: {random_search_L1.best_params_}\")\n",
        "print(f\"Best cross-validation score: {random_search_L1.best_score_}\")\n",
        "print(f\"Best model: {random_search_L1.best_estimator_}\")"
      ]
    },
    {
      "cell_type": "code",
      "execution_count": 37,
      "metadata": {
        "id": "vd4IWCxXw9Vl"
      },
      "outputs": [],
      "source": [
        "best_params = random_search_L1.best_params_\n",
        "best_model = random_search_L1.best_estimator_"
      ]
    },
    {
      "cell_type": "code",
      "execution_count": 38,
      "metadata": {
        "id": "2WgBQ5kAw-hn"
      },
      "outputs": [
        {
          "name": "stdout",
          "output_type": "stream",
          "text": [
            "Accuracy on test data:0.9266666666666666\n"
          ]
        }
      ],
      "source": [
        "y_pred = best_model.predict(x_valid[L1])\n",
        "accuracy = accuracy_score(y_valid[L1], y_pred)\n",
        "print(f'Accuracy on test data:{accuracy}')"
      ]
    },
    {
      "cell_type": "code",
      "execution_count": 39,
      "metadata": {
        "id": "pnWQOwq2BlCY"
      },
      "outputs": [],
      "source": [
        "y_pred_L1 = best_model.predict(x_test)"
      ]
    },
    {
      "cell_type": "code",
      "execution_count": 40,
      "metadata": {},
      "outputs": [
        {
          "data": {
            "text/plain": [
              "array([26, 18, 16,  7, 58, 46,  7, 22, 29, 26, 33,  6, 54, 51, 29, 48, 23,\n",
              "        2, 43, 42, 11, 35, 39,  7, 21, 48, 28, 55,  2, 51, 55, 46,  1, 56,\n",
              "       30, 22, 31,  6, 40, 18, 19, 47,  6, 46, 59, 25, 31, 38,  5, 32, 25,\n",
              "       56, 39, 37, 32, 29, 46, 52, 28, 34, 16, 47, 55, 24, 23, 18, 20,  6,\n",
              "       36, 38, 22, 28, 44, 46, 55, 59, 49, 25, 57, 12, 52, 38, 29,  4, 31,\n",
              "       49, 14, 19, 12, 39, 36, 43, 34, 32, 54, 46, 27,  5,  7, 42, 19, 26,\n",
              "       31, 36, 53, 10, 12, 33, 54,  2, 57, 37, 17, 50, 46, 46, 17, 34, 32,\n",
              "       40, 19, 40,  8, 22, 38, 15, 39,  9, 52, 37, 28, 13, 10, 55, 28, 25,\n",
              "       42, 57, 16, 27, 23,  2, 51, 27, 32, 46, 16, 53, 11, 46, 42, 37, 47,\n",
              "       50,  3, 41,  1, 20, 15,  8,  3, 18,  5, 28, 46, 49, 16, 40, 17, 20,\n",
              "       53, 57,  7, 16, 11, 35, 34, 52, 41, 20,  7, 18, 21,  4, 37, 55, 29,\n",
              "       28, 23, 35, 46, 52, 30, 27, 13,  7, 28, 14,  3, 36, 17, 60, 18,  3,\n",
              "       22,  9, 46, 25, 20, 26, 19, 36, 36, 21,  1, 44, 39, 47, 38,  6, 50,\n",
              "       39, 23, 37, 55, 22, 58, 15, 30, 38, 18, 54,  3, 41, 16,  8, 43, 14,\n",
              "        8, 57, 10, 16,  4, 20, 15, 51, 56, 33, 16, 33, 50, 51,  5, 59, 31,\n",
              "        6,  9, 31, 57, 22,  5, 11, 11, 43,  8,  7, 58, 50, 50, 58, 13,  3,\n",
              "       52, 50, 60, 50, 47, 36, 28, 36, 49,  7, 34, 32,  5,  2, 19, 55, 57,\n",
              "       50, 30, 31, 41, 37, 41, 51, 20, 20, 38, 21, 44, 31, 15, 40, 46, 41,\n",
              "       21, 25, 36, 44, 54, 17, 46, 57, 56, 53, 26, 27, 17,  5, 39, 28,  8,\n",
              "       32, 21, 49, 56, 17, 26, 49, 54, 10,  9,  3, 36, 39, 33, 18, 54, 29,\n",
              "       23, 10, 11, 56, 37, 39, 41, 35, 25, 27,  4, 51, 12, 33, 42, 45, 44,\n",
              "       35,  6, 12, 30, 40, 56, 27,  8, 44, 15, 59, 21, 39, 29, 28,  7, 31,\n",
              "        3, 59,  3, 24, 10, 60, 58, 42, 10, 31, 60, 23,  7,  8, 18, 43, 11,\n",
              "       50,  2, 23, 41, 15, 54, 46, 40, 53,  7, 20, 21, 35, 31, 58,  6, 29,\n",
              "       52, 29, 55, 21, 60, 50, 28, 47, 50, 27, 30, 44, 24,  8, 38, 51, 37,\n",
              "       23,  8, 18, 13, 13,  8, 15,  5, 39, 11, 39, 31, 58, 60, 52, 30, 31,\n",
              "        5, 29, 33, 10,  8, 21, 51, 21, 50, 55, 19, 49, 47, 38, 52,  6, 17,\n",
              "       11, 40, 17, 30,  4,  4, 36, 30, 58, 57, 53, 18, 37, 57, 57, 14, 13,\n",
              "       13, 30, 41, 57, 25, 16, 43, 36, 13, 43, 23, 37, 29,  6, 48, 33, 29,\n",
              "       29, 13, 29, 42, 55, 13, 27, 51, 22, 22, 49,  9, 46, 56, 12, 30, 56,\n",
              "       52, 40, 32, 16, 37, 41, 26,  5, 42, 11, 36, 47, 23, 16, 29, 18, 47,\n",
              "       23, 22, 25, 32, 33, 14, 40, 40, 18, 31,  1,  7, 59, 28, 44, 56, 57,\n",
              "        3, 16, 25, 21, 34, 32, 56, 44, 37, 38,  2, 22, 33, 53, 32, 41, 20,\n",
              "       55, 29, 33, 31, 27, 48, 30, 24, 54, 26, 36, 15, 35, 17, 16,  4, 17,\n",
              "       27, 10, 12, 33,  6, 47, 21,  4, 48, 55, 16, 42, 49, 20, 24, 39, 16,\n",
              "       33, 57, 41,  1, 49, 46,  2, 40, 60, 19, 18, 43, 28, 57, 16, 51,  1,\n",
              "        2, 49, 59, 18,  8, 37, 32, 32, 57, 55,  5, 30, 26, 18, 30,  9, 12,\n",
              "       15, 11, 19, 37, 53, 19,  4, 17, 14,  4, 34, 22, 32, 27, 15,  3, 25,\n",
              "       50,  8, 53, 30, 13, 25, 60, 40, 11, 38,  4, 44, 55, 52, 20, 34,  2,\n",
              "       59, 59, 39, 54, 37, 43,  1, 32, 50, 51,  9, 32,  5, 31,  1, 46, 37,\n",
              "       19, 24, 38, 59,  6, 51, 20, 14, 25,  2, 60, 10, 42, 48, 11, 43, 39,\n",
              "        8, 50, 30, 15,  2,  9,  1, 22, 44, 16,  7, 31, 24, 52, 50,  1, 47,\n",
              "       19, 10, 59, 43, 21, 44, 48, 22,  1, 20, 23, 33, 53, 33, 51,  4, 46,\n",
              "       59, 28, 55, 50, 56, 26, 19,  7, 47, 35, 54, 38, 21], dtype=int64)"
            ]
          },
          "execution_count": 40,
          "metadata": {},
          "output_type": "execute_result"
        }
      ],
      "source": [
        "y_pred_L1"
      ]
    },
    {
      "cell_type": "markdown",
      "metadata": {},
      "source": [
        "### Correct"
      ]
    },
    {
      "cell_type": "code",
      "execution_count": 102,
      "metadata": {},
      "outputs": [
        {
          "name": "stdout",
          "output_type": "stream",
          "text": [
            "Fitting 5 folds for each of 5 candidates, totalling 25 fits\n"
          ]
        },
        {
          "data": {
            "text/html": [
              "<style>#sk-container-id-8 {color: black;}#sk-container-id-8 pre{padding: 0;}#sk-container-id-8 div.sk-toggleable {background-color: white;}#sk-container-id-8 label.sk-toggleable__label {cursor: pointer;display: block;width: 100%;margin-bottom: 0;padding: 0.3em;box-sizing: border-box;text-align: center;}#sk-container-id-8 label.sk-toggleable__label-arrow:before {content: \"▸\";float: left;margin-right: 0.25em;color: #696969;}#sk-container-id-8 label.sk-toggleable__label-arrow:hover:before {color: black;}#sk-container-id-8 div.sk-estimator:hover label.sk-toggleable__label-arrow:before {color: black;}#sk-container-id-8 div.sk-toggleable__content {max-height: 0;max-width: 0;overflow: hidden;text-align: left;background-color: #f0f8ff;}#sk-container-id-8 div.sk-toggleable__content pre {margin: 0.2em;color: black;border-radius: 0.25em;background-color: #f0f8ff;}#sk-container-id-8 input.sk-toggleable__control:checked~div.sk-toggleable__content {max-height: 200px;max-width: 100%;overflow: auto;}#sk-container-id-8 input.sk-toggleable__control:checked~label.sk-toggleable__label-arrow:before {content: \"▾\";}#sk-container-id-8 div.sk-estimator input.sk-toggleable__control:checked~label.sk-toggleable__label {background-color: #d4ebff;}#sk-container-id-8 div.sk-label input.sk-toggleable__control:checked~label.sk-toggleable__label {background-color: #d4ebff;}#sk-container-id-8 input.sk-hidden--visually {border: 0;clip: rect(1px 1px 1px 1px);clip: rect(1px, 1px, 1px, 1px);height: 1px;margin: -1px;overflow: hidden;padding: 0;position: absolute;width: 1px;}#sk-container-id-8 div.sk-estimator {font-family: monospace;background-color: #f0f8ff;border: 1px dotted black;border-radius: 0.25em;box-sizing: border-box;margin-bottom: 0.5em;}#sk-container-id-8 div.sk-estimator:hover {background-color: #d4ebff;}#sk-container-id-8 div.sk-parallel-item::after {content: \"\";width: 100%;border-bottom: 1px solid gray;flex-grow: 1;}#sk-container-id-8 div.sk-label:hover label.sk-toggleable__label {background-color: #d4ebff;}#sk-container-id-8 div.sk-serial::before {content: \"\";position: absolute;border-left: 1px solid gray;box-sizing: border-box;top: 0;bottom: 0;left: 50%;z-index: 0;}#sk-container-id-8 div.sk-serial {display: flex;flex-direction: column;align-items: center;background-color: white;padding-right: 0.2em;padding-left: 0.2em;position: relative;}#sk-container-id-8 div.sk-item {position: relative;z-index: 1;}#sk-container-id-8 div.sk-parallel {display: flex;align-items: stretch;justify-content: center;background-color: white;position: relative;}#sk-container-id-8 div.sk-item::before, #sk-container-id-8 div.sk-parallel-item::before {content: \"\";position: absolute;border-left: 1px solid gray;box-sizing: border-box;top: 0;bottom: 0;left: 50%;z-index: -1;}#sk-container-id-8 div.sk-parallel-item {display: flex;flex-direction: column;z-index: 1;position: relative;background-color: white;}#sk-container-id-8 div.sk-parallel-item:first-child::after {align-self: flex-end;width: 50%;}#sk-container-id-8 div.sk-parallel-item:last-child::after {align-self: flex-start;width: 50%;}#sk-container-id-8 div.sk-parallel-item:only-child::after {width: 0;}#sk-container-id-8 div.sk-dashed-wrapped {border: 1px dashed gray;margin: 0 0.4em 0.5em 0.4em;box-sizing: border-box;padding-bottom: 0.4em;background-color: white;}#sk-container-id-8 div.sk-label label {font-family: monospace;font-weight: bold;display: inline-block;line-height: 1.2em;}#sk-container-id-8 div.sk-label-container {text-align: center;}#sk-container-id-8 div.sk-container {/* jupyter's `normalize.less` sets `[hidden] { display: none; }` but bootstrap.min.css set `[hidden] { display: none !important; }` so we also need the `!important` here to be able to override the default hidden behavior on the sphinx rendered scikit-learn.org. See: https://github.com/scikit-learn/scikit-learn/issues/21755 */display: inline-block !important;position: relative;}#sk-container-id-8 div.sk-text-repr-fallback {display: none;}</style><div id=\"sk-container-id-8\" class=\"sk-top-container\"><div class=\"sk-text-repr-fallback\"><pre>RandomizedSearchCV(cv=5, estimator=SVC(), n_iter=5, n_jobs=-1,\n",
              "                   param_distributions={&#x27;C&#x27;: array([1.e-03, 1.e-02, 1.e-01, 1.e+00, 1.e+01, 1.e+02, 1.e+03]),\n",
              "                                        &#x27;gamma&#x27;: array([1.e-03, 1.e-02, 1.e-01, 1.e+00, 1.e+01, 1.e+02, 1.e+03]),\n",
              "                                        &#x27;kernel&#x27;: [&#x27;linear&#x27;, &#x27;rbf&#x27;, &#x27;poly&#x27;]},\n",
              "                   random_state=42, scoring=&#x27;accuracy&#x27;, verbose=2)</pre><b>In a Jupyter environment, please rerun this cell to show the HTML representation or trust the notebook. <br />On GitHub, the HTML representation is unable to render, please try loading this page with nbviewer.org.</b></div><div class=\"sk-container\" hidden><div class=\"sk-item sk-dashed-wrapped\"><div class=\"sk-label-container\"><div class=\"sk-label sk-toggleable\"><input class=\"sk-toggleable__control sk-hidden--visually\" id=\"sk-estimator-id-10\" type=\"checkbox\" ><label for=\"sk-estimator-id-10\" class=\"sk-toggleable__label sk-toggleable__label-arrow\">RandomizedSearchCV</label><div class=\"sk-toggleable__content\"><pre>RandomizedSearchCV(cv=5, estimator=SVC(), n_iter=5, n_jobs=-1,\n",
              "                   param_distributions={&#x27;C&#x27;: array([1.e-03, 1.e-02, 1.e-01, 1.e+00, 1.e+01, 1.e+02, 1.e+03]),\n",
              "                                        &#x27;gamma&#x27;: array([1.e-03, 1.e-02, 1.e-01, 1.e+00, 1.e+01, 1.e+02, 1.e+03]),\n",
              "                                        &#x27;kernel&#x27;: [&#x27;linear&#x27;, &#x27;rbf&#x27;, &#x27;poly&#x27;]},\n",
              "                   random_state=42, scoring=&#x27;accuracy&#x27;, verbose=2)</pre></div></div></div><div class=\"sk-parallel\"><div class=\"sk-parallel-item\"><div class=\"sk-item\"><div class=\"sk-label-container\"><div class=\"sk-label sk-toggleable\"><input class=\"sk-toggleable__control sk-hidden--visually\" id=\"sk-estimator-id-11\" type=\"checkbox\" ><label for=\"sk-estimator-id-11\" class=\"sk-toggleable__label sk-toggleable__label-arrow\">estimator: SVC</label><div class=\"sk-toggleable__content\"><pre>SVC()</pre></div></div></div><div class=\"sk-serial\"><div class=\"sk-item\"><div class=\"sk-estimator sk-toggleable\"><input class=\"sk-toggleable__control sk-hidden--visually\" id=\"sk-estimator-id-12\" type=\"checkbox\" ><label for=\"sk-estimator-id-12\" class=\"sk-toggleable__label sk-toggleable__label-arrow\">SVC</label><div class=\"sk-toggleable__content\"><pre>SVC()</pre></div></div></div></div></div></div></div></div></div></div>"
            ],
            "text/plain": [
              "RandomizedSearchCV(cv=5, estimator=SVC(), n_iter=5, n_jobs=-1,\n",
              "                   param_distributions={'C': array([1.e-03, 1.e-02, 1.e-01, 1.e+00, 1.e+01, 1.e+02, 1.e+03]),\n",
              "                                        'gamma': array([1.e-03, 1.e-02, 1.e-01, 1.e+00, 1.e+01, 1.e+02, 1.e+03]),\n",
              "                                        'kernel': ['linear', 'rbf', 'poly']},\n",
              "                   random_state=42, scoring='accuracy', verbose=2)"
            ]
          },
          "execution_count": 102,
          "metadata": {},
          "output_type": "execute_result"
        }
      ],
      "source": [
        "# Randomized search new\n",
        "random_search_L1_new = RandomizedSearchCV(svc_L1, param_distributions_L1, n_iter=5, cv=5, scoring='accuracy', random_state=42, verbose=2, n_jobs=-1)\n",
        "random_search_L1_new.fit(x_train_trf_L1, y_train[L1])"
      ]
    },
    {
      "cell_type": "code",
      "execution_count": 103,
      "metadata": {},
      "outputs": [
        {
          "name": "stdout",
          "output_type": "stream",
          "text": [
            "Best parameters: {'kernel': 'linear', 'gamma': 1.0, 'C': 0.1}\n",
            "Best cross-validation score: 0.8811360448807853\n",
            "Best model: SVC(C=0.1, gamma=1.0, kernel='linear')\n"
          ]
        }
      ],
      "source": [
        "print(f\"Best parameters: {random_search_L1_new.best_params_}\")\n",
        "print(f\"Best cross-validation score: {random_search_L1_new.best_score_}\")\n",
        "print(f\"Best model: {random_search_L1_new.best_estimator_}\")"
      ]
    },
    {
      "cell_type": "code",
      "execution_count": 104,
      "metadata": {},
      "outputs": [],
      "source": [
        "best_params_L1 = random_search_L1_new.best_params_\n",
        "best_model_L1 = random_search_L1_new.best_estimator_"
      ]
    },
    {
      "cell_type": "code",
      "execution_count": 105,
      "metadata": {},
      "outputs": [
        {
          "name": "stdout",
          "output_type": "stream",
          "text": [
            "Accuracy on test data:0.8906666666666667\n"
          ]
        }
      ],
      "source": [
        "y_pred = best_model_L1.predict(x_valid_trf_L1)\n",
        "accuracy = accuracy_score(y_valid[L1], y_pred)\n",
        "print(f'Accuracy on test data:{accuracy}')"
      ]
    },
    {
      "cell_type": "code",
      "execution_count": 106,
      "metadata": {},
      "outputs": [
        {
          "data": {
            "text/plain": [
              "array([45, 45, 45, 45, 45, 45,  5,  5,  1,  5,  5,  5,  5,  5,  5,  5,  5,\n",
              "        5, 60, 60, 60, 60, 60, 60, 60, 60, 19, 19, 19, 19,  4, 19, 19, 37,\n",
              "       19, 19, 19,  7,  7, 19, 19, 19, 11, 11, 11, 11, 11, 11, 11, 11, 11,\n",
              "       11, 11,  2, 52, 52, 52, 52, 52, 52, 52, 52, 52, 52, 52, 25, 25, 25,\n",
              "       25, 25, 25, 25, 25, 25, 25, 46, 46, 35, 46, 46, 46, 46, 46, 53, 46,\n",
              "       46, 46, 46, 46, 46, 46, 46, 46, 46, 46, 59, 51, 51,  6, 51, 51, 51,\n",
              "       51, 51, 47, 51, 51, 51, 21, 51, 51, 51, 35, 35, 35, 33, 35, 35, 35,\n",
              "       35, 56, 56, 56, 56, 57, 56, 56, 56, 56, 56, 56, 53, 53, 46, 53, 53,\n",
              "       53, 23, 53, 53, 53,  3,  3,  3,  3,  3,  3,  3,  3,  3,  3, 40, 40,\n",
              "       40, 40, 40, 40, 40, 40, 40, 40, 40, 40, 40, 40, 40, 43, 43, 43, 43,\n",
              "       43, 43, 43, 43, 43, 43, 43, 58, 58, 58, 58, 58, 58, 58, 58, 44, 37,\n",
              "       21, 44, 44, 44, 44, 44, 44, 44, 44, 44, 44, 44, 37, 37, 37, 37, 25,\n",
              "       42, 37, 37, 37, 37, 37, 37, 37, 37, 37, 20, 37, 55, 55, 55, 55, 55,\n",
              "       23, 55, 55, 55, 55, 53, 55, 55, 55, 55, 55, 37, 17, 38, 17, 17, 17,\n",
              "       17, 17, 17, 24,  2, 17, 17, 17,  2,  2,  1,  2,  2,  2,  2,  2,  2,\n",
              "        2,  2,  2, 47, 47, 47, 47, 47, 52, 47, 47, 47, 56, 47, 47, 47, 54,\n",
              "       54, 54, 46, 53, 60, 54, 54, 31, 54, 54, 21, 55, 21, 21, 21, 21, 21,\n",
              "       21, 21, 21, 21, 21, 34,  8, 34, 34, 34, 34, 34, 34, 34, 23, 23, 23,\n",
              "       23, 23, 23, 23, 23, 23, 23, 23, 46, 23, 10, 10, 10, 10, 10, 10, 10,\n",
              "       10, 10, 10, 10, 28, 28, 28, 28, 28, 28, 28, 28, 28, 28, 28, 14, 28,\n",
              "       28, 28, 20, 20, 20, 20, 20, 20, 20, 20, 20, 25, 51, 20,  7,  1,  7,\n",
              "        7,  7,  7,  7,  2,  7,  7,  6,  6,  6,  6,  6,  6,  6,  6,  6,  6,\n",
              "        6,  6,  4,  4,  4,  4,  4,  4,  4,  4,  4,  4, 48, 48, 48, 48, 48,\n",
              "       48, 48, 48,  9, 32, 31, 32, 32, 32, 32, 32, 32, 32, 32, 32, 32, 32,\n",
              "       32, 32, 32, 12, 12, 12, 12, 12, 12, 12, 12, 22, 22, 22, 22, 22, 22,\n",
              "       22, 22, 22, 22, 22, 22, 22, 38, 38, 38, 38, 55, 38, 38, 38, 38, 38,\n",
              "       38, 38, 38, 36, 36, 36, 36, 36, 36, 36, 36, 36, 36, 36, 36, 12, 36,\n",
              "       36, 59, 59, 59, 59, 59, 59, 59,  1, 59, 59, 43, 50, 50, 50, 50, 50,\n",
              "       50, 50, 49, 50, 50,  7, 50, 50, 50, 50, 31, 50, 50, 50, 50, 50, 14,\n",
              "       14, 14, 16, 14,  5, 38, 15, 15, 15, 15, 15, 15, 15,  4, 15, 15, 15,\n",
              "       15, 24, 24, 24, 24, 24, 24, 13, 13, 13, 13, 13, 13, 13, 13, 11, 13,\n",
              "       13, 13, 29, 29, 29, 29, 29, 29,  7, 29, 29, 23, 29, 29, 29, 29, 29,\n",
              "       29, 18, 18,  2, 18, 18, 18, 18, 10, 18, 18, 18, 18, 18, 18, 18, 18,\n",
              "        1,  1,  1,  1,  1,  1,  1,  1,  1, 14,  9,  9, 46,  9,  9, 38,  9,\n",
              "        9,  9, 49, 49, 49, 49, 20, 49, 49, 49, 49, 49, 49,  7, 27, 27, 27,\n",
              "       27, 27, 27, 27, 27, 27, 27, 27, 27, 27, 10, 30, 41, 35, 42, 42, 23,\n",
              "       42, 42, 26, 26, 26, 26, 26, 26, 26, 60, 26, 26, 41, 41, 41, 41, 41,\n",
              "       41, 41, 41, 29, 41, 57, 57, 57, 57, 57, 57, 57, 57, 43, 57, 57, 57,\n",
              "       57, 57, 57, 57, 57,  8,  8,  8,  8, 29,  8,  8,  8,  8,  4,  8,  8,\n",
              "        8,  8, 33, 33, 33, 33, 33, 33, 33, 33, 32, 33, 33, 33, 33, 35, 33,\n",
              "       38, 29, 31, 31, 11, 31, 31, 31, 31, 24, 48, 31, 22, 31, 31, 31, 31,\n",
              "       31, 31, 31, 16, 16, 16, 16, 16, 16, 39, 16, 16, 16, 16, 16,  8, 16,\n",
              "       16, 10, 16, 16, 16, 30, 30, 30, 17, 30, 30, 30, 30, 30, 21, 30, 30,\n",
              "       30, 30, 30, 30, 39, 39, 39, 39, 39, 39, 39, 39, 39, 39, 16, 39,  8,\n",
              "       39, 39], dtype=int64)"
            ]
          },
          "execution_count": 106,
          "metadata": {},
          "output_type": "execute_result"
        }
      ],
      "source": [
        "y_pred_L1 = best_model_L1.predict(x_test_trf_L1)\n",
        "y_pred_L1"
      ]
    },
    {
      "cell_type": "markdown",
      "metadata": {},
      "source": [
        "Test"
      ]
    },
    {
      "cell_type": "code",
      "execution_count": 63,
      "metadata": {},
      "outputs": [
        {
          "data": {
            "text/html": [
              "<style>#sk-container-id-15 {color: black;}#sk-container-id-15 pre{padding: 0;}#sk-container-id-15 div.sk-toggleable {background-color: white;}#sk-container-id-15 label.sk-toggleable__label {cursor: pointer;display: block;width: 100%;margin-bottom: 0;padding: 0.3em;box-sizing: border-box;text-align: center;}#sk-container-id-15 label.sk-toggleable__label-arrow:before {content: \"▸\";float: left;margin-right: 0.25em;color: #696969;}#sk-container-id-15 label.sk-toggleable__label-arrow:hover:before {color: black;}#sk-container-id-15 div.sk-estimator:hover label.sk-toggleable__label-arrow:before {color: black;}#sk-container-id-15 div.sk-toggleable__content {max-height: 0;max-width: 0;overflow: hidden;text-align: left;background-color: #f0f8ff;}#sk-container-id-15 div.sk-toggleable__content pre {margin: 0.2em;color: black;border-radius: 0.25em;background-color: #f0f8ff;}#sk-container-id-15 input.sk-toggleable__control:checked~div.sk-toggleable__content {max-height: 200px;max-width: 100%;overflow: auto;}#sk-container-id-15 input.sk-toggleable__control:checked~label.sk-toggleable__label-arrow:before {content: \"▾\";}#sk-container-id-15 div.sk-estimator input.sk-toggleable__control:checked~label.sk-toggleable__label {background-color: #d4ebff;}#sk-container-id-15 div.sk-label input.sk-toggleable__control:checked~label.sk-toggleable__label {background-color: #d4ebff;}#sk-container-id-15 input.sk-hidden--visually {border: 0;clip: rect(1px 1px 1px 1px);clip: rect(1px, 1px, 1px, 1px);height: 1px;margin: -1px;overflow: hidden;padding: 0;position: absolute;width: 1px;}#sk-container-id-15 div.sk-estimator {font-family: monospace;background-color: #f0f8ff;border: 1px dotted black;border-radius: 0.25em;box-sizing: border-box;margin-bottom: 0.5em;}#sk-container-id-15 div.sk-estimator:hover {background-color: #d4ebff;}#sk-container-id-15 div.sk-parallel-item::after {content: \"\";width: 100%;border-bottom: 1px solid gray;flex-grow: 1;}#sk-container-id-15 div.sk-label:hover label.sk-toggleable__label {background-color: #d4ebff;}#sk-container-id-15 div.sk-serial::before {content: \"\";position: absolute;border-left: 1px solid gray;box-sizing: border-box;top: 0;bottom: 0;left: 50%;z-index: 0;}#sk-container-id-15 div.sk-serial {display: flex;flex-direction: column;align-items: center;background-color: white;padding-right: 0.2em;padding-left: 0.2em;position: relative;}#sk-container-id-15 div.sk-item {position: relative;z-index: 1;}#sk-container-id-15 div.sk-parallel {display: flex;align-items: stretch;justify-content: center;background-color: white;position: relative;}#sk-container-id-15 div.sk-item::before, #sk-container-id-15 div.sk-parallel-item::before {content: \"\";position: absolute;border-left: 1px solid gray;box-sizing: border-box;top: 0;bottom: 0;left: 50%;z-index: -1;}#sk-container-id-15 div.sk-parallel-item {display: flex;flex-direction: column;z-index: 1;position: relative;background-color: white;}#sk-container-id-15 div.sk-parallel-item:first-child::after {align-self: flex-end;width: 50%;}#sk-container-id-15 div.sk-parallel-item:last-child::after {align-self: flex-start;width: 50%;}#sk-container-id-15 div.sk-parallel-item:only-child::after {width: 0;}#sk-container-id-15 div.sk-dashed-wrapped {border: 1px dashed gray;margin: 0 0.4em 0.5em 0.4em;box-sizing: border-box;padding-bottom: 0.4em;background-color: white;}#sk-container-id-15 div.sk-label label {font-family: monospace;font-weight: bold;display: inline-block;line-height: 1.2em;}#sk-container-id-15 div.sk-label-container {text-align: center;}#sk-container-id-15 div.sk-container {/* jupyter's `normalize.less` sets `[hidden] { display: none; }` but bootstrap.min.css set `[hidden] { display: none !important; }` so we also need the `!important` here to be able to override the default hidden behavior on the sphinx rendered scikit-learn.org. See: https://github.com/scikit-learn/scikit-learn/issues/21755 */display: inline-block !important;position: relative;}#sk-container-id-15 div.sk-text-repr-fallback {display: none;}</style><div id=\"sk-container-id-15\" class=\"sk-top-container\"><div class=\"sk-text-repr-fallback\"><pre>SVC(C=10.0, class_weight=&#x27;balanced&#x27;, gamma=0.01, kernel=&#x27;linear&#x27;)</pre><b>In a Jupyter environment, please rerun this cell to show the HTML representation or trust the notebook. <br />On GitHub, the HTML representation is unable to render, please try loading this page with nbviewer.org.</b></div><div class=\"sk-container\" hidden><div class=\"sk-item\"><div class=\"sk-estimator sk-toggleable\"><input class=\"sk-toggleable__control sk-hidden--visually\" id=\"sk-estimator-id-15\" type=\"checkbox\" checked><label for=\"sk-estimator-id-15\" class=\"sk-toggleable__label sk-toggleable__label-arrow\">SVC</label><div class=\"sk-toggleable__content\"><pre>SVC(C=10.0, class_weight=&#x27;balanced&#x27;, gamma=0.01, kernel=&#x27;linear&#x27;)</pre></div></div></div></div></div>"
            ],
            "text/plain": [
              "SVC(C=10.0, class_weight='balanced', gamma=0.01, kernel='linear')"
            ]
          },
          "execution_count": 63,
          "metadata": {},
          "output_type": "execute_result"
        }
      ],
      "source": [
        "test_L1 = svm.SVC(C=10.0, class_weight='balanced', gamma=0.01, kernel='linear')\n",
        "test_L1.fit(x_train_trf_L1, y_train[L1])"
      ]
    },
    {
      "cell_type": "code",
      "execution_count": 64,
      "metadata": {},
      "outputs": [
        {
          "name": "stdout",
          "output_type": "stream",
          "text": [
            "0.8773333333333333\n"
          ]
        }
      ],
      "source": [
        "y_pred_L1_test = test_L1.predict(x_valid_trf_L1)\n",
        "print (metrics.accuracy_score(y_valid[L1], y_pred_L1_test))"
      ]
    },
    {
      "cell_type": "markdown",
      "metadata": {},
      "source": [
        "Save the best model"
      ]
    },
    {
      "cell_type": "code",
      "execution_count": 107,
      "metadata": {},
      "outputs": [],
      "source": [
        "import joblib"
      ]
    },
    {
      "cell_type": "code",
      "execution_count": 108,
      "metadata": {},
      "outputs": [
        {
          "data": {
            "text/plain": [
              "['layer-11-new/best_model_L1.joblib']"
            ]
          },
          "execution_count": 108,
          "metadata": {},
          "output_type": "execute_result"
        }
      ],
      "source": [
        "# Save the model to your Google Drive using joblib\n",
        "joblib.dump(best_model_L1, f'{WORKING_DIR}/best_model_L1.joblib')"
      ]
    },
    {
      "cell_type": "code",
      "execution_count": 41,
      "metadata": {},
      "outputs": [],
      "source": [
        "loaded_model = joblib.load(f'{WORKING_DIR}/best_model_L1.joblib')"
      ]
    },
    {
      "cell_type": "code",
      "execution_count": 43,
      "metadata": {},
      "outputs": [
        {
          "name": "stdout",
          "output_type": "stream",
          "text": [
            "Accuracy on test data: 0.8906666666666667\n"
          ]
        }
      ],
      "source": [
        "y_pred_L1_load = loaded_model.predict(x_valid_trf_L1)\n",
        "accuracy = metrics.accuracy_score(y_valid[L1], y_pred_L1_load)\n",
        "print(f'Accuracy on test data: {accuracy}')"
      ]
    },
    {
      "cell_type": "code",
      "execution_count": 44,
      "metadata": {},
      "outputs": [
        {
          "name": "stdout",
          "output_type": "stream",
          "text": [
            "[[12  0  0 ...  0  0  0]\n",
            " [ 1  7  1 ...  0  0  0]\n",
            " [ 0  0 12 ...  0  0  0]\n",
            " ...\n",
            " [ 0  0  0 ... 18  1  1]\n",
            " [ 0  0  0 ...  0  9  0]\n",
            " [ 0  0  0 ...  0  1  6]]\n",
            "0.8906666666666667\n",
            "0.8991386842202631\n",
            "0.8906666666666667\n"
          ]
        }
      ],
      "source": [
        "print (metrics.confusion_matrix(y_valid[L1], y_pred_L1_load))\n",
        "print (metrics.accuracy_score(y_valid[L1], y_pred_L1_load))\n",
        "print (metrics.precision_score(y_valid[L1], y_pred_L1_load, average=\"weighted\"))\n",
        "print (metrics.recall_score(y_valid[L1], y_pred_L1_load, average=\"weighted\"))"
      ]
    },
    {
      "cell_type": "code",
      "execution_count": 45,
      "metadata": {},
      "outputs": [
        {
          "data": {
            "text/html": [
              "<div>\n",
              "<style scoped>\n",
              "    .dataframe tbody tr th:only-of-type {\n",
              "        vertical-align: middle;\n",
              "    }\n",
              "\n",
              "    .dataframe tbody tr th {\n",
              "        vertical-align: top;\n",
              "    }\n",
              "\n",
              "    .dataframe thead th {\n",
              "        text-align: right;\n",
              "    }\n",
              "</style>\n",
              "<table border=\"1\" class=\"dataframe\">\n",
              "  <thead>\n",
              "    <tr style=\"text-align: right;\">\n",
              "      <th></th>\n",
              "      <th>label_1</th>\n",
              "    </tr>\n",
              "  </thead>\n",
              "  <tbody>\n",
              "    <tr>\n",
              "      <th>0</th>\n",
              "      <td>37</td>\n",
              "    </tr>\n",
              "    <tr>\n",
              "      <th>1</th>\n",
              "      <td>45</td>\n",
              "    </tr>\n",
              "    <tr>\n",
              "      <th>2</th>\n",
              "      <td>3</td>\n",
              "    </tr>\n",
              "    <tr>\n",
              "      <th>3</th>\n",
              "      <td>45</td>\n",
              "    </tr>\n",
              "    <tr>\n",
              "      <th>4</th>\n",
              "      <td>45</td>\n",
              "    </tr>\n",
              "  </tbody>\n",
              "</table>\n",
              "</div>"
            ],
            "text/plain": [
              "   label_1\n",
              "0       37\n",
              "1       45\n",
              "2        3\n",
              "3       45\n",
              "4       45"
            ]
          },
          "execution_count": 45,
          "metadata": {},
          "output_type": "execute_result"
        }
      ],
      "source": [
        "# Create the base DataFrame\n",
        "output_df_L1 = pd.DataFrame({\n",
        "    'label_1': y_pred_L1_load\n",
        "})\n",
        "\n",
        "output_df_L1.head()"
      ]
    },
    {
      "cell_type": "code",
      "execution_count": 46,
      "metadata": {},
      "outputs": [],
      "source": [
        "output_df_L1.to_csv(f\"{WORKING_DIR}/L1.csv\", index=False)"
      ]
    },
    {
      "cell_type": "markdown",
      "metadata": {
        "id": "4VX75vbOHTOT"
      },
      "source": [
        "# Label 2"
      ]
    },
    {
      "cell_type": "code",
      "execution_count": 10,
      "metadata": {
        "id": "bwR_ZS7wIUeu"
      },
      "outputs": [
        {
          "data": {
            "text/html": [
              "<style>#sk-container-id-1 {color: black;}#sk-container-id-1 pre{padding: 0;}#sk-container-id-1 div.sk-toggleable {background-color: white;}#sk-container-id-1 label.sk-toggleable__label {cursor: pointer;display: block;width: 100%;margin-bottom: 0;padding: 0.3em;box-sizing: border-box;text-align: center;}#sk-container-id-1 label.sk-toggleable__label-arrow:before {content: \"▸\";float: left;margin-right: 0.25em;color: #696969;}#sk-container-id-1 label.sk-toggleable__label-arrow:hover:before {color: black;}#sk-container-id-1 div.sk-estimator:hover label.sk-toggleable__label-arrow:before {color: black;}#sk-container-id-1 div.sk-toggleable__content {max-height: 0;max-width: 0;overflow: hidden;text-align: left;background-color: #f0f8ff;}#sk-container-id-1 div.sk-toggleable__content pre {margin: 0.2em;color: black;border-radius: 0.25em;background-color: #f0f8ff;}#sk-container-id-1 input.sk-toggleable__control:checked~div.sk-toggleable__content {max-height: 200px;max-width: 100%;overflow: auto;}#sk-container-id-1 input.sk-toggleable__control:checked~label.sk-toggleable__label-arrow:before {content: \"▾\";}#sk-container-id-1 div.sk-estimator input.sk-toggleable__control:checked~label.sk-toggleable__label {background-color: #d4ebff;}#sk-container-id-1 div.sk-label input.sk-toggleable__control:checked~label.sk-toggleable__label {background-color: #d4ebff;}#sk-container-id-1 input.sk-hidden--visually {border: 0;clip: rect(1px 1px 1px 1px);clip: rect(1px, 1px, 1px, 1px);height: 1px;margin: -1px;overflow: hidden;padding: 0;position: absolute;width: 1px;}#sk-container-id-1 div.sk-estimator {font-family: monospace;background-color: #f0f8ff;border: 1px dotted black;border-radius: 0.25em;box-sizing: border-box;margin-bottom: 0.5em;}#sk-container-id-1 div.sk-estimator:hover {background-color: #d4ebff;}#sk-container-id-1 div.sk-parallel-item::after {content: \"\";width: 100%;border-bottom: 1px solid gray;flex-grow: 1;}#sk-container-id-1 div.sk-label:hover label.sk-toggleable__label {background-color: #d4ebff;}#sk-container-id-1 div.sk-serial::before {content: \"\";position: absolute;border-left: 1px solid gray;box-sizing: border-box;top: 0;bottom: 0;left: 50%;z-index: 0;}#sk-container-id-1 div.sk-serial {display: flex;flex-direction: column;align-items: center;background-color: white;padding-right: 0.2em;padding-left: 0.2em;position: relative;}#sk-container-id-1 div.sk-item {position: relative;z-index: 1;}#sk-container-id-1 div.sk-parallel {display: flex;align-items: stretch;justify-content: center;background-color: white;position: relative;}#sk-container-id-1 div.sk-item::before, #sk-container-id-1 div.sk-parallel-item::before {content: \"\";position: absolute;border-left: 1px solid gray;box-sizing: border-box;top: 0;bottom: 0;left: 50%;z-index: -1;}#sk-container-id-1 div.sk-parallel-item {display: flex;flex-direction: column;z-index: 1;position: relative;background-color: white;}#sk-container-id-1 div.sk-parallel-item:first-child::after {align-self: flex-end;width: 50%;}#sk-container-id-1 div.sk-parallel-item:last-child::after {align-self: flex-start;width: 50%;}#sk-container-id-1 div.sk-parallel-item:only-child::after {width: 0;}#sk-container-id-1 div.sk-dashed-wrapped {border: 1px dashed gray;margin: 0 0.4em 0.5em 0.4em;box-sizing: border-box;padding-bottom: 0.4em;background-color: white;}#sk-container-id-1 div.sk-label label {font-family: monospace;font-weight: bold;display: inline-block;line-height: 1.2em;}#sk-container-id-1 div.sk-label-container {text-align: center;}#sk-container-id-1 div.sk-container {/* jupyter's `normalize.less` sets `[hidden] { display: none; }` but bootstrap.min.css set `[hidden] { display: none !important; }` so we also need the `!important` here to be able to override the default hidden behavior on the sphinx rendered scikit-learn.org. See: https://github.com/scikit-learn/scikit-learn/issues/21755 */display: inline-block !important;position: relative;}#sk-container-id-1 div.sk-text-repr-fallback {display: none;}</style><div id=\"sk-container-id-1\" class=\"sk-top-container\"><div class=\"sk-text-repr-fallback\"><pre>SVC(class_weight=&#x27;balanced&#x27;, kernel=&#x27;linear&#x27;)</pre><b>In a Jupyter environment, please rerun this cell to show the HTML representation or trust the notebook. <br />On GitHub, the HTML representation is unable to render, please try loading this page with nbviewer.org.</b></div><div class=\"sk-container\" hidden><div class=\"sk-item\"><div class=\"sk-estimator sk-toggleable\"><input class=\"sk-toggleable__control sk-hidden--visually\" id=\"sk-estimator-id-1\" type=\"checkbox\" checked><label for=\"sk-estimator-id-1\" class=\"sk-toggleable__label sk-toggleable__label-arrow\">SVC</label><div class=\"sk-toggleable__content\"><pre>SVC(class_weight=&#x27;balanced&#x27;, kernel=&#x27;linear&#x27;)</pre></div></div></div></div></div>"
            ],
            "text/plain": [
              "SVC(class_weight='balanced', kernel='linear')"
            ]
          },
          "execution_count": 10,
          "metadata": {},
          "output_type": "execute_result"
        }
      ],
      "source": [
        "from sklearn import svm\n",
        "\n",
        "clf_L2 = svm.SVC(kernel = 'linear', class_weight='balanced')\n",
        "clf_L2.fit(x_train[L2], y_train[L2])"
      ]
    },
    {
      "cell_type": "code",
      "execution_count": 11,
      "metadata": {
        "id": "mf1IAL5LIV_s"
      },
      "outputs": [],
      "source": [
        "from sklearn import metrics\n",
        "\n",
        "y_pred_L2 = clf_L2.predict(x_valid[L2])\n",
        "y_pred_test_before_L2 = clf_L2.predict(x_test[L2])"
      ]
    },
    {
      "cell_type": "code",
      "execution_count": 114,
      "metadata": {
        "id": "R6wDqdvUIXNC"
      },
      "outputs": [
        {
          "name": "stdout",
          "output_type": "stream",
          "text": [
            "Predicted labels before feature engineering: [25. 25. 25. 25. 25. 25. 25. 25. 27. 25. 25. 25. 27. 27. 27. 27. 27. 27.\n",
            " 27. 27. 23. 23. 29. 23. 23. 27. 41. 23. 23. 25. 23. 27. 25. 23. 25. 23.\n",
            " 33. 33. 33. 33. 33. 33. 33. 33. 33. 33. 33. 33. 34. 34. 34. 34. 34. 34.\n",
            " 34. 34. 34. 34. 34. 22. 22. 22. 22. 26. 22. 22. 22. 22. 22. 26. 30. 24.\n",
            " 30. 30. 25. 30. 25. 30. 30. 25. 30. 30. 30. 30. 30. 30. 28. 30. 30. 22.\n",
            " 26. 24. 23. 26. 26. 23. 26. 26. 23. 23. 22. 26. 26. 23. 26. 26. 24. 24.\n",
            " 31. 24. 24. 26. 24. 24. 24. 24. 24. 24. 24. 24. 24. 24. 24. 24. 24. 24.\n",
            " 24. 24. 25. 23. 24. 24. 24. 24. 24. 31. 31. 25. 31. 27. 27. 31. 31. 31.\n",
            " 31. 26. 26. 22. 22. 26. 26. 26. 26. 26. 26. 26. 26. 26. 26. 26. 31. 31.\n",
            " 31. 22. 31. 31. 31. 31. 31. 31. 31. 29. 29. 29. 29. 29. 29. 29. 29. 61.\n",
            " 24. 26. 61. 61. 61. 61. 61. 61. 61. 61. 61. 61. 61. 27. 27. 27. 27. 27.\n",
            " 23. 23. 23. 24. 26. 27. 27. 31. 27. 23. 27. 27. 23. 23. 23. 23. 23. 26.\n",
            " 23. 23. 23. 23. 24. 23. 26. 23. 23. 23. 26. 26. 26. 26. 26. 26. 26. 26.\n",
            " 26. 26. 26. 26. 26. 26. 25. 25. 30. 25. 25. 25. 25. 25. 31. 25. 25. 25.\n",
            " 23. 23. 23. 24. 23. 34. 23. 23. 23. 24. 23. 23. 24. 26. 27. 27. 27. 27.\n",
            " 27. 27. 24. 33. 27. 24. 26. 26. 26. 31. 23. 26. 26. 26. 23. 26. 26. 26.\n",
            " 26. 41. 25. 25. 25. 25. 27. 25. 27. 28. 28. 28. 24. 28. 28. 28. 28. 28.\n",
            " 28. 28. 28. 28. 36. 36. 36. 36. 36. 36. 36. 36. 36. 36. 36. 28. 28. 28.\n",
            " 28. 28. 28. 28. 26. 29. 28. 28. 28. 28. 28. 28. 25. 25. 26. 24. 25. 25.\n",
            " 25. 25. 25. 23. 25. 23. 30. 27. 27. 27. 27. 27. 27. 23. 27. 27. 25. 25.\n",
            " 25. 30. 25. 25. 25. 25. 25. 25. 25. 25. 23. 30. 28. 23. 23. 30. 23. 23.\n",
            " 23. 23. 26. 33. 26. 26. 26. 26. 26. 26. 26. 23. 26. 23. 23. 23. 23. 23.\n",
            " 23. 23. 22. 31. 23. 23. 23. 23. 23. 26. 26. 26. 26. 26. 26. 26. 26. 33.\n",
            " 33. 24. 33. 33. 33. 33. 33. 33. 33. 33. 33. 33. 32. 32. 32. 32. 27. 32.\n",
            " 32. 32. 32. 32. 32. 32. 32. 22. 22. 29. 22. 22. 22. 22. 26. 22. 22. 22.\n",
            " 22. 22. 22. 22. 31. 31. 31. 22. 31. 31. 26. 31. 31. 31. 31. 24. 29. 24.\n",
            " 24. 24. 24. 24. 28. 24. 24. 23. 24. 24. 24. 24. 24. 24. 24. 24. 24. 28.\n",
            " 31. 31. 31. 31. 31. 23. 32. 28. 28. 28. 28. 28. 28. 28. 28. 28. 28. 27.\n",
            " 28. 26. 26. 26. 26. 26. 26. 27. 27. 27. 27. 26. 27. 27. 27. 27. 25. 27.\n",
            " 27. 23. 36. 26. 23. 25. 23. 23. 23. 23. 23. 26. 23. 23. 23. 23. 23. 25.\n",
            " 27. 25. 25. 25. 25. 23. 23. 25. 25. 28. 25. 25. 25. 25. 25. 30. 30. 30.\n",
            " 30. 27. 30. 30. 30. 30. 23. 35. 35. 23. 35. 35. 35. 35. 35. 35. 26. 26.\n",
            " 25. 26. 25. 26. 26. 24. 23. 23. 26. 31. 30. 26. 31. 31. 31. 31. 31. 31.\n",
            " 31. 31. 31. 31. 31. 28. 29. 26. 24. 29. 29. 28. 29. 29. 22. 22. 22. 22.\n",
            " 22. 22. 22. 22. 22. 22. 30. 30. 30. 30. 30. 30. 35. 30. 30. 30. 27. 27.\n",
            " 24. 27. 27. 31. 24. 27. 28. 27. 22. 34. 27. 27. 27. 27. 27. 41. 41. 41.\n",
            " 41. 27. 41. 41. 41. 41. 41. 41. 41. 41. 41. 27. 26. 26. 26. 26. 26. 26.\n",
            " 26. 24. 26. 26. 26. 26. 27. 24. 27. 33. 26. 26. 27. 26. 23. 30. 26. 23.\n",
            " 23. 26. 29. 26. 27. 26. 26. 23. 26. 26. 30. 30. 30. 30. 30. 30. 23. 25.\n",
            " 30. 30. 28. 30. 25. 30. 30. 30. 27. 30. 30. 28. 28. 28. 28. 28. 28. 28.\n",
            " 28. 28. 25. 28. 28. 28. 28. 28. 28. 29. 23. 29. 29. 26. 29. 29. 29. 29.\n",
            " 29. 23. 29. 29. 29. 25.]\n"
          ]
        }
      ],
      "source": [
        "print('Predicted labels before feature engineering:', y_pred_test_before_L2)"
      ]
    },
    {
      "cell_type": "code",
      "execution_count": 115,
      "metadata": {
        "id": "iRcivAMkIYdj"
      },
      "outputs": [
        {
          "name": "stdout",
          "output_type": "stream",
          "text": [
            "[[30  0  0  0  4  1  0  1  0  0  0  0  0  0  0  0  0]\n",
            " [ 0 55  0  3  5  2  2  1  2  1  0  0  0  0  0  0  0]\n",
            " [ 0  2 39  0  1  1  1  0  0  0  0  1  1  0  0  0  0]\n",
            " [ 0  7  0 55  6  3  2  0  4  2  0  0  0  0  0  0  0]\n",
            " [ 1  5  3  7 91  1  1  0  2  3  0  1  0  0  0  0  0]\n",
            " [ 2  2  3  5  2 58  0  1  1  7  0  0  0  0  0  0  0]\n",
            " [ 1  2  0  0  3  4 33  0  0  1  0  0  1  0  0  1  0]\n",
            " [ 1  1  1  0  1  1  1 38  0  1  0  0  0  0  0  0  0]\n",
            " [ 1  1  0  1  1  0  0  0 42  2  0  0  0  0  0  0  0]\n",
            " [ 2  3  0  1  1  1  1  1  2 53  0  0  0  0  0  0  0]\n",
            " [ 0  0  0  0  0  0  0  0  0  0 10  0  0  1  0  0  0]\n",
            " [ 0  0  0  1  1  0  0  0  0  0  0 28  0  0  0  0  0]\n",
            " [ 0  0  0  0  0  0  0  0  0  1  0  0 10  0  0  0  0]\n",
            " [ 0  0  0  0  0  0  0  0  1  0  0  0  0 10  0  0  0]\n",
            " [ 0  0  0  0  0  0  0  0  0  0  0  0  0  0  8  0  0]\n",
            " [ 0  1  0  0  0  0  0  0  1  1  0  0  0  0  0 11  0]\n",
            " [ 0  0  0  0  0  0  1  0  0  0  0  0  0  0  0  0 18]]\n",
            "0.8002717391304348\n",
            "0.803255989264823\n",
            "0.8002717391304348\n"
          ]
        }
      ],
      "source": [
        "print (metrics.confusion_matrix(y_valid[L2], y_pred_L2))\n",
        "print (metrics.accuracy_score(y_valid[L2], y_pred_L2))\n",
        "print (metrics.precision_score(y_valid[L2], y_pred_L2, average=\"weighted\"))\n",
        "print (metrics.recall_score(y_valid[L2], y_pred_L2, average=\"weighted\"))"
      ]
    },
    {
      "cell_type": "markdown",
      "metadata": {
        "id": "kY-tsjOzHz1i"
      },
      "source": [
        "## Feature Engineering"
      ]
    },
    {
      "cell_type": "code",
      "execution_count": 12,
      "metadata": {
        "id": "UswMdXvbIa9C"
      },
      "outputs": [
        {
          "name": "stdout",
          "output_type": "stream",
          "text": [
            "Shape after PCA:  (28040, 148)\n"
          ]
        }
      ],
      "source": [
        "from sklearn.decomposition import PCA\n",
        "\n",
        "pca_L2 = PCA(n_components=0.95, svd_solver='full')\n",
        "pca_L2.fit(x_train[L2])\n",
        "x_train_trf_L2 = pd.DataFrame(pca_L2.transform(x_train[L2]))\n",
        "x_valid_trf_L2 = pd.DataFrame(pca_L2.transform(x_valid[L2]))\n",
        "\n",
        "print(\"Shape after PCA: \", x_train_trf_L2.shape)"
      ]
    },
    {
      "cell_type": "code",
      "execution_count": 13,
      "metadata": {},
      "outputs": [],
      "source": [
        "x_test_trf_L2= pd.DataFrame(pca_L2.transform(x_test[L2]))"
      ]
    },
    {
      "cell_type": "code",
      "execution_count": 14,
      "metadata": {},
      "outputs": [],
      "source": [
        "from sklearn import svm\n",
        "from sklearn import metrics"
      ]
    },
    {
      "cell_type": "code",
      "execution_count": 14,
      "metadata": {
        "id": "g8RpxygiIcat"
      },
      "outputs": [
        {
          "data": {
            "text/html": [
              "<style>#sk-container-id-1 {color: black;}#sk-container-id-1 pre{padding: 0;}#sk-container-id-1 div.sk-toggleable {background-color: white;}#sk-container-id-1 label.sk-toggleable__label {cursor: pointer;display: block;width: 100%;margin-bottom: 0;padding: 0.3em;box-sizing: border-box;text-align: center;}#sk-container-id-1 label.sk-toggleable__label-arrow:before {content: \"▸\";float: left;margin-right: 0.25em;color: #696969;}#sk-container-id-1 label.sk-toggleable__label-arrow:hover:before {color: black;}#sk-container-id-1 div.sk-estimator:hover label.sk-toggleable__label-arrow:before {color: black;}#sk-container-id-1 div.sk-toggleable__content {max-height: 0;max-width: 0;overflow: hidden;text-align: left;background-color: #f0f8ff;}#sk-container-id-1 div.sk-toggleable__content pre {margin: 0.2em;color: black;border-radius: 0.25em;background-color: #f0f8ff;}#sk-container-id-1 input.sk-toggleable__control:checked~div.sk-toggleable__content {max-height: 200px;max-width: 100%;overflow: auto;}#sk-container-id-1 input.sk-toggleable__control:checked~label.sk-toggleable__label-arrow:before {content: \"▾\";}#sk-container-id-1 div.sk-estimator input.sk-toggleable__control:checked~label.sk-toggleable__label {background-color: #d4ebff;}#sk-container-id-1 div.sk-label input.sk-toggleable__control:checked~label.sk-toggleable__label {background-color: #d4ebff;}#sk-container-id-1 input.sk-hidden--visually {border: 0;clip: rect(1px 1px 1px 1px);clip: rect(1px, 1px, 1px, 1px);height: 1px;margin: -1px;overflow: hidden;padding: 0;position: absolute;width: 1px;}#sk-container-id-1 div.sk-estimator {font-family: monospace;background-color: #f0f8ff;border: 1px dotted black;border-radius: 0.25em;box-sizing: border-box;margin-bottom: 0.5em;}#sk-container-id-1 div.sk-estimator:hover {background-color: #d4ebff;}#sk-container-id-1 div.sk-parallel-item::after {content: \"\";width: 100%;border-bottom: 1px solid gray;flex-grow: 1;}#sk-container-id-1 div.sk-label:hover label.sk-toggleable__label {background-color: #d4ebff;}#sk-container-id-1 div.sk-serial::before {content: \"\";position: absolute;border-left: 1px solid gray;box-sizing: border-box;top: 0;bottom: 0;left: 50%;z-index: 0;}#sk-container-id-1 div.sk-serial {display: flex;flex-direction: column;align-items: center;background-color: white;padding-right: 0.2em;padding-left: 0.2em;position: relative;}#sk-container-id-1 div.sk-item {position: relative;z-index: 1;}#sk-container-id-1 div.sk-parallel {display: flex;align-items: stretch;justify-content: center;background-color: white;position: relative;}#sk-container-id-1 div.sk-item::before, #sk-container-id-1 div.sk-parallel-item::before {content: \"\";position: absolute;border-left: 1px solid gray;box-sizing: border-box;top: 0;bottom: 0;left: 50%;z-index: -1;}#sk-container-id-1 div.sk-parallel-item {display: flex;flex-direction: column;z-index: 1;position: relative;background-color: white;}#sk-container-id-1 div.sk-parallel-item:first-child::after {align-self: flex-end;width: 50%;}#sk-container-id-1 div.sk-parallel-item:last-child::after {align-self: flex-start;width: 50%;}#sk-container-id-1 div.sk-parallel-item:only-child::after {width: 0;}#sk-container-id-1 div.sk-dashed-wrapped {border: 1px dashed gray;margin: 0 0.4em 0.5em 0.4em;box-sizing: border-box;padding-bottom: 0.4em;background-color: white;}#sk-container-id-1 div.sk-label label {font-family: monospace;font-weight: bold;display: inline-block;line-height: 1.2em;}#sk-container-id-1 div.sk-label-container {text-align: center;}#sk-container-id-1 div.sk-container {/* jupyter's `normalize.less` sets `[hidden] { display: none; }` but bootstrap.min.css set `[hidden] { display: none !important; }` so we also need the `!important` here to be able to override the default hidden behavior on the sphinx rendered scikit-learn.org. See: https://github.com/scikit-learn/scikit-learn/issues/21755 */display: inline-block !important;position: relative;}#sk-container-id-1 div.sk-text-repr-fallback {display: none;}</style><div id=\"sk-container-id-1\" class=\"sk-top-container\"><div class=\"sk-text-repr-fallback\"><pre>SVC(class_weight=&#x27;balanced&#x27;, kernel=&#x27;linear&#x27;)</pre><b>In a Jupyter environment, please rerun this cell to show the HTML representation or trust the notebook. <br />On GitHub, the HTML representation is unable to render, please try loading this page with nbviewer.org.</b></div><div class=\"sk-container\" hidden><div class=\"sk-item\"><div class=\"sk-estimator sk-toggleable\"><input class=\"sk-toggleable__control sk-hidden--visually\" id=\"sk-estimator-id-1\" type=\"checkbox\" checked><label for=\"sk-estimator-id-1\" class=\"sk-toggleable__label sk-toggleable__label-arrow\">SVC</label><div class=\"sk-toggleable__content\"><pre>SVC(class_weight=&#x27;balanced&#x27;, kernel=&#x27;linear&#x27;)</pre></div></div></div></div></div>"
            ],
            "text/plain": [
              "SVC(class_weight='balanced', kernel='linear')"
            ]
          },
          "execution_count": 14,
          "metadata": {},
          "output_type": "execute_result"
        }
      ],
      "source": [
        "clf_L2 = svm.SVC(kernel = 'linear', class_weight='balanced')\n",
        "clf_L2.fit(x_train_trf_L2, y_train[L2])"
      ]
    },
    {
      "cell_type": "code",
      "execution_count": 119,
      "metadata": {
        "id": "byiwV_dVIdjS"
      },
      "outputs": [
        {
          "name": "stdout",
          "output_type": "stream",
          "text": [
            "[[26  2  1  1  0  2  0  1  0  3  0  0  0  0  0  0  0]\n",
            " [ 1 48  2  4  5  4  0  0  2  1  0  0  0  0  0  4  0]\n",
            " [ 1  4 33  1  3  1  1  0  1  0  0  1  0  0  0  0  0]\n",
            " [ 1 11  1 43  4  4  2  1  6  3  0  1  0  1  1  0  0]\n",
            " [ 2 10  8 11 64  1  4  3  3  5  0  3  0  0  0  0  1]\n",
            " [ 3  4  4  6  0 50  1  1  1 10  0  1  0  0  0  0  0]\n",
            " [ 2  1  0  0  0  5 33  0  2  2  0  0  0  0  0  1  0]\n",
            " [ 2  3  0  1  2  0  2 35  0  0  0  0  0  0  0  0  0]\n",
            " [ 1  0  2  2  1  0  0  1 39  2  0  0  0  0  0  0  0]\n",
            " [ 5  5  1  2  2  5  0  1  4 39  0  0  0  0  1  0  0]\n",
            " [ 0  0  0  0  1  0  0  0  1  0  8  0  0  1  0  0  0]\n",
            " [ 0  1  1  2  0  0  0  0  0  0  0 26  0  0  0  0  0]\n",
            " [ 0  0  0  0  0  0  0  0  0  1  0  0 10  0  0  0  0]\n",
            " [ 0  0  0  1  0  0  0  1  0  0  0  0  0  9  0  0  0]\n",
            " [ 0  0  0  0  0  0  0  0  0  0  0  0  0  0  8  0  0]\n",
            " [ 0  0  0  0  0  2  1  0  0  2  0  0  0  0  0  9  0]\n",
            " [ 0  0  0  1  0  0  1  0  0  0  0  0  0  0  0  0 17]]\n",
            "0.6752717391304348\n",
            "0.686470094849795\n",
            "0.6752717391304348\n"
          ]
        }
      ],
      "source": [
        "y_pred_L2 = clf_L2.predict(x_valid_trf_L2)\n",
        "\n",
        "print (metrics.confusion_matrix(y_valid[L2], y_pred_L2))\n",
        "print (metrics.accuracy_score(y_valid[L2], y_pred_L2))\n",
        "print (metrics.precision_score(y_valid[L2], y_pred_L2, average=\"weighted\"))\n",
        "print (metrics.recall_score(y_valid[L2], y_pred_L2, average=\"weighted\"))"
      ]
    },
    {
      "cell_type": "markdown",
      "metadata": {
        "id": "578Ryn3rH-c9"
      },
      "source": [
        "### PCA with Hyper-parameter Tuning and Cross Validation\n",
        "\n"
      ]
    },
    {
      "cell_type": "code",
      "execution_count": 19,
      "metadata": {
        "id": "bUGjm7AkIfKG"
      },
      "outputs": [],
      "source": [
        "from sklearn.model_selection import RandomizedSearchCV\n",
        "from sklearn.metrics import accuracy_score"
      ]
    },
    {
      "cell_type": "code",
      "execution_count": 20,
      "metadata": {
        "id": "aF7c9zgPIgR7"
      },
      "outputs": [],
      "source": [
        "# Define the model\n",
        "svc_L2 = svm.SVC(class_weight='balanced')"
      ]
    },
    {
      "cell_type": "code",
      "execution_count": 21,
      "metadata": {
        "id": "0466mblBIh8G"
      },
      "outputs": [],
      "source": [
        "# Parameters to search\n",
        "param_distributions_L2 = {\n",
        "    'C': np.logspace(-3, 3, 7),  # logarithmic scale from 0.001 to 1000\n",
        "    'kernel': ['poly'],\n",
        "    'gamma': np.logspace(-3, 3, 7)\n",
        "}"
      ]
    },
    {
      "cell_type": "markdown",
      "metadata": {},
      "source": [
        "**Wrong**"
      ]
    },
    {
      "cell_type": "code",
      "execution_count": 51,
      "metadata": {
        "id": "ikLtrGgTIjPQ"
      },
      "outputs": [
        {
          "name": "stdout",
          "output_type": "stream",
          "text": [
            "Fitting 5 folds for each of 5 candidates, totalling 25 fits\n"
          ]
        },
        {
          "data": {
            "text/html": [
              "<style>#sk-container-id-6 {color: black;}#sk-container-id-6 pre{padding: 0;}#sk-container-id-6 div.sk-toggleable {background-color: white;}#sk-container-id-6 label.sk-toggleable__label {cursor: pointer;display: block;width: 100%;margin-bottom: 0;padding: 0.3em;box-sizing: border-box;text-align: center;}#sk-container-id-6 label.sk-toggleable__label-arrow:before {content: \"▸\";float: left;margin-right: 0.25em;color: #696969;}#sk-container-id-6 label.sk-toggleable__label-arrow:hover:before {color: black;}#sk-container-id-6 div.sk-estimator:hover label.sk-toggleable__label-arrow:before {color: black;}#sk-container-id-6 div.sk-toggleable__content {max-height: 0;max-width: 0;overflow: hidden;text-align: left;background-color: #f0f8ff;}#sk-container-id-6 div.sk-toggleable__content pre {margin: 0.2em;color: black;border-radius: 0.25em;background-color: #f0f8ff;}#sk-container-id-6 input.sk-toggleable__control:checked~div.sk-toggleable__content {max-height: 200px;max-width: 100%;overflow: auto;}#sk-container-id-6 input.sk-toggleable__control:checked~label.sk-toggleable__label-arrow:before {content: \"▾\";}#sk-container-id-6 div.sk-estimator input.sk-toggleable__control:checked~label.sk-toggleable__label {background-color: #d4ebff;}#sk-container-id-6 div.sk-label input.sk-toggleable__control:checked~label.sk-toggleable__label {background-color: #d4ebff;}#sk-container-id-6 input.sk-hidden--visually {border: 0;clip: rect(1px 1px 1px 1px);clip: rect(1px, 1px, 1px, 1px);height: 1px;margin: -1px;overflow: hidden;padding: 0;position: absolute;width: 1px;}#sk-container-id-6 div.sk-estimator {font-family: monospace;background-color: #f0f8ff;border: 1px dotted black;border-radius: 0.25em;box-sizing: border-box;margin-bottom: 0.5em;}#sk-container-id-6 div.sk-estimator:hover {background-color: #d4ebff;}#sk-container-id-6 div.sk-parallel-item::after {content: \"\";width: 100%;border-bottom: 1px solid gray;flex-grow: 1;}#sk-container-id-6 div.sk-label:hover label.sk-toggleable__label {background-color: #d4ebff;}#sk-container-id-6 div.sk-serial::before {content: \"\";position: absolute;border-left: 1px solid gray;box-sizing: border-box;top: 0;bottom: 0;left: 50%;z-index: 0;}#sk-container-id-6 div.sk-serial {display: flex;flex-direction: column;align-items: center;background-color: white;padding-right: 0.2em;padding-left: 0.2em;position: relative;}#sk-container-id-6 div.sk-item {position: relative;z-index: 1;}#sk-container-id-6 div.sk-parallel {display: flex;align-items: stretch;justify-content: center;background-color: white;position: relative;}#sk-container-id-6 div.sk-item::before, #sk-container-id-6 div.sk-parallel-item::before {content: \"\";position: absolute;border-left: 1px solid gray;box-sizing: border-box;top: 0;bottom: 0;left: 50%;z-index: -1;}#sk-container-id-6 div.sk-parallel-item {display: flex;flex-direction: column;z-index: 1;position: relative;background-color: white;}#sk-container-id-6 div.sk-parallel-item:first-child::after {align-self: flex-end;width: 50%;}#sk-container-id-6 div.sk-parallel-item:last-child::after {align-self: flex-start;width: 50%;}#sk-container-id-6 div.sk-parallel-item:only-child::after {width: 0;}#sk-container-id-6 div.sk-dashed-wrapped {border: 1px dashed gray;margin: 0 0.4em 0.5em 0.4em;box-sizing: border-box;padding-bottom: 0.4em;background-color: white;}#sk-container-id-6 div.sk-label label {font-family: monospace;font-weight: bold;display: inline-block;line-height: 1.2em;}#sk-container-id-6 div.sk-label-container {text-align: center;}#sk-container-id-6 div.sk-container {/* jupyter's `normalize.less` sets `[hidden] { display: none; }` but bootstrap.min.css set `[hidden] { display: none !important; }` so we also need the `!important` here to be able to override the default hidden behavior on the sphinx rendered scikit-learn.org. See: https://github.com/scikit-learn/scikit-learn/issues/21755 */display: inline-block !important;position: relative;}#sk-container-id-6 div.sk-text-repr-fallback {display: none;}</style><div id=\"sk-container-id-6\" class=\"sk-top-container\"><div class=\"sk-text-repr-fallback\"><pre>RandomizedSearchCV(cv=5, estimator=SVC(class_weight=&#x27;balanced&#x27;), n_iter=5,\n",
              "                   n_jobs=-1,\n",
              "                   param_distributions={&#x27;C&#x27;: array([1.e-03, 1.e-02, 1.e-01, 1.e+00, 1.e+01, 1.e+02, 1.e+03]),\n",
              "                                        &#x27;gamma&#x27;: array([1.e-03, 1.e-02, 1.e-01, 1.e+00, 1.e+01, 1.e+02, 1.e+03]),\n",
              "                                        &#x27;kernel&#x27;: [&#x27;linear&#x27;, &#x27;rbf&#x27;, &#x27;poly&#x27;,\n",
              "                                                   &#x27;poly&#x27;]},\n",
              "                   random_state=42, scoring=&#x27;accuracy&#x27;, verbose=2)</pre><b>In a Jupyter environment, please rerun this cell to show the HTML representation or trust the notebook. <br />On GitHub, the HTML representation is unable to render, please try loading this page with nbviewer.org.</b></div><div class=\"sk-container\" hidden><div class=\"sk-item sk-dashed-wrapped\"><div class=\"sk-label-container\"><div class=\"sk-label sk-toggleable\"><input class=\"sk-toggleable__control sk-hidden--visually\" id=\"sk-estimator-id-8\" type=\"checkbox\" ><label for=\"sk-estimator-id-8\" class=\"sk-toggleable__label sk-toggleable__label-arrow\">RandomizedSearchCV</label><div class=\"sk-toggleable__content\"><pre>RandomizedSearchCV(cv=5, estimator=SVC(class_weight=&#x27;balanced&#x27;), n_iter=5,\n",
              "                   n_jobs=-1,\n",
              "                   param_distributions={&#x27;C&#x27;: array([1.e-03, 1.e-02, 1.e-01, 1.e+00, 1.e+01, 1.e+02, 1.e+03]),\n",
              "                                        &#x27;gamma&#x27;: array([1.e-03, 1.e-02, 1.e-01, 1.e+00, 1.e+01, 1.e+02, 1.e+03]),\n",
              "                                        &#x27;kernel&#x27;: [&#x27;linear&#x27;, &#x27;rbf&#x27;, &#x27;poly&#x27;,\n",
              "                                                   &#x27;poly&#x27;]},\n",
              "                   random_state=42, scoring=&#x27;accuracy&#x27;, verbose=2)</pre></div></div></div><div class=\"sk-parallel\"><div class=\"sk-parallel-item\"><div class=\"sk-item\"><div class=\"sk-label-container\"><div class=\"sk-label sk-toggleable\"><input class=\"sk-toggleable__control sk-hidden--visually\" id=\"sk-estimator-id-9\" type=\"checkbox\" ><label for=\"sk-estimator-id-9\" class=\"sk-toggleable__label sk-toggleable__label-arrow\">estimator: SVC</label><div class=\"sk-toggleable__content\"><pre>SVC(class_weight=&#x27;balanced&#x27;)</pre></div></div></div><div class=\"sk-serial\"><div class=\"sk-item\"><div class=\"sk-estimator sk-toggleable\"><input class=\"sk-toggleable__control sk-hidden--visually\" id=\"sk-estimator-id-10\" type=\"checkbox\" ><label for=\"sk-estimator-id-10\" class=\"sk-toggleable__label sk-toggleable__label-arrow\">SVC</label><div class=\"sk-toggleable__content\"><pre>SVC(class_weight=&#x27;balanced&#x27;)</pre></div></div></div></div></div></div></div></div></div></div>"
            ],
            "text/plain": [
              "RandomizedSearchCV(cv=5, estimator=SVC(class_weight='balanced'), n_iter=5,\n",
              "                   n_jobs=-1,\n",
              "                   param_distributions={'C': array([1.e-03, 1.e-02, 1.e-01, 1.e+00, 1.e+01, 1.e+02, 1.e+03]),\n",
              "                                        'gamma': array([1.e-03, 1.e-02, 1.e-01, 1.e+00, 1.e+01, 1.e+02, 1.e+03]),\n",
              "                                        'kernel': ['linear', 'rbf', 'poly',\n",
              "                                                   'poly']},\n",
              "                   random_state=42, scoring='accuracy', verbose=2)"
            ]
          },
          "execution_count": 51,
          "metadata": {},
          "output_type": "execute_result"
        }
      ],
      "source": [
        "# Randomized search\n",
        "random_search_L2 = RandomizedSearchCV(svc_L2, param_distributions_L2, n_iter=5, cv=5, scoring='accuracy', random_state=42, verbose=2, n_jobs=-1)\n",
        "random_search_L2.fit(x_train[L2], y_train[L2])"
      ]
    },
    {
      "cell_type": "code",
      "execution_count": 52,
      "metadata": {
        "id": "uvRvc1oaIkye"
      },
      "outputs": [
        {
          "name": "stdout",
          "output_type": "stream",
          "text": [
            "Best parameters: {'kernel': 'rbf', 'gamma': 0.001, 'C': 10.0}\n",
            "Best cross-validation score: 0.5498930099857346\n",
            "Best model: SVC(C=10.0, class_weight='balanced', gamma=0.001)\n"
          ]
        }
      ],
      "source": [
        "print(f\"Best parameters: {random_search_L2.best_params_}\")\n",
        "print(f\"Best cross-validation score: {random_search_L2.best_score_}\")\n",
        "print(f\"Best model: {random_search_L2.best_estimator_}\")"
      ]
    },
    {
      "cell_type": "code",
      "execution_count": 53,
      "metadata": {
        "id": "NqSb0CchIl7P"
      },
      "outputs": [],
      "source": [
        "best_params = random_search_L2.best_params_\n",
        "best_model = random_search_L2.best_estimator_"
      ]
    },
    {
      "cell_type": "code",
      "execution_count": 54,
      "metadata": {
        "id": "BlMhkFU5InDV"
      },
      "outputs": [
        {
          "name": "stdout",
          "output_type": "stream",
          "text": [
            "Accuracy on test data:0.9116847826086957\n"
          ]
        }
      ],
      "source": [
        "y_pred = best_model.predict(x_valid[L2])\n",
        "accuracy = accuracy_score(y_valid[L2], y_pred)\n",
        "print(f'Accuracy on test data:{accuracy}')"
      ]
    },
    {
      "cell_type": "code",
      "execution_count": 55,
      "metadata": {
        "id": "vJZtbVeyIoQ3"
      },
      "outputs": [],
      "source": [
        "y_pred_L2 = best_model.predict(x_test)"
      ]
    },
    {
      "cell_type": "code",
      "execution_count": 56,
      "metadata": {},
      "outputs": [
        {
          "data": {
            "text/plain": [
              "array([22., 25., 30., 27., 29., 30., 27., 33., 23., 22., 26., 25., 27.,\n",
              "       26., 23., 26., 28., 25., 31., 29., 33., 24., 29., 22., 26., 26.,\n",
              "       28., 23., 25., 26., 23., 30., 30., 24., 28., 33., 24., 25., 26.,\n",
              "       25., 23., 23., 25., 30., 31., 22., 26., 32., 23., 23., 22., 24.,\n",
              "       29., 27., 23., 26., 30., 34., 28., 25., 30., 23., 23., 26., 28.,\n",
              "       25., 25., 25., 22., 32., 33., 28., 61., 30., 24., 22., 26., 26.,\n",
              "       27., 26., 34., 32., 24., 23., 26., 26., 31., 23., 26., 29., 22.,\n",
              "       31., 25., 24., 27., 30., 31., 25., 27., 29., 23., 22., 26., 22.,\n",
              "       24., 36., 26., 26., 32., 25., 27., 27., 24., 24., 30., 30., 26.,\n",
              "       25., 23., 26., 23., 26., 41., 33., 32., 28., 29., 35., 34., 24.,\n",
              "       28., 27., 36., 23., 28., 22., 26., 27., 30., 31., 26., 27., 26.,\n",
              "       31., 23., 30., 30., 24., 33., 30., 29., 27., 23., 24., 31., 30.,\n",
              "       23., 26., 28., 41., 31., 25., 25., 28., 30., 26., 30., 26., 26.,\n",
              "       25., 24., 27., 31., 30., 33., 31., 25., 34., 30., 24., 27., 25.,\n",
              "       26., 23., 29., 23., 23., 28., 28., 24., 30., 34., 28., 31., 27.,\n",
              "       27., 28., 31., 31., 22., 26., 27., 25., 27., 33., 35., 24., 22.,\n",
              "       26., 22., 23., 22., 22., 26., 30., 61., 29., 23., 32., 25., 24.,\n",
              "       29., 28., 27., 26., 33., 29., 28., 28., 32., 25., 26., 31., 30.,\n",
              "       30., 41., 31., 28., 41., 27., 36., 30., 23., 25., 28., 26., 24.,\n",
              "       26., 30., 31., 24., 26., 25., 26., 26., 25., 35., 26., 27., 33.,\n",
              "       25., 33., 33., 31., 41., 27., 29., 24., 28., 29., 27., 27., 23.,\n",
              "       24., 27., 24., 23., 22., 28., 22., 26., 27., 25., 23., 25., 25.,\n",
              "       23., 23., 27., 24., 28., 23., 30., 27., 30., 26., 25., 25., 32.,\n",
              "       23., 61., 27., 28., 26., 30., 26., 26., 22., 22., 61., 27., 26.,\n",
              "       30., 27., 24., 24., 22., 41., 26., 25., 29., 28., 41., 23., 26.,\n",
              "       26., 24., 26., 22., 25., 27., 36., 35., 31., 22., 29., 25., 25.,\n",
              "       27., 23., 28., 36., 33., 23., 27., 25., 30., 26., 22., 31., 23.,\n",
              "       26., 26., 26., 29., 31., 61., 28., 25., 26., 28., 26., 24., 31.,\n",
              "       41., 61., 28., 31., 29., 29., 23., 28., 27., 28., 31., 31., 31.,\n",
              "       26., 36., 27., 29., 26., 36., 26., 27., 28., 27., 30., 25., 31.,\n",
              "       33., 24., 25., 28., 30., 26., 27., 29., 26., 24., 27., 25., 26.,\n",
              "       24., 26., 29., 25., 23., 34., 23., 26., 25., 27., 24., 28., 23.,\n",
              "       24., 31., 25., 61., 26., 41., 32., 26., 24., 28., 41., 25., 27.,\n",
              "       27., 41., 28., 25., 29., 33., 29., 26., 29., 27., 34., 28., 23.,\n",
              "       25., 23., 26., 36., 23., 26., 26., 26., 24., 24., 23., 26., 23.,\n",
              "       32., 34., 25., 26., 33., 26., 26., 28., 23., 23., 22., 28., 29.,\n",
              "       27., 24., 28., 27., 27., 27., 31., 27., 27., 28., 30., 27., 22.,\n",
              "       30., 31., 22., 27., 31., 28., 27., 23., 25., 26., 26., 23., 23.,\n",
              "       27., 23., 26., 26., 27., 31., 23., 33., 33., 26., 35., 30., 24.,\n",
              "       26., 28., 24., 34., 26., 23., 30., 27., 30., 22., 23., 29., 33.,\n",
              "       22., 23., 28., 30., 23., 25., 23., 28., 33., 26., 23., 26., 31.,\n",
              "       26., 26., 23., 26., 30., 27., 31., 28., 61., 24., 27., 31., 27.,\n",
              "       27., 31., 25., 23., 24., 61., 27., 32., 25., 33., 27., 24., 23.,\n",
              "       30., 26., 23., 33., 24., 27., 31., 26., 28., 26., 27., 22., 29.,\n",
              "       28., 24., 26., 30., 23., 26., 26., 36., 26., 26., 25., 23., 26.,\n",
              "       23., 26., 23., 30., 29., 29., 25., 26., 29., 28., 29., 27., 30.,\n",
              "       30., 26., 30., 30., 26., 23., 23., 25., 31., 28., 27., 30., 26.,\n",
              "       30., 25., 26., 31., 25., 41., 27., 23., 23., 27., 23., 25., 28.,\n",
              "       22., 23., 23., 35., 22., 28., 33., 25., 27., 24., 23., 41., 26.,\n",
              "       31., 23., 26., 33., 23., 31., 28., 31., 22., 24., 41., 24., 28.,\n",
              "       27., 22., 27., 26., 33., 27., 23., 61., 23., 34., 25., 25., 25.,\n",
              "       31., 31., 29., 24., 27., 31., 30., 23., 24., 26., 35., 23., 25.,\n",
              "       26., 30., 30., 31., 23., 26., 32., 31., 25., 26., 25., 23., 26.,\n",
              "       25., 27., 36., 29., 26., 33., 31., 29., 41., 24., 28., 28., 25.,\n",
              "       35., 30., 24., 61., 30., 23., 30., 26., 34., 24., 30., 23., 23.,\n",
              "       36., 31., 31., 26., 61., 26., 33., 23., 25., 28., 26., 24., 26.,\n",
              "       23., 23., 30., 31., 28., 23., 24., 24., 22., 23., 30., 24., 24.,\n",
              "       27., 32., 31.])"
            ]
          },
          "execution_count": 56,
          "metadata": {},
          "output_type": "execute_result"
        }
      ],
      "source": [
        "y_pred_L2"
      ]
    },
    {
      "cell_type": "markdown",
      "metadata": {},
      "source": [
        "Correct"
      ]
    },
    {
      "cell_type": "code",
      "execution_count": 22,
      "metadata": {},
      "outputs": [
        {
          "name": "stdout",
          "output_type": "stream",
          "text": [
            "Fitting 3 folds for each of 3 candidates, totalling 9 fits\n"
          ]
        },
        {
          "name": "stdout",
          "output_type": "stream",
          "text": [
            "[CV] END ..................C=0.01, gamma=1000.0, kernel=poly; total time= 1.5min\n",
            "[CV] END ..................C=0.01, gamma=1000.0, kernel=poly; total time= 1.6min\n",
            "[CV] END ..................C=0.01, gamma=1000.0, kernel=poly; total time= 1.5min\n",
            "[CV] END ...................C=1000.0, gamma=1.0, kernel=poly; total time= 1.4min\n",
            "[CV] END ...................C=1000.0, gamma=1.0, kernel=poly; total time= 1.5min\n",
            "[CV] END ...................C=1000.0, gamma=1.0, kernel=poly; total time= 1.4min\n",
            "[CV] END .................C=1000.0, gamma=100.0, kernel=poly; total time= 1.4min\n",
            "[CV] END .................C=1000.0, gamma=100.0, kernel=poly; total time= 1.5min\n",
            "[CV] END .................C=1000.0, gamma=100.0, kernel=poly; total time= 1.5min\n"
          ]
        },
        {
          "data": {
            "text/html": [
              "<style>#sk-container-id-3 {color: black;}#sk-container-id-3 pre{padding: 0;}#sk-container-id-3 div.sk-toggleable {background-color: white;}#sk-container-id-3 label.sk-toggleable__label {cursor: pointer;display: block;width: 100%;margin-bottom: 0;padding: 0.3em;box-sizing: border-box;text-align: center;}#sk-container-id-3 label.sk-toggleable__label-arrow:before {content: \"▸\";float: left;margin-right: 0.25em;color: #696969;}#sk-container-id-3 label.sk-toggleable__label-arrow:hover:before {color: black;}#sk-container-id-3 div.sk-estimator:hover label.sk-toggleable__label-arrow:before {color: black;}#sk-container-id-3 div.sk-toggleable__content {max-height: 0;max-width: 0;overflow: hidden;text-align: left;background-color: #f0f8ff;}#sk-container-id-3 div.sk-toggleable__content pre {margin: 0.2em;color: black;border-radius: 0.25em;background-color: #f0f8ff;}#sk-container-id-3 input.sk-toggleable__control:checked~div.sk-toggleable__content {max-height: 200px;max-width: 100%;overflow: auto;}#sk-container-id-3 input.sk-toggleable__control:checked~label.sk-toggleable__label-arrow:before {content: \"▾\";}#sk-container-id-3 div.sk-estimator input.sk-toggleable__control:checked~label.sk-toggleable__label {background-color: #d4ebff;}#sk-container-id-3 div.sk-label input.sk-toggleable__control:checked~label.sk-toggleable__label {background-color: #d4ebff;}#sk-container-id-3 input.sk-hidden--visually {border: 0;clip: rect(1px 1px 1px 1px);clip: rect(1px, 1px, 1px, 1px);height: 1px;margin: -1px;overflow: hidden;padding: 0;position: absolute;width: 1px;}#sk-container-id-3 div.sk-estimator {font-family: monospace;background-color: #f0f8ff;border: 1px dotted black;border-radius: 0.25em;box-sizing: border-box;margin-bottom: 0.5em;}#sk-container-id-3 div.sk-estimator:hover {background-color: #d4ebff;}#sk-container-id-3 div.sk-parallel-item::after {content: \"\";width: 100%;border-bottom: 1px solid gray;flex-grow: 1;}#sk-container-id-3 div.sk-label:hover label.sk-toggleable__label {background-color: #d4ebff;}#sk-container-id-3 div.sk-serial::before {content: \"\";position: absolute;border-left: 1px solid gray;box-sizing: border-box;top: 0;bottom: 0;left: 50%;z-index: 0;}#sk-container-id-3 div.sk-serial {display: flex;flex-direction: column;align-items: center;background-color: white;padding-right: 0.2em;padding-left: 0.2em;position: relative;}#sk-container-id-3 div.sk-item {position: relative;z-index: 1;}#sk-container-id-3 div.sk-parallel {display: flex;align-items: stretch;justify-content: center;background-color: white;position: relative;}#sk-container-id-3 div.sk-item::before, #sk-container-id-3 div.sk-parallel-item::before {content: \"\";position: absolute;border-left: 1px solid gray;box-sizing: border-box;top: 0;bottom: 0;left: 50%;z-index: -1;}#sk-container-id-3 div.sk-parallel-item {display: flex;flex-direction: column;z-index: 1;position: relative;background-color: white;}#sk-container-id-3 div.sk-parallel-item:first-child::after {align-self: flex-end;width: 50%;}#sk-container-id-3 div.sk-parallel-item:last-child::after {align-self: flex-start;width: 50%;}#sk-container-id-3 div.sk-parallel-item:only-child::after {width: 0;}#sk-container-id-3 div.sk-dashed-wrapped {border: 1px dashed gray;margin: 0 0.4em 0.5em 0.4em;box-sizing: border-box;padding-bottom: 0.4em;background-color: white;}#sk-container-id-3 div.sk-label label {font-family: monospace;font-weight: bold;display: inline-block;line-height: 1.2em;}#sk-container-id-3 div.sk-label-container {text-align: center;}#sk-container-id-3 div.sk-container {/* jupyter's `normalize.less` sets `[hidden] { display: none; }` but bootstrap.min.css set `[hidden] { display: none !important; }` so we also need the `!important` here to be able to override the default hidden behavior on the sphinx rendered scikit-learn.org. See: https://github.com/scikit-learn/scikit-learn/issues/21755 */display: inline-block !important;position: relative;}#sk-container-id-3 div.sk-text-repr-fallback {display: none;}</style><div id=\"sk-container-id-3\" class=\"sk-top-container\"><div class=\"sk-text-repr-fallback\"><pre>RandomizedSearchCV(cv=3, estimator=SVC(class_weight=&#x27;balanced&#x27;), n_iter=3,\n",
              "                   param_distributions={&#x27;C&#x27;: array([1.e-03, 1.e-02, 1.e-01, 1.e+00, 1.e+01, 1.e+02, 1.e+03]),\n",
              "                                        &#x27;gamma&#x27;: array([1.e-03, 1.e-02, 1.e-01, 1.e+00, 1.e+01, 1.e+02, 1.e+03]),\n",
              "                                        &#x27;kernel&#x27;: [&#x27;poly&#x27;]},\n",
              "                   random_state=42, scoring=&#x27;accuracy&#x27;, verbose=2)</pre><b>In a Jupyter environment, please rerun this cell to show the HTML representation or trust the notebook. <br />On GitHub, the HTML representation is unable to render, please try loading this page with nbviewer.org.</b></div><div class=\"sk-container\" hidden><div class=\"sk-item sk-dashed-wrapped\"><div class=\"sk-label-container\"><div class=\"sk-label sk-toggleable\"><input class=\"sk-toggleable__control sk-hidden--visually\" id=\"sk-estimator-id-5\" type=\"checkbox\" ><label for=\"sk-estimator-id-5\" class=\"sk-toggleable__label sk-toggleable__label-arrow\">RandomizedSearchCV</label><div class=\"sk-toggleable__content\"><pre>RandomizedSearchCV(cv=3, estimator=SVC(class_weight=&#x27;balanced&#x27;), n_iter=3,\n",
              "                   param_distributions={&#x27;C&#x27;: array([1.e-03, 1.e-02, 1.e-01, 1.e+00, 1.e+01, 1.e+02, 1.e+03]),\n",
              "                                        &#x27;gamma&#x27;: array([1.e-03, 1.e-02, 1.e-01, 1.e+00, 1.e+01, 1.e+02, 1.e+03]),\n",
              "                                        &#x27;kernel&#x27;: [&#x27;poly&#x27;]},\n",
              "                   random_state=42, scoring=&#x27;accuracy&#x27;, verbose=2)</pre></div></div></div><div class=\"sk-parallel\"><div class=\"sk-parallel-item\"><div class=\"sk-item\"><div class=\"sk-label-container\"><div class=\"sk-label sk-toggleable\"><input class=\"sk-toggleable__control sk-hidden--visually\" id=\"sk-estimator-id-6\" type=\"checkbox\" ><label for=\"sk-estimator-id-6\" class=\"sk-toggleable__label sk-toggleable__label-arrow\">estimator: SVC</label><div class=\"sk-toggleable__content\"><pre>SVC(class_weight=&#x27;balanced&#x27;)</pre></div></div></div><div class=\"sk-serial\"><div class=\"sk-item\"><div class=\"sk-estimator sk-toggleable\"><input class=\"sk-toggleable__control sk-hidden--visually\" id=\"sk-estimator-id-7\" type=\"checkbox\" ><label for=\"sk-estimator-id-7\" class=\"sk-toggleable__label sk-toggleable__label-arrow\">SVC</label><div class=\"sk-toggleable__content\"><pre>SVC(class_weight=&#x27;balanced&#x27;)</pre></div></div></div></div></div></div></div></div></div></div>"
            ],
            "text/plain": [
              "RandomizedSearchCV(cv=3, estimator=SVC(class_weight='balanced'), n_iter=3,\n",
              "                   param_distributions={'C': array([1.e-03, 1.e-02, 1.e-01, 1.e+00, 1.e+01, 1.e+02, 1.e+03]),\n",
              "                                        'gamma': array([1.e-03, 1.e-02, 1.e-01, 1.e+00, 1.e+01, 1.e+02, 1.e+03]),\n",
              "                                        'kernel': ['poly']},\n",
              "                   random_state=42, scoring='accuracy', verbose=2)"
            ]
          },
          "execution_count": 22,
          "metadata": {},
          "output_type": "execute_result"
        }
      ],
      "source": [
        "# Randomized search new\n",
        "random_search_L2_new = RandomizedSearchCV(svc_L2, param_distributions_L2, n_iter=3, cv=3, scoring='accuracy', random_state=42, verbose=2)\n",
        "random_search_L2_new.fit(x_train_trf_L2, y_train[L2])"
      ]
    },
    {
      "cell_type": "code",
      "execution_count": 23,
      "metadata": {},
      "outputs": [
        {
          "name": "stdout",
          "output_type": "stream",
          "text": [
            "Best parameters: {'kernel': 'poly', 'gamma': 100.0, 'C': 1000.0}\n",
            "Best cross-validation score: 0.32064753200300317\n",
            "Best model: SVC(C=1000.0, class_weight='balanced', gamma=100.0, kernel='poly')\n"
          ]
        }
      ],
      "source": [
        "print(f\"Best parameters: {random_search_L2_new.best_params_}\")\n",
        "print(f\"Best cross-validation score: {random_search_L2_new.best_score_}\")\n",
        "print(f\"Best model: {random_search_L2_new.best_estimator_}\")"
      ]
    },
    {
      "cell_type": "code",
      "execution_count": 24,
      "metadata": {},
      "outputs": [],
      "source": [
        "best_params_L2 = random_search_L2_new.best_params_\n",
        "best_model_L2 = random_search_L2_new.best_estimator_"
      ]
    },
    {
      "cell_type": "code",
      "execution_count": 25,
      "metadata": {},
      "outputs": [
        {
          "name": "stdout",
          "output_type": "stream",
          "text": [
            "Accuracy on test data:0.8220108695652174\n"
          ]
        }
      ],
      "source": [
        "y_pred = best_model_L2.predict(x_valid_trf_L2)\n",
        "accuracy = accuracy_score(y_valid[L2], y_pred)\n",
        "print(f'Accuracy on test data:{accuracy}')"
      ]
    },
    {
      "cell_type": "code",
      "execution_count": 26,
      "metadata": {},
      "outputs": [
        {
          "data": {
            "text/plain": [
              "array([25., 25., 25., 25., 25., 27., 25., 30., 23., 25., 25., 25., 27.,\n",
              "       27., 27., 27., 27., 31., 27., 27., 22., 23., 23., 23., 23., 23.,\n",
              "       35., 23., 35., 23., 23., 28., 23., 23., 23., 23., 33., 33., 33.,\n",
              "       33., 33., 33., 33., 33., 33., 33., 33., 33., 34., 34., 34., 34.,\n",
              "       34., 26., 34., 34., 34., 34., 34., 22., 22., 22., 22., 26., 22.,\n",
              "       22., 22., 22., 22., 30., 30., 24., 30., 30., 30., 30., 30., 24.,\n",
              "       30., 30., 30., 30., 30., 24., 30., 30., 30., 30., 30., 26., 26.,\n",
              "       23., 26., 26., 26., 26., 26., 26., 22., 26., 29., 26., 26., 23.,\n",
              "       26., 26., 24., 24., 31., 24., 24., 32., 24., 26., 24., 24., 24.,\n",
              "       24., 24., 24., 24., 24., 24., 24., 24., 24., 24., 24., 24., 24.,\n",
              "       24., 24., 24., 24., 24., 31., 25., 31., 31., 31., 31., 31., 31.,\n",
              "       33., 31., 26., 26., 26., 33., 22., 26., 26., 23., 26., 26., 26.,\n",
              "       26., 22., 26., 26., 31., 31., 34., 22., 31., 31., 31., 31., 31.,\n",
              "       31., 31., 29., 29., 29., 29., 29., 29., 29., 29., 61., 27., 26.,\n",
              "       61., 61., 61., 61., 61., 61., 61., 61., 61., 61., 61., 27., 27.,\n",
              "       27., 27., 27., 29., 26., 27., 27., 26., 27., 27., 31., 27., 41.,\n",
              "       24., 27., 23., 23., 23., 26., 23., 26., 23., 23., 26., 23., 23.,\n",
              "       23., 23., 23., 23., 24., 26., 26., 26., 26., 26., 24., 26., 26.,\n",
              "       26., 24., 26., 26., 26., 26., 25., 25., 25., 25., 25., 25., 25.,\n",
              "       25., 27., 25., 25., 25., 23., 23., 23., 23., 22., 23., 23., 23.,\n",
              "       23., 23., 23., 23., 23., 27., 27., 27., 27., 24., 30., 27., 24.,\n",
              "       24., 27., 27., 26., 26., 23., 26., 26., 26., 26., 26., 26., 26.,\n",
              "       26., 26., 26., 27., 25., 25., 25., 25., 27., 25., 25., 28., 28.,\n",
              "       28., 28., 28., 28., 28., 28., 28., 28., 28., 28., 28., 36., 36.,\n",
              "       36., 36., 36., 36., 36., 36., 36., 36., 36., 34., 28., 28., 28.,\n",
              "       22., 28., 28., 28., 23., 28., 28., 28., 28., 28., 28., 25., 25.,\n",
              "       25., 25., 25., 24., 25., 25., 25., 22., 26., 25., 27., 30., 27.,\n",
              "       27., 27., 27., 27., 27., 25., 28., 25., 25., 25., 25., 25., 25.,\n",
              "       25., 25., 25., 23., 25., 25., 23., 23., 22., 23., 23., 23., 41.,\n",
              "       23., 23., 23., 26., 26., 26., 26., 26., 26., 26., 26., 24., 23.,\n",
              "       23., 23., 23., 23., 23., 23., 23., 23., 23., 23., 23., 23., 23.,\n",
              "       23., 23., 26., 26., 26., 28., 26., 26., 26., 26., 33., 33., 33.,\n",
              "       33., 33., 33., 33., 33., 33., 33., 33., 33., 33., 32., 32., 32.,\n",
              "       32., 32., 32., 32., 32., 32., 32., 32., 32., 32., 22., 22., 22.,\n",
              "       22., 22., 26., 22., 26., 22., 22., 22., 22., 22., 22., 22., 31.,\n",
              "       31., 31., 31., 31., 31., 31., 31., 31., 31., 31., 24., 29., 28.,\n",
              "       24., 29., 24., 24., 29., 24., 24., 26., 24., 32., 24., 24., 27.,\n",
              "       24., 24., 24., 24., 24., 31., 31., 31., 31., 31., 25., 25., 28.,\n",
              "       28., 28., 28., 28., 28., 28., 23., 28., 28., 35., 28., 26., 26.,\n",
              "       26., 23., 26., 26., 27., 27., 27., 27., 27., 27., 27., 31., 27.,\n",
              "       27., 27., 27., 23., 36., 24., 23., 23., 23., 26., 23., 23., 24.,\n",
              "       22., 23., 23., 23., 23., 23., 25., 36., 25., 25., 25., 25., 25.,\n",
              "       23., 25., 25., 25., 25., 25., 25., 25., 25., 30., 30., 30., 30.,\n",
              "       27., 30., 30., 30., 23., 31., 35., 35., 29., 35., 35., 35., 35.,\n",
              "       35., 35., 26., 26., 26., 26., 25., 26., 26., 26., 26., 28., 26.,\n",
              "       41., 30., 31., 26., 31., 31., 31., 31., 31., 31., 31., 31., 31.,\n",
              "       28., 29., 29., 26., 24., 29., 25., 29., 29., 29., 22., 22., 22.,\n",
              "       22., 22., 22., 22., 22., 22., 22., 30., 30., 30., 30., 30., 30.,\n",
              "       35., 30., 30., 30., 27., 27., 27., 27., 27., 34., 24., 27., 28.,\n",
              "       27., 27., 34., 27., 22., 34., 27., 27., 41., 41., 41., 41., 33.,\n",
              "       41., 25., 41., 41., 23., 41., 41., 41., 41., 27., 26., 26., 26.,\n",
              "       26., 26., 26., 32., 26., 26., 26., 41., 26., 26., 29., 30., 33.,\n",
              "       26., 26., 23., 26., 26., 26., 26., 26., 23., 26., 24., 26., 26.,\n",
              "       26., 26., 25., 26., 26., 30., 30., 30., 23., 30., 30., 31., 30.,\n",
              "       30., 30., 28., 23., 30., 30., 30., 26., 30., 30., 30., 25., 28.,\n",
              "       28., 28., 41., 28., 28., 28., 28., 32., 28., 28., 28., 28., 28.,\n",
              "       28., 29., 29., 29., 29., 29., 29., 29., 29., 29., 29., 29., 29.,\n",
              "       29., 29., 25.])"
            ]
          },
          "execution_count": 26,
          "metadata": {},
          "output_type": "execute_result"
        }
      ],
      "source": [
        "y_pred_L2 = best_model_L2.predict(x_test_trf_L2)\n",
        "y_pred_L2"
      ]
    },
    {
      "cell_type": "markdown",
      "metadata": {},
      "source": [
        "Test"
      ]
    },
    {
      "cell_type": "code",
      "execution_count": 15,
      "metadata": {},
      "outputs": [
        {
          "data": {
            "text/html": [
              "<style>#sk-container-id-2 {color: black;}#sk-container-id-2 pre{padding: 0;}#sk-container-id-2 div.sk-toggleable {background-color: white;}#sk-container-id-2 label.sk-toggleable__label {cursor: pointer;display: block;width: 100%;margin-bottom: 0;padding: 0.3em;box-sizing: border-box;text-align: center;}#sk-container-id-2 label.sk-toggleable__label-arrow:before {content: \"▸\";float: left;margin-right: 0.25em;color: #696969;}#sk-container-id-2 label.sk-toggleable__label-arrow:hover:before {color: black;}#sk-container-id-2 div.sk-estimator:hover label.sk-toggleable__label-arrow:before {color: black;}#sk-container-id-2 div.sk-toggleable__content {max-height: 0;max-width: 0;overflow: hidden;text-align: left;background-color: #f0f8ff;}#sk-container-id-2 div.sk-toggleable__content pre {margin: 0.2em;color: black;border-radius: 0.25em;background-color: #f0f8ff;}#sk-container-id-2 input.sk-toggleable__control:checked~div.sk-toggleable__content {max-height: 200px;max-width: 100%;overflow: auto;}#sk-container-id-2 input.sk-toggleable__control:checked~label.sk-toggleable__label-arrow:before {content: \"▾\";}#sk-container-id-2 div.sk-estimator input.sk-toggleable__control:checked~label.sk-toggleable__label {background-color: #d4ebff;}#sk-container-id-2 div.sk-label input.sk-toggleable__control:checked~label.sk-toggleable__label {background-color: #d4ebff;}#sk-container-id-2 input.sk-hidden--visually {border: 0;clip: rect(1px 1px 1px 1px);clip: rect(1px, 1px, 1px, 1px);height: 1px;margin: -1px;overflow: hidden;padding: 0;position: absolute;width: 1px;}#sk-container-id-2 div.sk-estimator {font-family: monospace;background-color: #f0f8ff;border: 1px dotted black;border-radius: 0.25em;box-sizing: border-box;margin-bottom: 0.5em;}#sk-container-id-2 div.sk-estimator:hover {background-color: #d4ebff;}#sk-container-id-2 div.sk-parallel-item::after {content: \"\";width: 100%;border-bottom: 1px solid gray;flex-grow: 1;}#sk-container-id-2 div.sk-label:hover label.sk-toggleable__label {background-color: #d4ebff;}#sk-container-id-2 div.sk-serial::before {content: \"\";position: absolute;border-left: 1px solid gray;box-sizing: border-box;top: 0;bottom: 0;left: 50%;z-index: 0;}#sk-container-id-2 div.sk-serial {display: flex;flex-direction: column;align-items: center;background-color: white;padding-right: 0.2em;padding-left: 0.2em;position: relative;}#sk-container-id-2 div.sk-item {position: relative;z-index: 1;}#sk-container-id-2 div.sk-parallel {display: flex;align-items: stretch;justify-content: center;background-color: white;position: relative;}#sk-container-id-2 div.sk-item::before, #sk-container-id-2 div.sk-parallel-item::before {content: \"\";position: absolute;border-left: 1px solid gray;box-sizing: border-box;top: 0;bottom: 0;left: 50%;z-index: -1;}#sk-container-id-2 div.sk-parallel-item {display: flex;flex-direction: column;z-index: 1;position: relative;background-color: white;}#sk-container-id-2 div.sk-parallel-item:first-child::after {align-self: flex-end;width: 50%;}#sk-container-id-2 div.sk-parallel-item:last-child::after {align-self: flex-start;width: 50%;}#sk-container-id-2 div.sk-parallel-item:only-child::after {width: 0;}#sk-container-id-2 div.sk-dashed-wrapped {border: 1px dashed gray;margin: 0 0.4em 0.5em 0.4em;box-sizing: border-box;padding-bottom: 0.4em;background-color: white;}#sk-container-id-2 div.sk-label label {font-family: monospace;font-weight: bold;display: inline-block;line-height: 1.2em;}#sk-container-id-2 div.sk-label-container {text-align: center;}#sk-container-id-2 div.sk-container {/* jupyter's `normalize.less` sets `[hidden] { display: none; }` but bootstrap.min.css set `[hidden] { display: none !important; }` so we also need the `!important` here to be able to override the default hidden behavior on the sphinx rendered scikit-learn.org. See: https://github.com/scikit-learn/scikit-learn/issues/21755 */display: inline-block !important;position: relative;}#sk-container-id-2 div.sk-text-repr-fallback {display: none;}</style><div id=\"sk-container-id-2\" class=\"sk-top-container\"><div class=\"sk-text-repr-fallback\"><pre>SVC(C=10.0, class_weight=&#x27;balanced&#x27;, gamma=0.001)</pre><b>In a Jupyter environment, please rerun this cell to show the HTML representation or trust the notebook. <br />On GitHub, the HTML representation is unable to render, please try loading this page with nbviewer.org.</b></div><div class=\"sk-container\" hidden><div class=\"sk-item\"><div class=\"sk-estimator sk-toggleable\"><input class=\"sk-toggleable__control sk-hidden--visually\" id=\"sk-estimator-id-2\" type=\"checkbox\" checked><label for=\"sk-estimator-id-2\" class=\"sk-toggleable__label sk-toggleable__label-arrow\">SVC</label><div class=\"sk-toggleable__content\"><pre>SVC(C=10.0, class_weight=&#x27;balanced&#x27;, gamma=0.001)</pre></div></div></div></div></div>"
            ],
            "text/plain": [
              "SVC(C=10.0, class_weight='balanced', gamma=0.001)"
            ]
          },
          "execution_count": 15,
          "metadata": {},
          "output_type": "execute_result"
        }
      ],
      "source": [
        "test_L2 = svm.SVC(C=10.0, class_weight='balanced', gamma=0.001, kernel='rbf')\n",
        "test_L2.fit(x_train_trf_L2, y_train[L2])"
      ]
    },
    {
      "cell_type": "code",
      "execution_count": 16,
      "metadata": {},
      "outputs": [
        {
          "name": "stdout",
          "output_type": "stream",
          "text": [
            "0.8614130434782609\n"
          ]
        }
      ],
      "source": [
        "y_pred_L2_test = test_L2.predict(x_valid_trf_L2)\n",
        "print (metrics.accuracy_score(y_valid[L2], y_pred_L2_test))"
      ]
    },
    {
      "cell_type": "code",
      "execution_count": 18,
      "metadata": {},
      "outputs": [
        {
          "data": {
            "text/html": [
              "<style>#sk-container-id-3 {color: black;}#sk-container-id-3 pre{padding: 0;}#sk-container-id-3 div.sk-toggleable {background-color: white;}#sk-container-id-3 label.sk-toggleable__label {cursor: pointer;display: block;width: 100%;margin-bottom: 0;padding: 0.3em;box-sizing: border-box;text-align: center;}#sk-container-id-3 label.sk-toggleable__label-arrow:before {content: \"▸\";float: left;margin-right: 0.25em;color: #696969;}#sk-container-id-3 label.sk-toggleable__label-arrow:hover:before {color: black;}#sk-container-id-3 div.sk-estimator:hover label.sk-toggleable__label-arrow:before {color: black;}#sk-container-id-3 div.sk-toggleable__content {max-height: 0;max-width: 0;overflow: hidden;text-align: left;background-color: #f0f8ff;}#sk-container-id-3 div.sk-toggleable__content pre {margin: 0.2em;color: black;border-radius: 0.25em;background-color: #f0f8ff;}#sk-container-id-3 input.sk-toggleable__control:checked~div.sk-toggleable__content {max-height: 200px;max-width: 100%;overflow: auto;}#sk-container-id-3 input.sk-toggleable__control:checked~label.sk-toggleable__label-arrow:before {content: \"▾\";}#sk-container-id-3 div.sk-estimator input.sk-toggleable__control:checked~label.sk-toggleable__label {background-color: #d4ebff;}#sk-container-id-3 div.sk-label input.sk-toggleable__control:checked~label.sk-toggleable__label {background-color: #d4ebff;}#sk-container-id-3 input.sk-hidden--visually {border: 0;clip: rect(1px 1px 1px 1px);clip: rect(1px, 1px, 1px, 1px);height: 1px;margin: -1px;overflow: hidden;padding: 0;position: absolute;width: 1px;}#sk-container-id-3 div.sk-estimator {font-family: monospace;background-color: #f0f8ff;border: 1px dotted black;border-radius: 0.25em;box-sizing: border-box;margin-bottom: 0.5em;}#sk-container-id-3 div.sk-estimator:hover {background-color: #d4ebff;}#sk-container-id-3 div.sk-parallel-item::after {content: \"\";width: 100%;border-bottom: 1px solid gray;flex-grow: 1;}#sk-container-id-3 div.sk-label:hover label.sk-toggleable__label {background-color: #d4ebff;}#sk-container-id-3 div.sk-serial::before {content: \"\";position: absolute;border-left: 1px solid gray;box-sizing: border-box;top: 0;bottom: 0;left: 50%;z-index: 0;}#sk-container-id-3 div.sk-serial {display: flex;flex-direction: column;align-items: center;background-color: white;padding-right: 0.2em;padding-left: 0.2em;position: relative;}#sk-container-id-3 div.sk-item {position: relative;z-index: 1;}#sk-container-id-3 div.sk-parallel {display: flex;align-items: stretch;justify-content: center;background-color: white;position: relative;}#sk-container-id-3 div.sk-item::before, #sk-container-id-3 div.sk-parallel-item::before {content: \"\";position: absolute;border-left: 1px solid gray;box-sizing: border-box;top: 0;bottom: 0;left: 50%;z-index: -1;}#sk-container-id-3 div.sk-parallel-item {display: flex;flex-direction: column;z-index: 1;position: relative;background-color: white;}#sk-container-id-3 div.sk-parallel-item:first-child::after {align-self: flex-end;width: 50%;}#sk-container-id-3 div.sk-parallel-item:last-child::after {align-self: flex-start;width: 50%;}#sk-container-id-3 div.sk-parallel-item:only-child::after {width: 0;}#sk-container-id-3 div.sk-dashed-wrapped {border: 1px dashed gray;margin: 0 0.4em 0.5em 0.4em;box-sizing: border-box;padding-bottom: 0.4em;background-color: white;}#sk-container-id-3 div.sk-label label {font-family: monospace;font-weight: bold;display: inline-block;line-height: 1.2em;}#sk-container-id-3 div.sk-label-container {text-align: center;}#sk-container-id-3 div.sk-container {/* jupyter's `normalize.less` sets `[hidden] { display: none; }` but bootstrap.min.css set `[hidden] { display: none !important; }` so we also need the `!important` here to be able to override the default hidden behavior on the sphinx rendered scikit-learn.org. See: https://github.com/scikit-learn/scikit-learn/issues/21755 */display: inline-block !important;position: relative;}#sk-container-id-3 div.sk-text-repr-fallback {display: none;}</style><div id=\"sk-container-id-3\" class=\"sk-top-container\"><div class=\"sk-text-repr-fallback\"><pre>SVC(C=100.0, class_weight=&#x27;balanced&#x27;, gamma=0.001)</pre><b>In a Jupyter environment, please rerun this cell to show the HTML representation or trust the notebook. <br />On GitHub, the HTML representation is unable to render, please try loading this page with nbviewer.org.</b></div><div class=\"sk-container\" hidden><div class=\"sk-item\"><div class=\"sk-estimator sk-toggleable\"><input class=\"sk-toggleable__control sk-hidden--visually\" id=\"sk-estimator-id-3\" type=\"checkbox\" checked><label for=\"sk-estimator-id-3\" class=\"sk-toggleable__label sk-toggleable__label-arrow\">SVC</label><div class=\"sk-toggleable__content\"><pre>SVC(C=100.0, class_weight=&#x27;balanced&#x27;, gamma=0.001)</pre></div></div></div></div></div>"
            ],
            "text/plain": [
              "SVC(C=100.0, class_weight='balanced', gamma=0.001)"
            ]
          },
          "execution_count": 18,
          "metadata": {},
          "output_type": "execute_result"
        }
      ],
      "source": [
        "test_L2 = svm.SVC(C=100.0, class_weight='balanced', gamma=0.001, kernel='rbf')\n",
        "test_L2.fit(x_train_trf_L2, y_train[L2])"
      ]
    },
    {
      "cell_type": "code",
      "execution_count": 19,
      "metadata": {},
      "outputs": [
        {
          "name": "stdout",
          "output_type": "stream",
          "text": [
            "0.8831521739130435\n"
          ]
        }
      ],
      "source": [
        "y_pred_L2_test = test_L2.predict(x_valid_trf_L2)\n",
        "print (metrics.accuracy_score(y_valid[L2], y_pred_L2_test))"
      ]
    },
    {
      "cell_type": "code",
      "execution_count": 20,
      "metadata": {},
      "outputs": [
        {
          "data": {
            "text/html": [
              "<style>#sk-container-id-4 {color: black;}#sk-container-id-4 pre{padding: 0;}#sk-container-id-4 div.sk-toggleable {background-color: white;}#sk-container-id-4 label.sk-toggleable__label {cursor: pointer;display: block;width: 100%;margin-bottom: 0;padding: 0.3em;box-sizing: border-box;text-align: center;}#sk-container-id-4 label.sk-toggleable__label-arrow:before {content: \"▸\";float: left;margin-right: 0.25em;color: #696969;}#sk-container-id-4 label.sk-toggleable__label-arrow:hover:before {color: black;}#sk-container-id-4 div.sk-estimator:hover label.sk-toggleable__label-arrow:before {color: black;}#sk-container-id-4 div.sk-toggleable__content {max-height: 0;max-width: 0;overflow: hidden;text-align: left;background-color: #f0f8ff;}#sk-container-id-4 div.sk-toggleable__content pre {margin: 0.2em;color: black;border-radius: 0.25em;background-color: #f0f8ff;}#sk-container-id-4 input.sk-toggleable__control:checked~div.sk-toggleable__content {max-height: 200px;max-width: 100%;overflow: auto;}#sk-container-id-4 input.sk-toggleable__control:checked~label.sk-toggleable__label-arrow:before {content: \"▾\";}#sk-container-id-4 div.sk-estimator input.sk-toggleable__control:checked~label.sk-toggleable__label {background-color: #d4ebff;}#sk-container-id-4 div.sk-label input.sk-toggleable__control:checked~label.sk-toggleable__label {background-color: #d4ebff;}#sk-container-id-4 input.sk-hidden--visually {border: 0;clip: rect(1px 1px 1px 1px);clip: rect(1px, 1px, 1px, 1px);height: 1px;margin: -1px;overflow: hidden;padding: 0;position: absolute;width: 1px;}#sk-container-id-4 div.sk-estimator {font-family: monospace;background-color: #f0f8ff;border: 1px dotted black;border-radius: 0.25em;box-sizing: border-box;margin-bottom: 0.5em;}#sk-container-id-4 div.sk-estimator:hover {background-color: #d4ebff;}#sk-container-id-4 div.sk-parallel-item::after {content: \"\";width: 100%;border-bottom: 1px solid gray;flex-grow: 1;}#sk-container-id-4 div.sk-label:hover label.sk-toggleable__label {background-color: #d4ebff;}#sk-container-id-4 div.sk-serial::before {content: \"\";position: absolute;border-left: 1px solid gray;box-sizing: border-box;top: 0;bottom: 0;left: 50%;z-index: 0;}#sk-container-id-4 div.sk-serial {display: flex;flex-direction: column;align-items: center;background-color: white;padding-right: 0.2em;padding-left: 0.2em;position: relative;}#sk-container-id-4 div.sk-item {position: relative;z-index: 1;}#sk-container-id-4 div.sk-parallel {display: flex;align-items: stretch;justify-content: center;background-color: white;position: relative;}#sk-container-id-4 div.sk-item::before, #sk-container-id-4 div.sk-parallel-item::before {content: \"\";position: absolute;border-left: 1px solid gray;box-sizing: border-box;top: 0;bottom: 0;left: 50%;z-index: -1;}#sk-container-id-4 div.sk-parallel-item {display: flex;flex-direction: column;z-index: 1;position: relative;background-color: white;}#sk-container-id-4 div.sk-parallel-item:first-child::after {align-self: flex-end;width: 50%;}#sk-container-id-4 div.sk-parallel-item:last-child::after {align-self: flex-start;width: 50%;}#sk-container-id-4 div.sk-parallel-item:only-child::after {width: 0;}#sk-container-id-4 div.sk-dashed-wrapped {border: 1px dashed gray;margin: 0 0.4em 0.5em 0.4em;box-sizing: border-box;padding-bottom: 0.4em;background-color: white;}#sk-container-id-4 div.sk-label label {font-family: monospace;font-weight: bold;display: inline-block;line-height: 1.2em;}#sk-container-id-4 div.sk-label-container {text-align: center;}#sk-container-id-4 div.sk-container {/* jupyter's `normalize.less` sets `[hidden] { display: none; }` but bootstrap.min.css set `[hidden] { display: none !important; }` so we also need the `!important` here to be able to override the default hidden behavior on the sphinx rendered scikit-learn.org. See: https://github.com/scikit-learn/scikit-learn/issues/21755 */display: inline-block !important;position: relative;}#sk-container-id-4 div.sk-text-repr-fallback {display: none;}</style><div id=\"sk-container-id-4\" class=\"sk-top-container\"><div class=\"sk-text-repr-fallback\"><pre>SVC(C=1000.0, class_weight=&#x27;balanced&#x27;, gamma=0.001)</pre><b>In a Jupyter environment, please rerun this cell to show the HTML representation or trust the notebook. <br />On GitHub, the HTML representation is unable to render, please try loading this page with nbviewer.org.</b></div><div class=\"sk-container\" hidden><div class=\"sk-item\"><div class=\"sk-estimator sk-toggleable\"><input class=\"sk-toggleable__control sk-hidden--visually\" id=\"sk-estimator-id-4\" type=\"checkbox\" checked><label for=\"sk-estimator-id-4\" class=\"sk-toggleable__label sk-toggleable__label-arrow\">SVC</label><div class=\"sk-toggleable__content\"><pre>SVC(C=1000.0, class_weight=&#x27;balanced&#x27;, gamma=0.001)</pre></div></div></div></div></div>"
            ],
            "text/plain": [
              "SVC(C=1000.0, class_weight='balanced', gamma=0.001)"
            ]
          },
          "execution_count": 20,
          "metadata": {},
          "output_type": "execute_result"
        }
      ],
      "source": [
        "test_L2 = svm.SVC(C=1000.0, class_weight='balanced', gamma=0.001, kernel='rbf')\n",
        "test_L2.fit(x_train_trf_L2, y_train[L2])"
      ]
    },
    {
      "cell_type": "code",
      "execution_count": 21,
      "metadata": {},
      "outputs": [
        {
          "name": "stdout",
          "output_type": "stream",
          "text": [
            "0.8831521739130435\n"
          ]
        }
      ],
      "source": [
        "y_pred_L2_test = test_L2.predict(x_valid_trf_L2)\n",
        "print (metrics.accuracy_score(y_valid[L2], y_pred_L2_test))"
      ]
    },
    {
      "cell_type": "code",
      "execution_count": 24,
      "metadata": {},
      "outputs": [
        {
          "data": {
            "text/html": [
              "<style>#sk-container-id-6 {color: black;}#sk-container-id-6 pre{padding: 0;}#sk-container-id-6 div.sk-toggleable {background-color: white;}#sk-container-id-6 label.sk-toggleable__label {cursor: pointer;display: block;width: 100%;margin-bottom: 0;padding: 0.3em;box-sizing: border-box;text-align: center;}#sk-container-id-6 label.sk-toggleable__label-arrow:before {content: \"▸\";float: left;margin-right: 0.25em;color: #696969;}#sk-container-id-6 label.sk-toggleable__label-arrow:hover:before {color: black;}#sk-container-id-6 div.sk-estimator:hover label.sk-toggleable__label-arrow:before {color: black;}#sk-container-id-6 div.sk-toggleable__content {max-height: 0;max-width: 0;overflow: hidden;text-align: left;background-color: #f0f8ff;}#sk-container-id-6 div.sk-toggleable__content pre {margin: 0.2em;color: black;border-radius: 0.25em;background-color: #f0f8ff;}#sk-container-id-6 input.sk-toggleable__control:checked~div.sk-toggleable__content {max-height: 200px;max-width: 100%;overflow: auto;}#sk-container-id-6 input.sk-toggleable__control:checked~label.sk-toggleable__label-arrow:before {content: \"▾\";}#sk-container-id-6 div.sk-estimator input.sk-toggleable__control:checked~label.sk-toggleable__label {background-color: #d4ebff;}#sk-container-id-6 div.sk-label input.sk-toggleable__control:checked~label.sk-toggleable__label {background-color: #d4ebff;}#sk-container-id-6 input.sk-hidden--visually {border: 0;clip: rect(1px 1px 1px 1px);clip: rect(1px, 1px, 1px, 1px);height: 1px;margin: -1px;overflow: hidden;padding: 0;position: absolute;width: 1px;}#sk-container-id-6 div.sk-estimator {font-family: monospace;background-color: #f0f8ff;border: 1px dotted black;border-radius: 0.25em;box-sizing: border-box;margin-bottom: 0.5em;}#sk-container-id-6 div.sk-estimator:hover {background-color: #d4ebff;}#sk-container-id-6 div.sk-parallel-item::after {content: \"\";width: 100%;border-bottom: 1px solid gray;flex-grow: 1;}#sk-container-id-6 div.sk-label:hover label.sk-toggleable__label {background-color: #d4ebff;}#sk-container-id-6 div.sk-serial::before {content: \"\";position: absolute;border-left: 1px solid gray;box-sizing: border-box;top: 0;bottom: 0;left: 50%;z-index: 0;}#sk-container-id-6 div.sk-serial {display: flex;flex-direction: column;align-items: center;background-color: white;padding-right: 0.2em;padding-left: 0.2em;position: relative;}#sk-container-id-6 div.sk-item {position: relative;z-index: 1;}#sk-container-id-6 div.sk-parallel {display: flex;align-items: stretch;justify-content: center;background-color: white;position: relative;}#sk-container-id-6 div.sk-item::before, #sk-container-id-6 div.sk-parallel-item::before {content: \"\";position: absolute;border-left: 1px solid gray;box-sizing: border-box;top: 0;bottom: 0;left: 50%;z-index: -1;}#sk-container-id-6 div.sk-parallel-item {display: flex;flex-direction: column;z-index: 1;position: relative;background-color: white;}#sk-container-id-6 div.sk-parallel-item:first-child::after {align-self: flex-end;width: 50%;}#sk-container-id-6 div.sk-parallel-item:last-child::after {align-self: flex-start;width: 50%;}#sk-container-id-6 div.sk-parallel-item:only-child::after {width: 0;}#sk-container-id-6 div.sk-dashed-wrapped {border: 1px dashed gray;margin: 0 0.4em 0.5em 0.4em;box-sizing: border-box;padding-bottom: 0.4em;background-color: white;}#sk-container-id-6 div.sk-label label {font-family: monospace;font-weight: bold;display: inline-block;line-height: 1.2em;}#sk-container-id-6 div.sk-label-container {text-align: center;}#sk-container-id-6 div.sk-container {/* jupyter's `normalize.less` sets `[hidden] { display: none; }` but bootstrap.min.css set `[hidden] { display: none !important; }` so we also need the `!important` here to be able to override the default hidden behavior on the sphinx rendered scikit-learn.org. See: https://github.com/scikit-learn/scikit-learn/issues/21755 */display: inline-block !important;position: relative;}#sk-container-id-6 div.sk-text-repr-fallback {display: none;}</style><div id=\"sk-container-id-6\" class=\"sk-top-container\"><div class=\"sk-text-repr-fallback\"><pre>SVC(C=100.0, class_weight=&#x27;balanced&#x27;, gamma=0.01)</pre><b>In a Jupyter environment, please rerun this cell to show the HTML representation or trust the notebook. <br />On GitHub, the HTML representation is unable to render, please try loading this page with nbviewer.org.</b></div><div class=\"sk-container\" hidden><div class=\"sk-item\"><div class=\"sk-estimator sk-toggleable\"><input class=\"sk-toggleable__control sk-hidden--visually\" id=\"sk-estimator-id-6\" type=\"checkbox\" checked><label for=\"sk-estimator-id-6\" class=\"sk-toggleable__label sk-toggleable__label-arrow\">SVC</label><div class=\"sk-toggleable__content\"><pre>SVC(C=100.0, class_weight=&#x27;balanced&#x27;, gamma=0.01)</pre></div></div></div></div></div>"
            ],
            "text/plain": [
              "SVC(C=100.0, class_weight='balanced', gamma=0.01)"
            ]
          },
          "execution_count": 24,
          "metadata": {},
          "output_type": "execute_result"
        }
      ],
      "source": [
        "test_L2 = svm.SVC(C=100.0, class_weight='balanced', gamma=0.01, kernel='rbf')\n",
        "test_L2.fit(x_train_trf_L2, y_train[L2])"
      ]
    },
    {
      "cell_type": "code",
      "execution_count": 25,
      "metadata": {},
      "outputs": [
        {
          "name": "stdout",
          "output_type": "stream",
          "text": [
            "0.7921195652173914\n"
          ]
        }
      ],
      "source": [
        "y_pred_L2_test = test_L2.predict(x_valid_trf_L2)\n",
        "print (metrics.accuracy_score(y_valid[L2], y_pred_L2_test))"
      ]
    },
    {
      "cell_type": "markdown",
      "metadata": {},
      "source": [
        "Save the best model"
      ]
    },
    {
      "cell_type": "code",
      "execution_count": 26,
      "metadata": {},
      "outputs": [],
      "source": [
        "import joblib"
      ]
    },
    {
      "cell_type": "code",
      "execution_count": 32,
      "metadata": {},
      "outputs": [
        {
          "data": {
            "text/plain": [
              "['layer-11-new/best_model_L2_new.joblib']"
            ]
          },
          "execution_count": 32,
          "metadata": {},
          "output_type": "execute_result"
        }
      ],
      "source": [
        "test_L2 = svm.SVC(C=1000.0, class_weight='balanced', gamma=0.001, kernel='rbf')\n",
        "test_L2.fit(x_train_trf_L2, y_train[L2])\n",
        "joblib.dump(test_L2, f'{WORKING_DIR}/best_model_L2_new.joblib')"
      ]
    },
    {
      "cell_type": "code",
      "execution_count": 34,
      "metadata": {},
      "outputs": [
        {
          "name": "stdout",
          "output_type": "stream",
          "text": [
            "Accuracy on test data: 0.8831521739130435\n"
          ]
        }
      ],
      "source": [
        "loaded_model = joblib.load(f'{WORKING_DIR}/best_model_L2_new.joblib')\n",
        "y_pred_L2_load = loaded_model.predict(x_valid_trf_L2)\n",
        "accuracy = metrics.accuracy_score(y_valid[L2], y_pred_L2_load)\n",
        "print(f'Accuracy on test data: {accuracy}')"
      ]
    },
    {
      "cell_type": "code",
      "execution_count": 28,
      "metadata": {},
      "outputs": [
        {
          "data": {
            "text/plain": [
              "['layer-11-new/best_model_L2.joblib']"
            ]
          },
          "execution_count": 28,
          "metadata": {},
          "output_type": "execute_result"
        }
      ],
      "source": [
        "# Save the model to your Google Drive using joblib\n",
        "joblib.dump(best_model_L2, f'{WORKING_DIR}/best_model_L2.joblib')"
      ]
    },
    {
      "cell_type": "code",
      "execution_count": 40,
      "metadata": {},
      "outputs": [],
      "source": [
        "loaded_model = joblib.load(f'{WORKING_DIR}/best_model_L2.joblib')"
      ]
    },
    {
      "cell_type": "code",
      "execution_count": 41,
      "metadata": {},
      "outputs": [
        {
          "name": "stdout",
          "output_type": "stream",
          "text": [
            "Accuracy on test data: 0.8220108695652174\n"
          ]
        }
      ],
      "source": [
        "y_pred_L2_load = loaded_model.predict(x_valid_trf_L2)\n",
        "accuracy = accuracy_score(y_valid[L2], y_pred_L2_load)\n",
        "print(f'Accuracy on test data: {accuracy}')"
      ]
    },
    {
      "cell_type": "code",
      "execution_count": 35,
      "metadata": {},
      "outputs": [
        {
          "name": "stdout",
          "output_type": "stream",
          "text": [
            "[[ 31   0   0   0   3   1   0   0   0   1   0   0   0   0   0   0   0]\n",
            " [  0  56   1   4   4   1   1   0   2   1   0   0   0   0   0   1   0]\n",
            " [  0   0  44   0   1   0   0   0   0   0   0   1   0   0   0   0   0]\n",
            " [  0   5   1  66   4   0   1   0   1   1   0   0   0   0   0   0   0]\n",
            " [  0   4   1   2 105   0   0   0   1   1   0   1   0   0   0   0   0]\n",
            " [  1   0   1   1   1  72   0   1   1   2   0   1   0   0   0   0   0]\n",
            " [  1   0   0   0   2   0  39   2   0   1   0   0   1   0   0   0   0]\n",
            " [  1   1   0   0   1   0   0  41   0   1   0   0   0   0   0   0   0]\n",
            " [  0   1   0   1   0   0   1   0  44   1   0   0   0   0   0   0   0]\n",
            " [  1   1   2   0   0   3   0   0   0  58   0   0   0   0   0   0   0]\n",
            " [  0   1   0   0   1   0   0   0   0   0   9   0   0   0   0   0   0]\n",
            " [  0   0   0   1   0   0   1   0   0   0   0  28   0   0   0   0   0]\n",
            " [  0   0   0   0   0   0   0   0   0   1   0   0  10   0   0   0   0]\n",
            " [  0   1   0   0   0   1   0   0   0   0   0   0   0   9   0   0   0]\n",
            " [  0   0   0   0   0   0   0   0   0   0   0   0   0   0   8   0   0]\n",
            " [  0   1   0   0   1   0   0   0   0   0   0   0   0   0   0  12   0]\n",
            " [  0   0   0   0   0   0   1   0   0   0   0   0   0   0   0   0  18]]\n",
            "0.8831521739130435\n",
            "0.8846376231254724\n",
            "0.8831521739130435\n"
          ]
        }
      ],
      "source": [
        "print (metrics.confusion_matrix(y_valid[L2], y_pred_L2_load))\n",
        "print (metrics.accuracy_score(y_valid[L2], y_pred_L2_load))\n",
        "print (metrics.precision_score(y_valid[L2], y_pred_L2_load, average=\"weighted\"))\n",
        "print (metrics.recall_score(y_valid[L2], y_pred_L2_load, average=\"weighted\"))"
      ]
    },
    {
      "cell_type": "code",
      "execution_count": 36,
      "metadata": {},
      "outputs": [
        {
          "data": {
            "text/html": [
              "<div>\n",
              "<style scoped>\n",
              "    .dataframe tbody tr th:only-of-type {\n",
              "        vertical-align: middle;\n",
              "    }\n",
              "\n",
              "    .dataframe tbody tr th {\n",
              "        vertical-align: top;\n",
              "    }\n",
              "\n",
              "    .dataframe thead th {\n",
              "        text-align: right;\n",
              "    }\n",
              "</style>\n",
              "<table border=\"1\" class=\"dataframe\">\n",
              "  <thead>\n",
              "    <tr style=\"text-align: right;\">\n",
              "      <th></th>\n",
              "      <th>label_2</th>\n",
              "    </tr>\n",
              "  </thead>\n",
              "  <tbody>\n",
              "    <tr>\n",
              "      <th>0</th>\n",
              "      <td>25.0</td>\n",
              "    </tr>\n",
              "    <tr>\n",
              "      <th>1</th>\n",
              "      <td>25.0</td>\n",
              "    </tr>\n",
              "    <tr>\n",
              "      <th>2</th>\n",
              "      <td>25.0</td>\n",
              "    </tr>\n",
              "    <tr>\n",
              "      <th>3</th>\n",
              "      <td>23.0</td>\n",
              "    </tr>\n",
              "    <tr>\n",
              "      <th>4</th>\n",
              "      <td>25.0</td>\n",
              "    </tr>\n",
              "  </tbody>\n",
              "</table>\n",
              "</div>"
            ],
            "text/plain": [
              "   label_2\n",
              "0     25.0\n",
              "1     25.0\n",
              "2     25.0\n",
              "3     23.0\n",
              "4     25.0"
            ]
          },
          "execution_count": 36,
          "metadata": {},
          "output_type": "execute_result"
        }
      ],
      "source": [
        "# Create the base DataFrame\n",
        "output_df_L2 = pd.DataFrame({\n",
        "    'label_2': y_pred_L2_load\n",
        "})\n",
        "\n",
        "output_df_L2.head()"
      ]
    },
    {
      "cell_type": "code",
      "execution_count": 37,
      "metadata": {},
      "outputs": [],
      "source": [
        "output_df_L2.to_csv(f\"{WORKING_DIR}/L2.csv\", index=False)"
      ]
    },
    {
      "cell_type": "markdown",
      "metadata": {
        "id": "P4XTlIlSHVE_"
      },
      "source": [
        "# Label 3"
      ]
    },
    {
      "cell_type": "code",
      "execution_count": 14,
      "metadata": {
        "id": "BFeQk113Irgh"
      },
      "outputs": [
        {
          "data": {
            "text/html": [
              "<style>#sk-container-id-1 {color: black;}#sk-container-id-1 pre{padding: 0;}#sk-container-id-1 div.sk-toggleable {background-color: white;}#sk-container-id-1 label.sk-toggleable__label {cursor: pointer;display: block;width: 100%;margin-bottom: 0;padding: 0.3em;box-sizing: border-box;text-align: center;}#sk-container-id-1 label.sk-toggleable__label-arrow:before {content: \"▸\";float: left;margin-right: 0.25em;color: #696969;}#sk-container-id-1 label.sk-toggleable__label-arrow:hover:before {color: black;}#sk-container-id-1 div.sk-estimator:hover label.sk-toggleable__label-arrow:before {color: black;}#sk-container-id-1 div.sk-toggleable__content {max-height: 0;max-width: 0;overflow: hidden;text-align: left;background-color: #f0f8ff;}#sk-container-id-1 div.sk-toggleable__content pre {margin: 0.2em;color: black;border-radius: 0.25em;background-color: #f0f8ff;}#sk-container-id-1 input.sk-toggleable__control:checked~div.sk-toggleable__content {max-height: 200px;max-width: 100%;overflow: auto;}#sk-container-id-1 input.sk-toggleable__control:checked~label.sk-toggleable__label-arrow:before {content: \"▾\";}#sk-container-id-1 div.sk-estimator input.sk-toggleable__control:checked~label.sk-toggleable__label {background-color: #d4ebff;}#sk-container-id-1 div.sk-label input.sk-toggleable__control:checked~label.sk-toggleable__label {background-color: #d4ebff;}#sk-container-id-1 input.sk-hidden--visually {border: 0;clip: rect(1px 1px 1px 1px);clip: rect(1px, 1px, 1px, 1px);height: 1px;margin: -1px;overflow: hidden;padding: 0;position: absolute;width: 1px;}#sk-container-id-1 div.sk-estimator {font-family: monospace;background-color: #f0f8ff;border: 1px dotted black;border-radius: 0.25em;box-sizing: border-box;margin-bottom: 0.5em;}#sk-container-id-1 div.sk-estimator:hover {background-color: #d4ebff;}#sk-container-id-1 div.sk-parallel-item::after {content: \"\";width: 100%;border-bottom: 1px solid gray;flex-grow: 1;}#sk-container-id-1 div.sk-label:hover label.sk-toggleable__label {background-color: #d4ebff;}#sk-container-id-1 div.sk-serial::before {content: \"\";position: absolute;border-left: 1px solid gray;box-sizing: border-box;top: 0;bottom: 0;left: 50%;z-index: 0;}#sk-container-id-1 div.sk-serial {display: flex;flex-direction: column;align-items: center;background-color: white;padding-right: 0.2em;padding-left: 0.2em;position: relative;}#sk-container-id-1 div.sk-item {position: relative;z-index: 1;}#sk-container-id-1 div.sk-parallel {display: flex;align-items: stretch;justify-content: center;background-color: white;position: relative;}#sk-container-id-1 div.sk-item::before, #sk-container-id-1 div.sk-parallel-item::before {content: \"\";position: absolute;border-left: 1px solid gray;box-sizing: border-box;top: 0;bottom: 0;left: 50%;z-index: -1;}#sk-container-id-1 div.sk-parallel-item {display: flex;flex-direction: column;z-index: 1;position: relative;background-color: white;}#sk-container-id-1 div.sk-parallel-item:first-child::after {align-self: flex-end;width: 50%;}#sk-container-id-1 div.sk-parallel-item:last-child::after {align-self: flex-start;width: 50%;}#sk-container-id-1 div.sk-parallel-item:only-child::after {width: 0;}#sk-container-id-1 div.sk-dashed-wrapped {border: 1px dashed gray;margin: 0 0.4em 0.5em 0.4em;box-sizing: border-box;padding-bottom: 0.4em;background-color: white;}#sk-container-id-1 div.sk-label label {font-family: monospace;font-weight: bold;display: inline-block;line-height: 1.2em;}#sk-container-id-1 div.sk-label-container {text-align: center;}#sk-container-id-1 div.sk-container {/* jupyter's `normalize.less` sets `[hidden] { display: none; }` but bootstrap.min.css set `[hidden] { display: none !important; }` so we also need the `!important` here to be able to override the default hidden behavior on the sphinx rendered scikit-learn.org. See: https://github.com/scikit-learn/scikit-learn/issues/21755 */display: inline-block !important;position: relative;}#sk-container-id-1 div.sk-text-repr-fallback {display: none;}</style><div id=\"sk-container-id-1\" class=\"sk-top-container\"><div class=\"sk-text-repr-fallback\"><pre>SVC(class_weight=&#x27;balanced&#x27;, kernel=&#x27;linear&#x27;)</pre><b>In a Jupyter environment, please rerun this cell to show the HTML representation or trust the notebook. <br />On GitHub, the HTML representation is unable to render, please try loading this page with nbviewer.org.</b></div><div class=\"sk-container\" hidden><div class=\"sk-item\"><div class=\"sk-estimator sk-toggleable\"><input class=\"sk-toggleable__control sk-hidden--visually\" id=\"sk-estimator-id-1\" type=\"checkbox\" checked><label for=\"sk-estimator-id-1\" class=\"sk-toggleable__label sk-toggleable__label-arrow\">SVC</label><div class=\"sk-toggleable__content\"><pre>SVC(class_weight=&#x27;balanced&#x27;, kernel=&#x27;linear&#x27;)</pre></div></div></div></div></div>"
            ],
            "text/plain": [
              "SVC(class_weight='balanced', kernel='linear')"
            ]
          },
          "execution_count": 14,
          "metadata": {},
          "output_type": "execute_result"
        }
      ],
      "source": [
        "from sklearn import svm\n",
        "\n",
        "clf_L3 = svm.SVC(kernel = 'linear', class_weight='balanced')\n",
        "clf_L3.fit(x_train[L3], y_train[L3])"
      ]
    },
    {
      "cell_type": "code",
      "execution_count": 15,
      "metadata": {
        "id": "q0RRJ_rWIs2q"
      },
      "outputs": [],
      "source": [
        "from sklearn import metrics\n",
        "\n",
        "y_pred_L3 = clf_L3.predict(x_valid[L3])\n",
        "y_pred_test_before_L3 = clf_L3.predict(x_test[L3])"
      ]
    },
    {
      "cell_type": "code",
      "execution_count": 14,
      "metadata": {
        "id": "iyGtUBXjIvGs"
      },
      "outputs": [
        {
          "name": "stdout",
          "output_type": "stream",
          "text": [
            "Predicted labels before feature engineering: [1 1 1 1 1 1 1 1 1 1 1 1 1 1 1 1 1 1 0 0 0 0 0 0 0 0 1 1 1 1 1 1 1 1 1 1 1\n",
            " 1 1 1 1 1 1 1 1 1 1 1 1 1 1 1 1 1 0 0 0 0 0 0 0 0 0 0 0 1 1 1 1 1 1 1 1 1\n",
            " 1 1 1 1 1 1 1 1 1 1 1 1 1 1 1 1 1 1 1 1 1 0 1 1 1 1 1 1 1 1 1 1 1 1 1 1 1\n",
            " 1 1 1 1 1 1 1 1 1 0 1 0 0 0 0 0 0 0 0 0 1 1 1 1 1 1 1 1 1 1 1 1 1 1 1 1 1\n",
            " 1 1 1 1 1 1 1 1 1 1 1 1 1 1 1 1 1 1 0 0 0 0 0 0 0 0 0 0 0 0 0 0 0 0 0 0 0\n",
            " 1 1 1 1 1 1 1 1 1 1 1 1 1 1 1 1 1 1 1 1 1 1 1 1 1 1 1 1 1 1 1 1 1 1 1 1 1\n",
            " 1 1 1 1 1 1 1 1 1 1 1 1 1 1 1 1 1 1 1 1 1 1 1 1 1 1 1 1 1 1 1 1 1 1 1 1 0\n",
            " 0 0 0 0 0 0 0 0 0 0 0 0 1 1 1 1 1 1 1 1 1 1 1 1 1 1 1 1 1 1 1 1 1 1 1 1 1\n",
            " 1 1 1 1 1 1 1 1 1 1 1 1 1 1 1 1 1 1 1 1 1 1 1 1 1 1 1 1 1 1 1 0 0 0 0 0 0\n",
            " 0 0 0 0 0 0 0 0 0 1 1 1 1 1 1 1 1 1 1 1 1 1 1 1 1 1 1 1 1 1 1 1 1 1 1 1 1\n",
            " 1 1 1 1 1 1 1 1 1 1 1 1 1 1 1 1 1 1 1 1 1 1 1 1 1 1 1 1 1 1 1 1 1 1 1 1 1\n",
            " 1 1 1 1 0 0 0 0 0 0 0 0 1 1 1 1 1 1 1 1 1 1 1 1 1 1 1 1 1 1 1 1 1 1 1 1 1\n",
            " 1 0 0 0 0 0 0 0 0 0 0 0 0 0 0 0 0 0 0 0 0 0 0 0 0 0 0 1 1 1 1 1 1 1 1 1 1\n",
            " 1 1 1 1 1 1 1 1 1 1 1 1 1 1 1 1 1 1 1 1 1 1 1 1 1 1 1 1 1 1 1 1 1 1 1 1 1\n",
            " 1 1 1 1 1 1 1 1 1 1 1 1 1 1 1 1 1 1 1 1 1 1 1 1 1 1 1 1 1 1 1 1 1 1 1 1 1\n",
            " 1 1 1 1 1 1 1 1 1 1 1 1 1 1 1 1 1 1 1 1 1 1 1 1 1 1 1 1 1 1 1 1 1 1 1 1 1\n",
            " 1 1 1 1 1 1 1 1 1 1 1 1 1 1 1 1 1 1 1 1 1 1 0 0 0 0 0 0 0 0 0 0 1 1 1 1 1\n",
            " 1 1 1 1 1 0 0 0 0 0 0 0 0 0 0 1 0 0 0 0 0 0 1 1 1 1 1 1 1 1 1 1 1 1 1 1 1\n",
            " 1 1 1 1 1 1 1 1 1 1 1 1 1 1 1 1 1 1 1 1 1 1 1 0 1 1 1 1 1 1 1 1 1 1 1 1 1\n",
            " 1 1 1 1 1 1 1 1 1 1 1 1 1 1 1 1 1 1 1 1 1 1 1 1 1 1 1 1 1 1 1 1 1 1 1 1 1\n",
            " 1 1 1 1 1 1 1 1 1 1]\n"
          ]
        }
      ],
      "source": [
        "print('Predicted labels before feature engineering:', y_pred_test_before_L3)"
      ]
    },
    {
      "cell_type": "code",
      "execution_count": 34,
      "metadata": {
        "id": "LE6qT0C3IwiW"
      },
      "outputs": [
        {
          "name": "stdout",
          "output_type": "stream",
          "text": [
            "[[140   2]\n",
            " [  4 604]]\n",
            "0.992\n",
            "0.992065273193986\n",
            "0.992\n"
          ]
        }
      ],
      "source": [
        "print (metrics.confusion_matrix(y_valid[L3], y_pred_L3))\n",
        "print (metrics.accuracy_score(y_valid[L3], y_pred_L3))\n",
        "print (metrics.precision_score(y_valid[L3], y_pred_L3, average=\"weighted\"))\n",
        "print (metrics.recall_score(y_valid[L3], y_pred_L3, average=\"weighted\"))"
      ]
    },
    {
      "cell_type": "markdown",
      "metadata": {
        "id": "eD0nWo9XICSn"
      },
      "source": [
        "## Feature Engineering"
      ]
    },
    {
      "cell_type": "code",
      "execution_count": 31,
      "metadata": {
        "id": "TA276ewmI41F"
      },
      "outputs": [
        {
          "name": "stdout",
          "output_type": "stream",
          "text": [
            "Shape after PCA:  (28520, 148)\n"
          ]
        }
      ],
      "source": [
        "from sklearn.decomposition import PCA\n",
        "\n",
        "pca_L3 = PCA(n_components=0.95, svd_solver='full')\n",
        "pca_L3.fit(x_train[L3])\n",
        "x_train_trf_L3 = pd.DataFrame(pca_L3.transform(x_train[L3]))\n",
        "x_valid_trf_L3 = pd.DataFrame(pca_L3.transform(x_valid[L3]))\n",
        "\n",
        "print(\"Shape after PCA: \", x_train_trf_L3.shape)"
      ]
    },
    {
      "cell_type": "code",
      "execution_count": 32,
      "metadata": {},
      "outputs": [],
      "source": [
        "x_test_trf_L3= pd.DataFrame(pca_L3.transform(x_test[L3]))"
      ]
    },
    {
      "cell_type": "code",
      "execution_count": 17,
      "metadata": {
        "id": "CDoIoQvAI7TH"
      },
      "outputs": [
        {
          "data": {
            "text/html": [
              "<style>#sk-container-id-2 {color: black;}#sk-container-id-2 pre{padding: 0;}#sk-container-id-2 div.sk-toggleable {background-color: white;}#sk-container-id-2 label.sk-toggleable__label {cursor: pointer;display: block;width: 100%;margin-bottom: 0;padding: 0.3em;box-sizing: border-box;text-align: center;}#sk-container-id-2 label.sk-toggleable__label-arrow:before {content: \"▸\";float: left;margin-right: 0.25em;color: #696969;}#sk-container-id-2 label.sk-toggleable__label-arrow:hover:before {color: black;}#sk-container-id-2 div.sk-estimator:hover label.sk-toggleable__label-arrow:before {color: black;}#sk-container-id-2 div.sk-toggleable__content {max-height: 0;max-width: 0;overflow: hidden;text-align: left;background-color: #f0f8ff;}#sk-container-id-2 div.sk-toggleable__content pre {margin: 0.2em;color: black;border-radius: 0.25em;background-color: #f0f8ff;}#sk-container-id-2 input.sk-toggleable__control:checked~div.sk-toggleable__content {max-height: 200px;max-width: 100%;overflow: auto;}#sk-container-id-2 input.sk-toggleable__control:checked~label.sk-toggleable__label-arrow:before {content: \"▾\";}#sk-container-id-2 div.sk-estimator input.sk-toggleable__control:checked~label.sk-toggleable__label {background-color: #d4ebff;}#sk-container-id-2 div.sk-label input.sk-toggleable__control:checked~label.sk-toggleable__label {background-color: #d4ebff;}#sk-container-id-2 input.sk-hidden--visually {border: 0;clip: rect(1px 1px 1px 1px);clip: rect(1px, 1px, 1px, 1px);height: 1px;margin: -1px;overflow: hidden;padding: 0;position: absolute;width: 1px;}#sk-container-id-2 div.sk-estimator {font-family: monospace;background-color: #f0f8ff;border: 1px dotted black;border-radius: 0.25em;box-sizing: border-box;margin-bottom: 0.5em;}#sk-container-id-2 div.sk-estimator:hover {background-color: #d4ebff;}#sk-container-id-2 div.sk-parallel-item::after {content: \"\";width: 100%;border-bottom: 1px solid gray;flex-grow: 1;}#sk-container-id-2 div.sk-label:hover label.sk-toggleable__label {background-color: #d4ebff;}#sk-container-id-2 div.sk-serial::before {content: \"\";position: absolute;border-left: 1px solid gray;box-sizing: border-box;top: 0;bottom: 0;left: 50%;z-index: 0;}#sk-container-id-2 div.sk-serial {display: flex;flex-direction: column;align-items: center;background-color: white;padding-right: 0.2em;padding-left: 0.2em;position: relative;}#sk-container-id-2 div.sk-item {position: relative;z-index: 1;}#sk-container-id-2 div.sk-parallel {display: flex;align-items: stretch;justify-content: center;background-color: white;position: relative;}#sk-container-id-2 div.sk-item::before, #sk-container-id-2 div.sk-parallel-item::before {content: \"\";position: absolute;border-left: 1px solid gray;box-sizing: border-box;top: 0;bottom: 0;left: 50%;z-index: -1;}#sk-container-id-2 div.sk-parallel-item {display: flex;flex-direction: column;z-index: 1;position: relative;background-color: white;}#sk-container-id-2 div.sk-parallel-item:first-child::after {align-self: flex-end;width: 50%;}#sk-container-id-2 div.sk-parallel-item:last-child::after {align-self: flex-start;width: 50%;}#sk-container-id-2 div.sk-parallel-item:only-child::after {width: 0;}#sk-container-id-2 div.sk-dashed-wrapped {border: 1px dashed gray;margin: 0 0.4em 0.5em 0.4em;box-sizing: border-box;padding-bottom: 0.4em;background-color: white;}#sk-container-id-2 div.sk-label label {font-family: monospace;font-weight: bold;display: inline-block;line-height: 1.2em;}#sk-container-id-2 div.sk-label-container {text-align: center;}#sk-container-id-2 div.sk-container {/* jupyter's `normalize.less` sets `[hidden] { display: none; }` but bootstrap.min.css set `[hidden] { display: none !important; }` so we also need the `!important` here to be able to override the default hidden behavior on the sphinx rendered scikit-learn.org. See: https://github.com/scikit-learn/scikit-learn/issues/21755 */display: inline-block !important;position: relative;}#sk-container-id-2 div.sk-text-repr-fallback {display: none;}</style><div id=\"sk-container-id-2\" class=\"sk-top-container\"><div class=\"sk-text-repr-fallback\"><pre>SVC(class_weight=&#x27;balanced&#x27;, kernel=&#x27;linear&#x27;)</pre><b>In a Jupyter environment, please rerun this cell to show the HTML representation or trust the notebook. <br />On GitHub, the HTML representation is unable to render, please try loading this page with nbviewer.org.</b></div><div class=\"sk-container\" hidden><div class=\"sk-item\"><div class=\"sk-estimator sk-toggleable\"><input class=\"sk-toggleable__control sk-hidden--visually\" id=\"sk-estimator-id-2\" type=\"checkbox\" checked><label for=\"sk-estimator-id-2\" class=\"sk-toggleable__label sk-toggleable__label-arrow\">SVC</label><div class=\"sk-toggleable__content\"><pre>SVC(class_weight=&#x27;balanced&#x27;, kernel=&#x27;linear&#x27;)</pre></div></div></div></div></div>"
            ],
            "text/plain": [
              "SVC(class_weight='balanced', kernel='linear')"
            ]
          },
          "execution_count": 17,
          "metadata": {},
          "output_type": "execute_result"
        }
      ],
      "source": [
        "clf_L3 = svm.SVC(kernel = 'linear', class_weight='balanced')\n",
        "clf_L3.fit(x_train_trf_L3, y_train[L3])"
      ]
    },
    {
      "cell_type": "code",
      "execution_count": 18,
      "metadata": {
        "id": "N1wvAFidI9ee"
      },
      "outputs": [
        {
          "name": "stdout",
          "output_type": "stream",
          "text": [
            "[[140   2]\n",
            " [ 11 597]]\n",
            "0.9826666666666667\n",
            "0.9835007720741339\n",
            "0.9826666666666667\n"
          ]
        }
      ],
      "source": [
        "y_pred_L3 = clf_L3.predict(x_valid_trf_L3)\n",
        "\n",
        "print (metrics.confusion_matrix(y_valid[L3], y_pred_L3))\n",
        "print (metrics.accuracy_score(y_valid[L3], y_pred_L3))\n",
        "print (metrics.precision_score(y_valid[L3], y_pred_L3, average=\"weighted\"))\n",
        "print (metrics.recall_score(y_valid[L3], y_pred_L3, average=\"weighted\"))"
      ]
    },
    {
      "cell_type": "markdown",
      "metadata": {
        "id": "BS6scvlWJFtf"
      },
      "source": [
        "### PCA with Hyper-parameter Tuning and Cross Validation\n"
      ]
    },
    {
      "cell_type": "code",
      "execution_count": 18,
      "metadata": {
        "id": "3QaU714zJHu4"
      },
      "outputs": [],
      "source": [
        "from sklearn.model_selection import RandomizedSearchCV\n",
        "from sklearn.metrics import accuracy_score"
      ]
    },
    {
      "cell_type": "code",
      "execution_count": 19,
      "metadata": {
        "id": "6088IaBGJJKn"
      },
      "outputs": [],
      "source": [
        "# Define the model\n",
        "svc_L3 = svm.SVC(class_weight='balanced')"
      ]
    },
    {
      "cell_type": "code",
      "execution_count": 20,
      "metadata": {
        "id": "IRSqZ5JaJKuu"
      },
      "outputs": [],
      "source": [
        "# Parameters to search\n",
        "param_distributions_L3 = {\n",
        "    'C': np.logspace(-2, 2, 4),  # logarithmic scale from 0.001 to 1000\n",
        "    'kernel': ['linear'],\n",
        "    'gamma': np.logspace(-2, 2, 4)\n",
        "}"
      ]
    },
    {
      "cell_type": "markdown",
      "metadata": {},
      "source": [
        "**Wrong**"
      ]
    },
    {
      "cell_type": "code",
      "execution_count": 67,
      "metadata": {
        "id": "Cob7n_v5JMfP"
      },
      "outputs": [
        {
          "name": "stdout",
          "output_type": "stream",
          "text": [
            "Fitting 5 folds for each of 5 candidates, totalling 25 fits\n"
          ]
        },
        {
          "data": {
            "text/html": [
              "<style>#sk-container-id-9 {color: black;}#sk-container-id-9 pre{padding: 0;}#sk-container-id-9 div.sk-toggleable {background-color: white;}#sk-container-id-9 label.sk-toggleable__label {cursor: pointer;display: block;width: 100%;margin-bottom: 0;padding: 0.3em;box-sizing: border-box;text-align: center;}#sk-container-id-9 label.sk-toggleable__label-arrow:before {content: \"▸\";float: left;margin-right: 0.25em;color: #696969;}#sk-container-id-9 label.sk-toggleable__label-arrow:hover:before {color: black;}#sk-container-id-9 div.sk-estimator:hover label.sk-toggleable__label-arrow:before {color: black;}#sk-container-id-9 div.sk-toggleable__content {max-height: 0;max-width: 0;overflow: hidden;text-align: left;background-color: #f0f8ff;}#sk-container-id-9 div.sk-toggleable__content pre {margin: 0.2em;color: black;border-radius: 0.25em;background-color: #f0f8ff;}#sk-container-id-9 input.sk-toggleable__control:checked~div.sk-toggleable__content {max-height: 200px;max-width: 100%;overflow: auto;}#sk-container-id-9 input.sk-toggleable__control:checked~label.sk-toggleable__label-arrow:before {content: \"▾\";}#sk-container-id-9 div.sk-estimator input.sk-toggleable__control:checked~label.sk-toggleable__label {background-color: #d4ebff;}#sk-container-id-9 div.sk-label input.sk-toggleable__control:checked~label.sk-toggleable__label {background-color: #d4ebff;}#sk-container-id-9 input.sk-hidden--visually {border: 0;clip: rect(1px 1px 1px 1px);clip: rect(1px, 1px, 1px, 1px);height: 1px;margin: -1px;overflow: hidden;padding: 0;position: absolute;width: 1px;}#sk-container-id-9 div.sk-estimator {font-family: monospace;background-color: #f0f8ff;border: 1px dotted black;border-radius: 0.25em;box-sizing: border-box;margin-bottom: 0.5em;}#sk-container-id-9 div.sk-estimator:hover {background-color: #d4ebff;}#sk-container-id-9 div.sk-parallel-item::after {content: \"\";width: 100%;border-bottom: 1px solid gray;flex-grow: 1;}#sk-container-id-9 div.sk-label:hover label.sk-toggleable__label {background-color: #d4ebff;}#sk-container-id-9 div.sk-serial::before {content: \"\";position: absolute;border-left: 1px solid gray;box-sizing: border-box;top: 0;bottom: 0;left: 50%;z-index: 0;}#sk-container-id-9 div.sk-serial {display: flex;flex-direction: column;align-items: center;background-color: white;padding-right: 0.2em;padding-left: 0.2em;position: relative;}#sk-container-id-9 div.sk-item {position: relative;z-index: 1;}#sk-container-id-9 div.sk-parallel {display: flex;align-items: stretch;justify-content: center;background-color: white;position: relative;}#sk-container-id-9 div.sk-item::before, #sk-container-id-9 div.sk-parallel-item::before {content: \"\";position: absolute;border-left: 1px solid gray;box-sizing: border-box;top: 0;bottom: 0;left: 50%;z-index: -1;}#sk-container-id-9 div.sk-parallel-item {display: flex;flex-direction: column;z-index: 1;position: relative;background-color: white;}#sk-container-id-9 div.sk-parallel-item:first-child::after {align-self: flex-end;width: 50%;}#sk-container-id-9 div.sk-parallel-item:last-child::after {align-self: flex-start;width: 50%;}#sk-container-id-9 div.sk-parallel-item:only-child::after {width: 0;}#sk-container-id-9 div.sk-dashed-wrapped {border: 1px dashed gray;margin: 0 0.4em 0.5em 0.4em;box-sizing: border-box;padding-bottom: 0.4em;background-color: white;}#sk-container-id-9 div.sk-label label {font-family: monospace;font-weight: bold;display: inline-block;line-height: 1.2em;}#sk-container-id-9 div.sk-label-container {text-align: center;}#sk-container-id-9 div.sk-container {/* jupyter's `normalize.less` sets `[hidden] { display: none; }` but bootstrap.min.css set `[hidden] { display: none !important; }` so we also need the `!important` here to be able to override the default hidden behavior on the sphinx rendered scikit-learn.org. See: https://github.com/scikit-learn/scikit-learn/issues/21755 */display: inline-block !important;position: relative;}#sk-container-id-9 div.sk-text-repr-fallback {display: none;}</style><div id=\"sk-container-id-9\" class=\"sk-top-container\"><div class=\"sk-text-repr-fallback\"><pre>RandomizedSearchCV(cv=5, estimator=SVC(class_weight=&#x27;balanced&#x27;), n_iter=5,\n",
              "                   n_jobs=-1,\n",
              "                   param_distributions={&#x27;C&#x27;: array([1.e-03, 1.e-02, 1.e-01, 1.e+00, 1.e+01, 1.e+02, 1.e+03]),\n",
              "                                        &#x27;gamma&#x27;: array([1.e-03, 1.e-02, 1.e-01, 1.e+00, 1.e+01, 1.e+02, 1.e+03]),\n",
              "                                        &#x27;kernel&#x27;: [&#x27;linear&#x27;, &#x27;rbf&#x27;, &#x27;poly&#x27;]},\n",
              "                   random_state=42, scoring=&#x27;accuracy&#x27;, verbose=2)</pre><b>In a Jupyter environment, please rerun this cell to show the HTML representation or trust the notebook. <br />On GitHub, the HTML representation is unable to render, please try loading this page with nbviewer.org.</b></div><div class=\"sk-container\" hidden><div class=\"sk-item sk-dashed-wrapped\"><div class=\"sk-label-container\"><div class=\"sk-label sk-toggleable\"><input class=\"sk-toggleable__control sk-hidden--visually\" id=\"sk-estimator-id-13\" type=\"checkbox\" ><label for=\"sk-estimator-id-13\" class=\"sk-toggleable__label sk-toggleable__label-arrow\">RandomizedSearchCV</label><div class=\"sk-toggleable__content\"><pre>RandomizedSearchCV(cv=5, estimator=SVC(class_weight=&#x27;balanced&#x27;), n_iter=5,\n",
              "                   n_jobs=-1,\n",
              "                   param_distributions={&#x27;C&#x27;: array([1.e-03, 1.e-02, 1.e-01, 1.e+00, 1.e+01, 1.e+02, 1.e+03]),\n",
              "                                        &#x27;gamma&#x27;: array([1.e-03, 1.e-02, 1.e-01, 1.e+00, 1.e+01, 1.e+02, 1.e+03]),\n",
              "                                        &#x27;kernel&#x27;: [&#x27;linear&#x27;, &#x27;rbf&#x27;, &#x27;poly&#x27;]},\n",
              "                   random_state=42, scoring=&#x27;accuracy&#x27;, verbose=2)</pre></div></div></div><div class=\"sk-parallel\"><div class=\"sk-parallel-item\"><div class=\"sk-item\"><div class=\"sk-label-container\"><div class=\"sk-label sk-toggleable\"><input class=\"sk-toggleable__control sk-hidden--visually\" id=\"sk-estimator-id-14\" type=\"checkbox\" ><label for=\"sk-estimator-id-14\" class=\"sk-toggleable__label sk-toggleable__label-arrow\">estimator: SVC</label><div class=\"sk-toggleable__content\"><pre>SVC(class_weight=&#x27;balanced&#x27;)</pre></div></div></div><div class=\"sk-serial\"><div class=\"sk-item\"><div class=\"sk-estimator sk-toggleable\"><input class=\"sk-toggleable__control sk-hidden--visually\" id=\"sk-estimator-id-15\" type=\"checkbox\" ><label for=\"sk-estimator-id-15\" class=\"sk-toggleable__label sk-toggleable__label-arrow\">SVC</label><div class=\"sk-toggleable__content\"><pre>SVC(class_weight=&#x27;balanced&#x27;)</pre></div></div></div></div></div></div></div></div></div></div>"
            ],
            "text/plain": [
              "RandomizedSearchCV(cv=5, estimator=SVC(class_weight='balanced'), n_iter=5,\n",
              "                   n_jobs=-1,\n",
              "                   param_distributions={'C': array([1.e-03, 1.e-02, 1.e-01, 1.e+00, 1.e+01, 1.e+02, 1.e+03]),\n",
              "                                        'gamma': array([1.e-03, 1.e-02, 1.e-01, 1.e+00, 1.e+01, 1.e+02, 1.e+03]),\n",
              "                                        'kernel': ['linear', 'rbf', 'poly']},\n",
              "                   random_state=42, scoring='accuracy', verbose=2)"
            ]
          },
          "execution_count": 67,
          "metadata": {},
          "output_type": "execute_result"
        }
      ],
      "source": [
        "# Randomized search\n",
        "random_search_L3 = RandomizedSearchCV(svc_L3, param_distributions_L3, n_iter=5, cv=5, scoring='accuracy', random_state=42, verbose=2, n_jobs=-1)\n",
        "random_search_L3.fit(x_train[L3], y_train[L3])"
      ]
    },
    {
      "cell_type": "code",
      "execution_count": 68,
      "metadata": {
        "id": "G73vEEefJOFj"
      },
      "outputs": [
        {
          "name": "stdout",
          "output_type": "stream",
          "text": [
            "Best parameters: {'kernel': 'linear', 'gamma': 1.0, 'C': 0.1}\n",
            "Best cross-validation score: 0.9844319775596073\n",
            "Best model: SVC(C=0.1, class_weight='balanced', gamma=1.0, kernel='linear')\n"
          ]
        }
      ],
      "source": [
        "print(f\"Best parameters: {random_search_L3.best_params_}\")\n",
        "print(f\"Best cross-validation score: {random_search_L3.best_score_}\")\n",
        "print(f\"Best model: {random_search_L3.best_estimator_}\")"
      ]
    },
    {
      "cell_type": "code",
      "execution_count": 69,
      "metadata": {
        "id": "Fxnbd-ntJPXS"
      },
      "outputs": [],
      "source": [
        "best_params = random_search_L3.best_params_\n",
        "best_model = random_search_L3.best_estimator_"
      ]
    },
    {
      "cell_type": "code",
      "execution_count": 70,
      "metadata": {
        "id": "g8AZkMdwJQ_Q"
      },
      "outputs": [
        {
          "name": "stdout",
          "output_type": "stream",
          "text": [
            "Accuracy on test data:0.9906666666666667\n"
          ]
        }
      ],
      "source": [
        "y_pred = best_model.predict(x_valid[L3])\n",
        "accuracy = accuracy_score(y_valid[L3], y_pred)\n",
        "print(f'Accuracy on test data:{accuracy}')"
      ]
    },
    {
      "cell_type": "code",
      "execution_count": 71,
      "metadata": {
        "id": "shG7_su-JSjv"
      },
      "outputs": [],
      "source": [
        "y_pred_L3 = best_model.predict(x_test)"
      ]
    },
    {
      "cell_type": "code",
      "execution_count": 72,
      "metadata": {},
      "outputs": [
        {
          "data": {
            "text/plain": [
              "array([0, 1, 1, 1, 0, 1, 1, 1, 1, 0, 1, 1, 1, 1, 1, 1, 1, 1, 0, 1, 1, 1,\n",
              "       1, 0, 1, 1, 0, 1, 1, 1, 1, 1, 1, 0, 1, 1, 1, 1, 1, 1, 1, 0, 1, 1,\n",
              "       0, 1, 1, 1, 1, 1, 1, 0, 1, 1, 1, 1, 1, 0, 0, 1, 1, 0, 1, 1, 1, 1,\n",
              "       1, 1, 0, 1, 1, 0, 1, 1, 1, 0, 1, 1, 0, 0, 0, 1, 1, 1, 1, 1, 1, 1,\n",
              "       0, 1, 0, 0, 1, 1, 1, 1, 1, 1, 1, 1, 1, 0, 1, 0, 1, 1, 0, 1, 1, 1,\n",
              "       0, 1, 1, 1, 1, 1, 1, 1, 1, 1, 1, 1, 1, 1, 1, 1, 1, 1, 0, 1, 0, 1,\n",
              "       1, 1, 0, 1, 1, 0, 1, 1, 1, 1, 1, 1, 1, 1, 1, 1, 1, 1, 1, 1, 0, 1,\n",
              "       1, 1, 1, 1, 1, 1, 1, 1, 1, 0, 1, 1, 1, 1, 1, 1, 1, 0, 1, 1, 1, 1,\n",
              "       1, 0, 1, 1, 1, 1, 1, 1, 1, 1, 1, 0, 1, 1, 1, 0, 1, 1, 1, 1, 0, 1,\n",
              "       1, 0, 1, 0, 1, 1, 1, 1, 1, 1, 1, 0, 1, 0, 0, 1, 1, 1, 1, 0, 1, 1,\n",
              "       1, 1, 1, 1, 1, 1, 0, 1, 1, 1, 1, 1, 1, 1, 1, 1, 0, 0, 1, 0, 1, 1,\n",
              "       1, 1, 1, 1, 0, 1, 1, 1, 1, 1, 1, 0, 1, 1, 1, 1, 0, 1, 1, 1, 1, 0,\n",
              "       1, 1, 0, 1, 1, 0, 1, 1, 0, 1, 0, 1, 0, 0, 0, 0, 1, 1, 1, 1, 1, 1,\n",
              "       1, 1, 0, 1, 1, 1, 1, 1, 1, 1, 1, 1, 1, 1, 1, 1, 1, 1, 1, 1, 1, 1,\n",
              "       0, 1, 1, 1, 1, 0, 0, 1, 0, 1, 1, 1, 1, 0, 1, 1, 1, 1, 0, 1, 0, 1,\n",
              "       1, 1, 1, 1, 0, 1, 1, 1, 1, 1, 1, 1, 1, 0, 1, 1, 1, 1, 1, 1, 1, 1,\n",
              "       0, 1, 1, 1, 1, 1, 1, 0, 1, 1, 0, 1, 1, 1, 1, 0, 1, 1, 1, 0, 1, 1,\n",
              "       1, 0, 1, 1, 1, 0, 0, 1, 1, 1, 0, 1, 1, 1, 1, 0, 1, 1, 1, 1, 1, 1,\n",
              "       1, 1, 1, 1, 1, 1, 1, 1, 1, 0, 1, 1, 0, 1, 1, 1, 0, 1, 0, 0, 1, 1,\n",
              "       1, 1, 1, 1, 1, 1, 1, 1, 1, 1, 1, 1, 1, 1, 1, 1, 1, 1, 1, 0, 0, 0,\n",
              "       1, 1, 1, 1, 1, 1, 1, 1, 1, 1, 1, 1, 1, 1, 0, 1, 0, 1, 1, 1, 1, 1,\n",
              "       1, 1, 1, 0, 1, 0, 0, 1, 1, 1, 0, 0, 1, 1, 1, 1, 1, 0, 1, 1, 0, 0,\n",
              "       1, 0, 1, 1, 1, 1, 1, 1, 1, 1, 1, 1, 1, 1, 1, 1, 1, 1, 1, 1, 1, 1,\n",
              "       0, 0, 1, 0, 0, 1, 1, 1, 1, 1, 0, 1, 1, 1, 0, 0, 1, 1, 1, 1, 0, 1,\n",
              "       1, 1, 1, 1, 1, 1, 1, 1, 1, 1, 1, 0, 0, 1, 0, 0, 1, 1, 1, 1, 1, 1,\n",
              "       0, 1, 1, 1, 1, 1, 1, 1, 1, 1, 1, 1, 1, 1, 1, 1, 1, 1, 1, 1, 0, 0,\n",
              "       1, 1, 1, 1, 1, 1, 1, 1, 0, 1, 1, 0, 1, 1, 1, 1, 1, 1, 1, 1, 1, 1,\n",
              "       1, 1, 0, 1, 1, 1, 1, 1, 1, 1, 1, 1, 0, 0, 0, 1, 1, 1, 1, 1, 0, 1,\n",
              "       1, 1, 1, 1, 0, 1, 1, 1, 0, 1, 1, 1, 0, 1, 1, 1, 1, 1, 1, 1, 1, 1,\n",
              "       1, 1, 1, 1, 1, 1, 1, 1, 1, 1, 1, 1, 1, 1, 0, 1, 1, 1, 1, 1, 1, 0,\n",
              "       1, 1, 1, 0, 0, 1, 1, 1, 0, 1, 1, 1, 1, 1, 1, 1, 1, 1, 1, 1, 1, 1,\n",
              "       1, 0, 1, 0, 1, 1, 1, 1, 0, 1, 1, 1, 1, 0, 1, 1, 1, 1, 1, 1, 1, 1,\n",
              "       1, 1, 1, 1, 1, 1, 0, 1, 1, 0, 1, 1, 0, 0, 1, 1, 1, 1, 1, 1, 1, 1,\n",
              "       1, 1, 1, 1, 1, 0, 0, 1, 1, 0, 0, 1, 1, 0, 1, 1, 1, 1], dtype=int64)"
            ]
          },
          "execution_count": 72,
          "metadata": {},
          "output_type": "execute_result"
        }
      ],
      "source": [
        "y_pred_L3"
      ]
    },
    {
      "cell_type": "markdown",
      "metadata": {},
      "source": [
        "Correct"
      ]
    },
    {
      "cell_type": "code",
      "execution_count": 21,
      "metadata": {},
      "outputs": [
        {
          "name": "stdout",
          "output_type": "stream",
          "text": [
            "Fitting 3 folds for each of 3 candidates, totalling 9 fits\n"
          ]
        },
        {
          "name": "stdout",
          "output_type": "stream",
          "text": [
            "[CV] END ..................C=0.01, gamma=0.01, kernel=linear; total time=   7.7s\n",
            "[CV] END ..................C=0.01, gamma=0.01, kernel=linear; total time=   7.5s\n",
            "[CV] END ..................C=0.01, gamma=0.01, kernel=linear; total time=   5.3s\n",
            "[CV] END ...C=0.01, gamma=0.21544346900318834, kernel=linear; total time=   5.0s\n",
            "[CV] END ...C=0.01, gamma=0.21544346900318834, kernel=linear; total time=   5.0s\n",
            "[CV] END ...C=0.01, gamma=0.21544346900318834, kernel=linear; total time=   4.9s\n",
            "[CV] END C=0.21544346900318834, gamma=0.21544346900318834, kernel=linear; total time=   5.0s\n",
            "[CV] END C=0.21544346900318834, gamma=0.21544346900318834, kernel=linear; total time=   5.8s\n",
            "[CV] END C=0.21544346900318834, gamma=0.21544346900318834, kernel=linear; total time=   3.5s\n"
          ]
        },
        {
          "data": {
            "text/html": [
              "<style>#sk-container-id-2 {color: black;}#sk-container-id-2 pre{padding: 0;}#sk-container-id-2 div.sk-toggleable {background-color: white;}#sk-container-id-2 label.sk-toggleable__label {cursor: pointer;display: block;width: 100%;margin-bottom: 0;padding: 0.3em;box-sizing: border-box;text-align: center;}#sk-container-id-2 label.sk-toggleable__label-arrow:before {content: \"▸\";float: left;margin-right: 0.25em;color: #696969;}#sk-container-id-2 label.sk-toggleable__label-arrow:hover:before {color: black;}#sk-container-id-2 div.sk-estimator:hover label.sk-toggleable__label-arrow:before {color: black;}#sk-container-id-2 div.sk-toggleable__content {max-height: 0;max-width: 0;overflow: hidden;text-align: left;background-color: #f0f8ff;}#sk-container-id-2 div.sk-toggleable__content pre {margin: 0.2em;color: black;border-radius: 0.25em;background-color: #f0f8ff;}#sk-container-id-2 input.sk-toggleable__control:checked~div.sk-toggleable__content {max-height: 200px;max-width: 100%;overflow: auto;}#sk-container-id-2 input.sk-toggleable__control:checked~label.sk-toggleable__label-arrow:before {content: \"▾\";}#sk-container-id-2 div.sk-estimator input.sk-toggleable__control:checked~label.sk-toggleable__label {background-color: #d4ebff;}#sk-container-id-2 div.sk-label input.sk-toggleable__control:checked~label.sk-toggleable__label {background-color: #d4ebff;}#sk-container-id-2 input.sk-hidden--visually {border: 0;clip: rect(1px 1px 1px 1px);clip: rect(1px, 1px, 1px, 1px);height: 1px;margin: -1px;overflow: hidden;padding: 0;position: absolute;width: 1px;}#sk-container-id-2 div.sk-estimator {font-family: monospace;background-color: #f0f8ff;border: 1px dotted black;border-radius: 0.25em;box-sizing: border-box;margin-bottom: 0.5em;}#sk-container-id-2 div.sk-estimator:hover {background-color: #d4ebff;}#sk-container-id-2 div.sk-parallel-item::after {content: \"\";width: 100%;border-bottom: 1px solid gray;flex-grow: 1;}#sk-container-id-2 div.sk-label:hover label.sk-toggleable__label {background-color: #d4ebff;}#sk-container-id-2 div.sk-serial::before {content: \"\";position: absolute;border-left: 1px solid gray;box-sizing: border-box;top: 0;bottom: 0;left: 50%;z-index: 0;}#sk-container-id-2 div.sk-serial {display: flex;flex-direction: column;align-items: center;background-color: white;padding-right: 0.2em;padding-left: 0.2em;position: relative;}#sk-container-id-2 div.sk-item {position: relative;z-index: 1;}#sk-container-id-2 div.sk-parallel {display: flex;align-items: stretch;justify-content: center;background-color: white;position: relative;}#sk-container-id-2 div.sk-item::before, #sk-container-id-2 div.sk-parallel-item::before {content: \"\";position: absolute;border-left: 1px solid gray;box-sizing: border-box;top: 0;bottom: 0;left: 50%;z-index: -1;}#sk-container-id-2 div.sk-parallel-item {display: flex;flex-direction: column;z-index: 1;position: relative;background-color: white;}#sk-container-id-2 div.sk-parallel-item:first-child::after {align-self: flex-end;width: 50%;}#sk-container-id-2 div.sk-parallel-item:last-child::after {align-self: flex-start;width: 50%;}#sk-container-id-2 div.sk-parallel-item:only-child::after {width: 0;}#sk-container-id-2 div.sk-dashed-wrapped {border: 1px dashed gray;margin: 0 0.4em 0.5em 0.4em;box-sizing: border-box;padding-bottom: 0.4em;background-color: white;}#sk-container-id-2 div.sk-label label {font-family: monospace;font-weight: bold;display: inline-block;line-height: 1.2em;}#sk-container-id-2 div.sk-label-container {text-align: center;}#sk-container-id-2 div.sk-container {/* jupyter's `normalize.less` sets `[hidden] { display: none; }` but bootstrap.min.css set `[hidden] { display: none !important; }` so we also need the `!important` here to be able to override the default hidden behavior on the sphinx rendered scikit-learn.org. See: https://github.com/scikit-learn/scikit-learn/issues/21755 */display: inline-block !important;position: relative;}#sk-container-id-2 div.sk-text-repr-fallback {display: none;}</style><div id=\"sk-container-id-2\" class=\"sk-top-container\"><div class=\"sk-text-repr-fallback\"><pre>RandomizedSearchCV(cv=3, estimator=SVC(class_weight=&#x27;balanced&#x27;), n_iter=3,\n",
              "                   param_distributions={&#x27;C&#x27;: array([1.00000000e-02, 2.15443469e-01, 4.64158883e+00, 1.00000000e+02]),\n",
              "                                        &#x27;gamma&#x27;: array([1.00000000e-02, 2.15443469e-01, 4.64158883e+00, 1.00000000e+02]),\n",
              "                                        &#x27;kernel&#x27;: [&#x27;linear&#x27;]},\n",
              "                   random_state=42, scoring=&#x27;accuracy&#x27;, verbose=2)</pre><b>In a Jupyter environment, please rerun this cell to show the HTML representation or trust the notebook. <br />On GitHub, the HTML representation is unable to render, please try loading this page with nbviewer.org.</b></div><div class=\"sk-container\" hidden><div class=\"sk-item sk-dashed-wrapped\"><div class=\"sk-label-container\"><div class=\"sk-label sk-toggleable\"><input class=\"sk-toggleable__control sk-hidden--visually\" id=\"sk-estimator-id-2\" type=\"checkbox\" ><label for=\"sk-estimator-id-2\" class=\"sk-toggleable__label sk-toggleable__label-arrow\">RandomizedSearchCV</label><div class=\"sk-toggleable__content\"><pre>RandomizedSearchCV(cv=3, estimator=SVC(class_weight=&#x27;balanced&#x27;), n_iter=3,\n",
              "                   param_distributions={&#x27;C&#x27;: array([1.00000000e-02, 2.15443469e-01, 4.64158883e+00, 1.00000000e+02]),\n",
              "                                        &#x27;gamma&#x27;: array([1.00000000e-02, 2.15443469e-01, 4.64158883e+00, 1.00000000e+02]),\n",
              "                                        &#x27;kernel&#x27;: [&#x27;linear&#x27;]},\n",
              "                   random_state=42, scoring=&#x27;accuracy&#x27;, verbose=2)</pre></div></div></div><div class=\"sk-parallel\"><div class=\"sk-parallel-item\"><div class=\"sk-item\"><div class=\"sk-label-container\"><div class=\"sk-label sk-toggleable\"><input class=\"sk-toggleable__control sk-hidden--visually\" id=\"sk-estimator-id-3\" type=\"checkbox\" ><label for=\"sk-estimator-id-3\" class=\"sk-toggleable__label sk-toggleable__label-arrow\">estimator: SVC</label><div class=\"sk-toggleable__content\"><pre>SVC(class_weight=&#x27;balanced&#x27;)</pre></div></div></div><div class=\"sk-serial\"><div class=\"sk-item\"><div class=\"sk-estimator sk-toggleable\"><input class=\"sk-toggleable__control sk-hidden--visually\" id=\"sk-estimator-id-4\" type=\"checkbox\" ><label for=\"sk-estimator-id-4\" class=\"sk-toggleable__label sk-toggleable__label-arrow\">SVC</label><div class=\"sk-toggleable__content\"><pre>SVC(class_weight=&#x27;balanced&#x27;)</pre></div></div></div></div></div></div></div></div></div></div>"
            ],
            "text/plain": [
              "RandomizedSearchCV(cv=3, estimator=SVC(class_weight='balanced'), n_iter=3,\n",
              "                   param_distributions={'C': array([1.00000000e-02, 2.15443469e-01, 4.64158883e+00, 1.00000000e+02]),\n",
              "                                        'gamma': array([1.00000000e-02, 2.15443469e-01, 4.64158883e+00, 1.00000000e+02]),\n",
              "                                        'kernel': ['linear']},\n",
              "                   random_state=42, scoring='accuracy', verbose=2)"
            ]
          },
          "execution_count": 21,
          "metadata": {},
          "output_type": "execute_result"
        }
      ],
      "source": [
        "# Randomized search new\n",
        "random_search_L3_new = RandomizedSearchCV(svc_L3, param_distributions_L3, n_iter=3, cv=3, scoring='accuracy', random_state=42, verbose=2)\n",
        "random_search_L3_new.fit(x_train_trf_L3, y_train[L3])"
      ]
    },
    {
      "cell_type": "code",
      "execution_count": 22,
      "metadata": {},
      "outputs": [
        {
          "name": "stdout",
          "output_type": "stream",
          "text": [
            "Best parameters: {'kernel': 'linear', 'gamma': 0.01, 'C': 0.01}\n",
            "Best cross-validation score: 0.9671808518175965\n",
            "Best model: SVC(C=0.01, class_weight='balanced', gamma=0.01, kernel='linear')\n"
          ]
        }
      ],
      "source": [
        "print(f\"Best parameters: {random_search_L3_new.best_params_}\")\n",
        "print(f\"Best cross-validation score: {random_search_L3_new.best_score_}\")\n",
        "print(f\"Best model: {random_search_L3_new.best_estimator_}\")"
      ]
    },
    {
      "cell_type": "code",
      "execution_count": 23,
      "metadata": {},
      "outputs": [],
      "source": [
        "best_params_L3 = random_search_L3_new.best_params_\n",
        "best_model_L3 = random_search_L3_new.best_estimator_"
      ]
    },
    {
      "cell_type": "code",
      "execution_count": 24,
      "metadata": {},
      "outputs": [
        {
          "name": "stdout",
          "output_type": "stream",
          "text": [
            "Accuracy on test data:0.98\n"
          ]
        }
      ],
      "source": [
        "y_pred = best_model_L3.predict(x_valid_trf_L3)\n",
        "accuracy = accuracy_score(y_valid[L3], y_pred)\n",
        "print(f'Accuracy on test data:{accuracy}')"
      ]
    },
    {
      "cell_type": "code",
      "execution_count": 25,
      "metadata": {},
      "outputs": [
        {
          "data": {
            "text/plain": [
              "array([1, 1, 1, 1, 1, 1, 1, 1, 1, 1, 1, 1, 1, 1, 1, 1, 1, 1, 0, 0, 0, 0,\n",
              "       0, 0, 0, 0, 1, 1, 1, 1, 1, 1, 1, 1, 1, 1, 1, 1, 1, 1, 1, 1, 1, 1,\n",
              "       1, 1, 1, 1, 1, 1, 1, 1, 1, 1, 0, 0, 0, 0, 0, 0, 0, 0, 0, 0, 0, 1,\n",
              "       1, 1, 1, 1, 1, 1, 1, 1, 1, 1, 1, 1, 1, 1, 1, 1, 1, 1, 1, 1, 1, 1,\n",
              "       1, 1, 1, 1, 1, 1, 1, 0, 1, 0, 1, 1, 1, 1, 1, 1, 1, 1, 1, 1, 1, 1,\n",
              "       1, 1, 1, 1, 1, 1, 1, 1, 1, 1, 0, 0, 0, 0, 0, 0, 0, 0, 0, 0, 0, 1,\n",
              "       1, 1, 1, 1, 1, 1, 1, 1, 1, 1, 1, 1, 1, 1, 1, 1, 1, 1, 1, 1, 1, 1,\n",
              "       1, 1, 1, 1, 1, 1, 1, 1, 1, 1, 1, 1, 0, 0, 0, 0, 0, 0, 0, 0, 0, 0,\n",
              "       0, 0, 0, 0, 0, 0, 0, 0, 0, 1, 1, 1, 1, 1, 1, 1, 1, 1, 1, 1, 1, 1,\n",
              "       1, 1, 1, 1, 1, 1, 1, 1, 1, 1, 1, 1, 1, 1, 1, 1, 1, 1, 1, 1, 1, 1,\n",
              "       1, 1, 1, 1, 1, 1, 1, 1, 1, 1, 1, 1, 1, 1, 1, 1, 1, 1, 1, 1, 1, 1,\n",
              "       1, 1, 1, 1, 1, 1, 1, 1, 1, 1, 1, 1, 1, 1, 1, 1, 0, 0, 0, 0, 0, 0,\n",
              "       0, 0, 0, 0, 0, 0, 0, 1, 1, 1, 1, 1, 1, 1, 1, 1, 1, 1, 1, 1, 1, 1,\n",
              "       1, 1, 1, 1, 1, 1, 1, 1, 1, 1, 1, 1, 1, 1, 1, 1, 1, 1, 1, 1, 1, 1,\n",
              "       1, 1, 1, 1, 1, 1, 1, 1, 1, 1, 1, 1, 1, 1, 1, 1, 1, 1, 1, 0, 0, 0,\n",
              "       0, 0, 0, 0, 0, 0, 0, 0, 0, 0, 0, 0, 1, 1, 1, 1, 1, 1, 1, 1, 1, 1,\n",
              "       0, 1, 1, 1, 1, 1, 1, 1, 1, 1, 1, 1, 1, 1, 1, 1, 1, 1, 1, 1, 1, 1,\n",
              "       1, 1, 1, 1, 0, 1, 1, 1, 1, 1, 1, 1, 1, 1, 1, 1, 1, 1, 1, 1, 1, 1,\n",
              "       1, 1, 1, 1, 1, 1, 1, 1, 1, 1, 1, 1, 1, 1, 1, 0, 0, 0, 0, 0, 0, 0,\n",
              "       0, 1, 1, 1, 1, 1, 1, 1, 1, 1, 1, 1, 1, 1, 1, 1, 1, 1, 1, 1, 1, 1,\n",
              "       1, 1, 1, 1, 1, 0, 0, 0, 0, 0, 0, 0, 0, 0, 0, 0, 0, 0, 0, 0, 0, 0,\n",
              "       0, 0, 0, 0, 0, 0, 0, 0, 0, 1, 1, 1, 1, 1, 1, 1, 1, 1, 1, 1, 1, 1,\n",
              "       1, 1, 1, 1, 1, 1, 1, 1, 1, 1, 1, 1, 1, 1, 1, 1, 1, 1, 1, 1, 1, 1,\n",
              "       1, 1, 1, 1, 1, 1, 1, 1, 1, 1, 1, 1, 1, 1, 1, 1, 1, 1, 1, 1, 1, 1,\n",
              "       1, 1, 0, 1, 1, 1, 1, 1, 1, 1, 1, 1, 1, 1, 1, 1, 1, 1, 1, 1, 1, 1,\n",
              "       1, 1, 1, 1, 1, 1, 1, 1, 1, 1, 1, 1, 1, 1, 1, 1, 1, 1, 1, 1, 1, 1,\n",
              "       1, 1, 1, 1, 1, 1, 1, 1, 1, 1, 1, 1, 1, 1, 1, 1, 1, 1, 1, 1, 1, 1,\n",
              "       1, 1, 1, 1, 1, 1, 1, 1, 1, 1, 1, 1, 1, 1, 1, 1, 1, 1, 1, 1, 0, 0,\n",
              "       0, 0, 0, 0, 0, 0, 0, 0, 1, 1, 1, 1, 1, 1, 1, 1, 1, 1, 0, 0, 0, 0,\n",
              "       0, 0, 0, 0, 0, 0, 0, 0, 0, 0, 0, 0, 0, 1, 1, 1, 1, 1, 1, 1, 1, 1,\n",
              "       1, 1, 1, 1, 1, 1, 1, 1, 1, 1, 1, 1, 1, 1, 1, 1, 1, 1, 1, 1, 1, 1,\n",
              "       1, 1, 1, 1, 1, 1, 1, 0, 1, 1, 1, 1, 1, 1, 1, 1, 1, 1, 1, 1, 1, 1,\n",
              "       1, 1, 0, 1, 1, 1, 1, 1, 1, 1, 1, 1, 1, 1, 1, 1, 1, 1, 1, 1, 1, 1,\n",
              "       1, 1, 1, 1, 1, 1, 1, 1, 1, 1, 1, 1, 1, 1, 1, 1, 1, 1, 1, 1, 1, 1,\n",
              "       1, 1], dtype=int64)"
            ]
          },
          "execution_count": 25,
          "metadata": {},
          "output_type": "execute_result"
        }
      ],
      "source": [
        "y_pred_L3 = best_model_L3.predict(x_test_trf_L3)\n",
        "y_pred_L3"
      ]
    },
    {
      "cell_type": "markdown",
      "metadata": {},
      "source": [
        "Save the best model"
      ]
    },
    {
      "cell_type": "code",
      "execution_count": 26,
      "metadata": {},
      "outputs": [],
      "source": [
        "import joblib"
      ]
    },
    {
      "cell_type": "code",
      "execution_count": 27,
      "metadata": {},
      "outputs": [
        {
          "data": {
            "text/plain": [
              "['layer-11-new/best_model_L3.joblib']"
            ]
          },
          "execution_count": 27,
          "metadata": {},
          "output_type": "execute_result"
        }
      ],
      "source": [
        "# Save the model to your Google Drive using joblib\n",
        "joblib.dump(best_model_L3, f'{WORKING_DIR}/best_model_L3.joblib')"
      ]
    },
    {
      "cell_type": "code",
      "execution_count": 33,
      "metadata": {},
      "outputs": [],
      "source": [
        "loaded_model = joblib.load(f'{WORKING_DIR}/best_model_L3.joblib')"
      ]
    },
    {
      "cell_type": "code",
      "execution_count": 34,
      "metadata": {},
      "outputs": [
        {
          "name": "stdout",
          "output_type": "stream",
          "text": [
            "Accuracy on test data: 0.98\n"
          ]
        }
      ],
      "source": [
        "y_pred_L3_load = loaded_model.predict(x_valid_trf_L3)\n",
        "accuracy = accuracy_score(y_valid[L3], y_pred_L3_load)\n",
        "print(f'Accuracy on test data: {accuracy}')"
      ]
    },
    {
      "cell_type": "code",
      "execution_count": 35,
      "metadata": {},
      "outputs": [
        {
          "name": "stdout",
          "output_type": "stream",
          "text": [
            "[[140   2]\n",
            " [ 13 595]]\n",
            "0.98\n",
            "0.981197052802137\n",
            "0.98\n"
          ]
        }
      ],
      "source": [
        "print (metrics.confusion_matrix(y_valid[L3], y_pred_L3_load))\n",
        "print (metrics.accuracy_score(y_valid[L3], y_pred_L3_load))\n",
        "print (metrics.precision_score(y_valid[L3], y_pred_L3_load, average=\"weighted\"))\n",
        "print (metrics.recall_score(y_valid[L3], y_pred_L3_load, average=\"weighted\"))"
      ]
    },
    {
      "cell_type": "code",
      "execution_count": 36,
      "metadata": {},
      "outputs": [
        {
          "data": {
            "text/html": [
              "<div>\n",
              "<style scoped>\n",
              "    .dataframe tbody tr th:only-of-type {\n",
              "        vertical-align: middle;\n",
              "    }\n",
              "\n",
              "    .dataframe tbody tr th {\n",
              "        vertical-align: top;\n",
              "    }\n",
              "\n",
              "    .dataframe thead th {\n",
              "        text-align: right;\n",
              "    }\n",
              "</style>\n",
              "<table border=\"1\" class=\"dataframe\">\n",
              "  <thead>\n",
              "    <tr style=\"text-align: right;\">\n",
              "      <th></th>\n",
              "      <th>label_3</th>\n",
              "    </tr>\n",
              "  </thead>\n",
              "  <tbody>\n",
              "    <tr>\n",
              "      <th>0</th>\n",
              "      <td>1</td>\n",
              "    </tr>\n",
              "    <tr>\n",
              "      <th>1</th>\n",
              "      <td>1</td>\n",
              "    </tr>\n",
              "    <tr>\n",
              "      <th>2</th>\n",
              "      <td>1</td>\n",
              "    </tr>\n",
              "    <tr>\n",
              "      <th>3</th>\n",
              "      <td>1</td>\n",
              "    </tr>\n",
              "    <tr>\n",
              "      <th>4</th>\n",
              "      <td>1</td>\n",
              "    </tr>\n",
              "  </tbody>\n",
              "</table>\n",
              "</div>"
            ],
            "text/plain": [
              "   label_3\n",
              "0        1\n",
              "1        1\n",
              "2        1\n",
              "3        1\n",
              "4        1"
            ]
          },
          "execution_count": 36,
          "metadata": {},
          "output_type": "execute_result"
        }
      ],
      "source": [
        "# Create the base DataFrame\n",
        "output_df_L3 = pd.DataFrame({\n",
        "    'label_3': y_pred_L3_load\n",
        "})\n",
        "\n",
        "output_df_L3.head()"
      ]
    },
    {
      "cell_type": "code",
      "execution_count": 37,
      "metadata": {},
      "outputs": [],
      "source": [
        "output_df_L3.to_csv(f\"{WORKING_DIR}/L3.csv\", index=False)"
      ]
    },
    {
      "cell_type": "markdown",
      "metadata": {
        "id": "SYub4TTkHW09"
      },
      "source": [
        "# Label 4"
      ]
    },
    {
      "cell_type": "code",
      "execution_count": 10,
      "metadata": {
        "id": "0rRoyxjT66C8"
      },
      "outputs": [
        {
          "data": {
            "text/html": [
              "<style>#sk-container-id-1 {color: black;}#sk-container-id-1 pre{padding: 0;}#sk-container-id-1 div.sk-toggleable {background-color: white;}#sk-container-id-1 label.sk-toggleable__label {cursor: pointer;display: block;width: 100%;margin-bottom: 0;padding: 0.3em;box-sizing: border-box;text-align: center;}#sk-container-id-1 label.sk-toggleable__label-arrow:before {content: \"▸\";float: left;margin-right: 0.25em;color: #696969;}#sk-container-id-1 label.sk-toggleable__label-arrow:hover:before {color: black;}#sk-container-id-1 div.sk-estimator:hover label.sk-toggleable__label-arrow:before {color: black;}#sk-container-id-1 div.sk-toggleable__content {max-height: 0;max-width: 0;overflow: hidden;text-align: left;background-color: #f0f8ff;}#sk-container-id-1 div.sk-toggleable__content pre {margin: 0.2em;color: black;border-radius: 0.25em;background-color: #f0f8ff;}#sk-container-id-1 input.sk-toggleable__control:checked~div.sk-toggleable__content {max-height: 200px;max-width: 100%;overflow: auto;}#sk-container-id-1 input.sk-toggleable__control:checked~label.sk-toggleable__label-arrow:before {content: \"▾\";}#sk-container-id-1 div.sk-estimator input.sk-toggleable__control:checked~label.sk-toggleable__label {background-color: #d4ebff;}#sk-container-id-1 div.sk-label input.sk-toggleable__control:checked~label.sk-toggleable__label {background-color: #d4ebff;}#sk-container-id-1 input.sk-hidden--visually {border: 0;clip: rect(1px 1px 1px 1px);clip: rect(1px, 1px, 1px, 1px);height: 1px;margin: -1px;overflow: hidden;padding: 0;position: absolute;width: 1px;}#sk-container-id-1 div.sk-estimator {font-family: monospace;background-color: #f0f8ff;border: 1px dotted black;border-radius: 0.25em;box-sizing: border-box;margin-bottom: 0.5em;}#sk-container-id-1 div.sk-estimator:hover {background-color: #d4ebff;}#sk-container-id-1 div.sk-parallel-item::after {content: \"\";width: 100%;border-bottom: 1px solid gray;flex-grow: 1;}#sk-container-id-1 div.sk-label:hover label.sk-toggleable__label {background-color: #d4ebff;}#sk-container-id-1 div.sk-serial::before {content: \"\";position: absolute;border-left: 1px solid gray;box-sizing: border-box;top: 0;bottom: 0;left: 50%;z-index: 0;}#sk-container-id-1 div.sk-serial {display: flex;flex-direction: column;align-items: center;background-color: white;padding-right: 0.2em;padding-left: 0.2em;position: relative;}#sk-container-id-1 div.sk-item {position: relative;z-index: 1;}#sk-container-id-1 div.sk-parallel {display: flex;align-items: stretch;justify-content: center;background-color: white;position: relative;}#sk-container-id-1 div.sk-item::before, #sk-container-id-1 div.sk-parallel-item::before {content: \"\";position: absolute;border-left: 1px solid gray;box-sizing: border-box;top: 0;bottom: 0;left: 50%;z-index: -1;}#sk-container-id-1 div.sk-parallel-item {display: flex;flex-direction: column;z-index: 1;position: relative;background-color: white;}#sk-container-id-1 div.sk-parallel-item:first-child::after {align-self: flex-end;width: 50%;}#sk-container-id-1 div.sk-parallel-item:last-child::after {align-self: flex-start;width: 50%;}#sk-container-id-1 div.sk-parallel-item:only-child::after {width: 0;}#sk-container-id-1 div.sk-dashed-wrapped {border: 1px dashed gray;margin: 0 0.4em 0.5em 0.4em;box-sizing: border-box;padding-bottom: 0.4em;background-color: white;}#sk-container-id-1 div.sk-label label {font-family: monospace;font-weight: bold;display: inline-block;line-height: 1.2em;}#sk-container-id-1 div.sk-label-container {text-align: center;}#sk-container-id-1 div.sk-container {/* jupyter's `normalize.less` sets `[hidden] { display: none; }` but bootstrap.min.css set `[hidden] { display: none !important; }` so we also need the `!important` here to be able to override the default hidden behavior on the sphinx rendered scikit-learn.org. See: https://github.com/scikit-learn/scikit-learn/issues/21755 */display: inline-block !important;position: relative;}#sk-container-id-1 div.sk-text-repr-fallback {display: none;}</style><div id=\"sk-container-id-1\" class=\"sk-top-container\"><div class=\"sk-text-repr-fallback\"><pre>SVC(class_weight=&#x27;balanced&#x27;, kernel=&#x27;linear&#x27;)</pre><b>In a Jupyter environment, please rerun this cell to show the HTML representation or trust the notebook. <br />On GitHub, the HTML representation is unable to render, please try loading this page with nbviewer.org.</b></div><div class=\"sk-container\" hidden><div class=\"sk-item\"><div class=\"sk-estimator sk-toggleable\"><input class=\"sk-toggleable__control sk-hidden--visually\" id=\"sk-estimator-id-1\" type=\"checkbox\" checked><label for=\"sk-estimator-id-1\" class=\"sk-toggleable__label sk-toggleable__label-arrow\">SVC</label><div class=\"sk-toggleable__content\"><pre>SVC(class_weight=&#x27;balanced&#x27;, kernel=&#x27;linear&#x27;)</pre></div></div></div></div></div>"
            ],
            "text/plain": [
              "SVC(class_weight='balanced', kernel='linear')"
            ]
          },
          "execution_count": 10,
          "metadata": {},
          "output_type": "execute_result"
        }
      ],
      "source": [
        "from sklearn import svm\n",
        "\n",
        "clf_L4 = svm.SVC(kernel = 'linear', class_weight='balanced')\n",
        "clf_L4.fit(x_train[L4], y_train[L4])"
      ]
    },
    {
      "cell_type": "code",
      "execution_count": 11,
      "metadata": {
        "colab": {
          "base_uri": "https://localhost:8080/",
          "height": 227
        },
        "id": "yJM_LYYE68QX",
        "outputId": "ce7e909e-ff3c-4cb7-8328-1135a00f3ef6"
      },
      "outputs": [],
      "source": [
        "from sklearn import metrics\n",
        "\n",
        "y_pred_L4 = clf_L4.predict(x_valid[L4])\n",
        "y_pred_test_before_L4 = clf_L4.predict(x_test[L4])"
      ]
    },
    {
      "cell_type": "code",
      "execution_count": 32,
      "metadata": {
        "id": "YndATwbo69RD"
      },
      "outputs": [
        {
          "name": "stdout",
          "output_type": "stream",
          "text": [
            "Predicted labels before feature engineering: [ 6  6  6  6  6  6  6  6  6  6  6  6  6  6  6  6  6  6 13 13 13 13 13 13\n",
            " 13 13  4  4  4  4  4 10  4  4  4  4  4  4  6  4  4  4  6  6  6  6  6  6\n",
            "  6  6  6  6  6  6  5  5  5  5  5  5  5  5  5  5  5  0  1  1  1  1  1  1\n",
            "  1  1  1  6  6  3  6  6  6  6  6  6  1  6  6  6  6  6  6  6  6  6  6  6\n",
            "  6  6  6  6  2  6  6  6  3  6  6  6  6  6  6  6  2  2  2  2  2  6  2  2\n",
            "  6  6  6  2  6  6  6  6  6  6  6  6  6  6  6  6  6  6  6  6  6  6  6  6\n",
            "  6  6  6  6  6  6  6  6  6  6  6  6  6  6  6  6  6  6  0  6  6  6  6  6\n",
            "  6  3  6  6  6  6  6  6  6  6  6  6  6  6  6  6  6  6  2  6  6  6  6  6\n",
            "  6  6  6  6  6  6  6  7  7  7  7  1  7  7  7  7  7  7  7  7  7  7  6  7\n",
            "  6  6  6  6  6  6  6  6  6  6  6  6  6  6  6  6  6  6  6  6  6  6  6  6\n",
            "  6  6  6  6  6  6  6  6  6  6  6  6  6  6  6  6  6  6  3  6  3  3  3  5\n",
            "  3  3  3  3  3  3  3  6  6  6  6  6  6  6  6  6  6  6  6  6  6  7  6  6\n",
            "  6  6  6  6  6  6  6  7  6  6  6  6  6  6  7  6  0  6  6  6  0  0  6  6\n",
            "  6  6  6  6  6  6  6  6  6  6  6  6  6  6  6  6  6  6  6  6  6  6  3  6\n",
            "  6  6  6  6  6  6  6  6  6  6  6  6  6  6  6  6  6  6  6  6  6  6  6  6\n",
            "  6  6  6  7  6  6  6  6  6  6  6  6  6  6  6  6  6  6  6  6  6  6  6  6\n",
            "  6  6  6  6  6  6  6  6  6  6  6  0  0  0  0  0  0  0  6  0  0  0  0  0\n",
            "  0  0  0  6  6  5  6  6  6  6  6  6  6  6  6  6  6  6  6  6  6  6  6  6\n",
            " 12 12 12  6  6 12  0 12 12 12  6 12 12  6  6  6  6  6  6  6  6  6  6  6\n",
            "  6  6  6  6  1  2  2  6  6  6  6  6  6  6  6  6  6  6  6  6  6  6  6  6\n",
            "  6  6  6  7  6  6  6  6  6  6  6  6 12 12  7  6 12  6 12  9  9  9  9  9\n",
            "  9  9  9  9  9  9  9  2  2  2  2  2  2  6  6  6  6  6  6  6  6  6  6  6\n",
            "  6  6 12  6  6  6  1  6  6  6  6  6  6  6  6  6  6  8  6  8  8  8  8  6\n",
            "  6  8  8  8  8  8  8  8  8  6  6  6  6  6  6  6  6  6  6 11 11  4 11 11\n",
            " 12 11 11 11  6  6  6  6  2  6  6  6  6  6  6 12 10  7  7  7  7  7  7  7\n",
            "  7  7  7  7  7  6  6  0  0  0  0  0  0  0  2  2  6  2  2  2  2  2  2  2\n",
            " 10 10 10 10 10 10 10 10 10 10  6  6  6  6  5  6  6  6  6  6  6  6  6  6\n",
            "  6  6  6  6  6  6  6  6  6  6  6  6  6  6  6  6  6  6  6  6  6  6  6  2\n",
            "  6  6 12  6  6  6  6  6 12  6  6  6  6  6  6  6  6  2  0  6  6  6  6  6\n",
            "  6  6  6  6  6  6  6  6  6  6  6  6  6  6  6  6  6  6  6  6  6  6  6  2\n",
            "  2  6  6  6  6  6  6  6  6  6  6  6  6  6  6  6  6  6  6  6  6  6  6  6\n",
            "  6  6  6  6  6  6]\n"
          ]
        }
      ],
      "source": [
        "print('Predicted labels before feature engineering:', y_pred_test_before_L4)"
      ]
    },
    {
      "cell_type": "code",
      "execution_count": 33,
      "metadata": {
        "id": "2hCQ07ca6-PR"
      },
      "outputs": [
        {
          "name": "stdout",
          "output_type": "stream",
          "text": [
            "[[ 19   0   0   0   0   0   2   0   0   0   0   0   0   0]\n",
            " [  0  10   0   0   0   0   1   0   0   0   0   0   0   0]\n",
            " [  1   0  24   0   0   0   2   0   0   0   0   0   0   0]\n",
            " [  0   0   0   8   0   0   0   0   0   0   0   0   0   0]\n",
            " [  0   0   0   0  13   0   2   0   0   0   0   0   0   0]\n",
            " [  0   0   0   0   0  10   1   0   0   0   0   0   0   0]\n",
            " [  4   2  10   1   1   1 495   6   2   1   2   0   7   0]\n",
            " [  1   0   0   0   0   0   4  26   0   0   0   0   1   0]\n",
            " [  0   0   0   0   0   0   6   0  13   0   0   0   0   0]\n",
            " [  1   0   0   0   0   0   3   0   0  13   0   0   0   0]\n",
            " [  0   0   0   0   1   0   2   0   0   0   7   0   0   0]\n",
            " [  0   0   0   0   0   0   1   0   0   0   0  10   0   0]\n",
            " [  0   0   0   0   0   0   4   0   0   0   0   0  22   0]\n",
            " [  0   0   1   0   0   0   0   0   0   0   0   0   0   9]]\n",
            "0.9053333333333333\n",
            "0.9103376095613193\n",
            "0.9053333333333333\n"
          ]
        }
      ],
      "source": [
        "print (metrics.confusion_matrix(y_valid[L4], y_pred_L4))\n",
        "print (metrics.accuracy_score(y_valid[L4], y_pred_L4))\n",
        "print (metrics.precision_score(y_valid[L4], y_pred_L4, average=\"weighted\"))\n",
        "print (metrics.recall_score(y_valid[L4], y_pred_L4, average=\"weighted\"))"
      ]
    },
    {
      "cell_type": "markdown",
      "metadata": {
        "id": "xrAM_wkXIFLm"
      },
      "source": [
        "## Feature Engineering"
      ]
    },
    {
      "cell_type": "code",
      "execution_count": 12,
      "metadata": {
        "id": "ZY5ISJ_Z67X3"
      },
      "outputs": [
        {
          "name": "stdout",
          "output_type": "stream",
          "text": [
            "Shape after PCA:  (28520, 148)\n"
          ]
        }
      ],
      "source": [
        "from sklearn.decomposition import PCA\n",
        "\n",
        "pca_L4 = PCA(n_components=0.95, svd_solver='full')\n",
        "pca_L4.fit(x_train[L4])\n",
        "x_train_trf_L4 = pd.DataFrame(pca_L4.transform(x_train[L4]))\n",
        "x_valid_trf_L4 = pd.DataFrame(pca_L4.transform(x_valid[L4]))\n",
        "\n",
        "print(\"Shape after PCA: \", x_train_trf_L4.shape)"
      ]
    },
    {
      "cell_type": "code",
      "execution_count": 13,
      "metadata": {},
      "outputs": [],
      "source": [
        "x_test_trf_L4= pd.DataFrame(pca_L4.transform(x_test[L4]))"
      ]
    },
    {
      "cell_type": "code",
      "execution_count": null,
      "metadata": {
        "id": "n5uIYPD37AQ3"
      },
      "outputs": [
        {
          "data": {
            "text/html": [
              "<style>#sk-container-id-11 {color: black;}#sk-container-id-11 pre{padding: 0;}#sk-container-id-11 div.sk-toggleable {background-color: white;}#sk-container-id-11 label.sk-toggleable__label {cursor: pointer;display: block;width: 100%;margin-bottom: 0;padding: 0.3em;box-sizing: border-box;text-align: center;}#sk-container-id-11 label.sk-toggleable__label-arrow:before {content: \"▸\";float: left;margin-right: 0.25em;color: #696969;}#sk-container-id-11 label.sk-toggleable__label-arrow:hover:before {color: black;}#sk-container-id-11 div.sk-estimator:hover label.sk-toggleable__label-arrow:before {color: black;}#sk-container-id-11 div.sk-toggleable__content {max-height: 0;max-width: 0;overflow: hidden;text-align: left;background-color: #f0f8ff;}#sk-container-id-11 div.sk-toggleable__content pre {margin: 0.2em;color: black;border-radius: 0.25em;background-color: #f0f8ff;}#sk-container-id-11 input.sk-toggleable__control:checked~div.sk-toggleable__content {max-height: 200px;max-width: 100%;overflow: auto;}#sk-container-id-11 input.sk-toggleable__control:checked~label.sk-toggleable__label-arrow:before {content: \"▾\";}#sk-container-id-11 div.sk-estimator input.sk-toggleable__control:checked~label.sk-toggleable__label {background-color: #d4ebff;}#sk-container-id-11 div.sk-label input.sk-toggleable__control:checked~label.sk-toggleable__label {background-color: #d4ebff;}#sk-container-id-11 input.sk-hidden--visually {border: 0;clip: rect(1px 1px 1px 1px);clip: rect(1px, 1px, 1px, 1px);height: 1px;margin: -1px;overflow: hidden;padding: 0;position: absolute;width: 1px;}#sk-container-id-11 div.sk-estimator {font-family: monospace;background-color: #f0f8ff;border: 1px dotted black;border-radius: 0.25em;box-sizing: border-box;margin-bottom: 0.5em;}#sk-container-id-11 div.sk-estimator:hover {background-color: #d4ebff;}#sk-container-id-11 div.sk-parallel-item::after {content: \"\";width: 100%;border-bottom: 1px solid gray;flex-grow: 1;}#sk-container-id-11 div.sk-label:hover label.sk-toggleable__label {background-color: #d4ebff;}#sk-container-id-11 div.sk-serial::before {content: \"\";position: absolute;border-left: 1px solid gray;box-sizing: border-box;top: 0;bottom: 0;left: 50%;z-index: 0;}#sk-container-id-11 div.sk-serial {display: flex;flex-direction: column;align-items: center;background-color: white;padding-right: 0.2em;padding-left: 0.2em;position: relative;}#sk-container-id-11 div.sk-item {position: relative;z-index: 1;}#sk-container-id-11 div.sk-parallel {display: flex;align-items: stretch;justify-content: center;background-color: white;position: relative;}#sk-container-id-11 div.sk-item::before, #sk-container-id-11 div.sk-parallel-item::before {content: \"\";position: absolute;border-left: 1px solid gray;box-sizing: border-box;top: 0;bottom: 0;left: 50%;z-index: -1;}#sk-container-id-11 div.sk-parallel-item {display: flex;flex-direction: column;z-index: 1;position: relative;background-color: white;}#sk-container-id-11 div.sk-parallel-item:first-child::after {align-self: flex-end;width: 50%;}#sk-container-id-11 div.sk-parallel-item:last-child::after {align-self: flex-start;width: 50%;}#sk-container-id-11 div.sk-parallel-item:only-child::after {width: 0;}#sk-container-id-11 div.sk-dashed-wrapped {border: 1px dashed gray;margin: 0 0.4em 0.5em 0.4em;box-sizing: border-box;padding-bottom: 0.4em;background-color: white;}#sk-container-id-11 div.sk-label label {font-family: monospace;font-weight: bold;display: inline-block;line-height: 1.2em;}#sk-container-id-11 div.sk-label-container {text-align: center;}#sk-container-id-11 div.sk-container {/* jupyter's `normalize.less` sets `[hidden] { display: none; }` but bootstrap.min.css set `[hidden] { display: none !important; }` so we also need the `!important` here to be able to override the default hidden behavior on the sphinx rendered scikit-learn.org. See: https://github.com/scikit-learn/scikit-learn/issues/21755 */display: inline-block !important;position: relative;}#sk-container-id-11 div.sk-text-repr-fallback {display: none;}</style><div id=\"sk-container-id-11\" class=\"sk-top-container\"><div class=\"sk-text-repr-fallback\"><pre>SVC(class_weight=&#x27;balanced&#x27;, kernel=&#x27;linear&#x27;)</pre><b>In a Jupyter environment, please rerun this cell to show the HTML representation or trust the notebook. <br />On GitHub, the HTML representation is unable to render, please try loading this page with nbviewer.org.</b></div><div class=\"sk-container\" hidden><div class=\"sk-item\"><div class=\"sk-estimator sk-toggleable\"><input class=\"sk-toggleable__control sk-hidden--visually\" id=\"sk-estimator-id-17\" type=\"checkbox\" checked><label for=\"sk-estimator-id-17\" class=\"sk-toggleable__label sk-toggleable__label-arrow\">SVC</label><div class=\"sk-toggleable__content\"><pre>SVC(class_weight=&#x27;balanced&#x27;, kernel=&#x27;linear&#x27;)</pre></div></div></div></div></div>"
            ],
            "text/plain": [
              "SVC(class_weight='balanced', kernel='linear')"
            ]
          },
          "execution_count": 78,
          "metadata": {},
          "output_type": "execute_result"
        }
      ],
      "source": [
        "clf_L4 = svm.SVC(kernel = 'linear', class_weight='balanced')\n",
        "clf_L4.fit(x_train_trf_L4, y_train[L4])"
      ]
    },
    {
      "cell_type": "code",
      "execution_count": null,
      "metadata": {
        "id": "b1Vp2lud7BP4"
      },
      "outputs": [
        {
          "name": "stdout",
          "output_type": "stream",
          "text": [
            "[[ 21   0   0   0   0   0   0   0   0   0   0   0   0   0]\n",
            " [  0  10   0   0   0   0   1   0   0   0   0   0   0   0]\n",
            " [  2   0  24   0   0   0   0   0   0   0   0   0   1   0]\n",
            " [  0   0   0   8   0   0   0   0   0   0   0   0   0   0]\n",
            " [  0   0   0   0  14   0   0   0   0   1   0   0   0   0]\n",
            " [  0   0   0   0   0  11   0   0   0   0   0   0   0   0]\n",
            " [ 22   7  25   9   8   6 387  29   8   2   6   0  21   2]\n",
            " [  2   0   0   0   0   0   3  25   0   0   1   0   1   0]\n",
            " [  0   0   0   0   0   0   5   0  14   0   0   0   0   0]\n",
            " [  0   0   0   0   1   0   3   0   0  13   0   0   0   0]\n",
            " [  0   0   0   0   1   0   2   0   0   0   7   0   0   0]\n",
            " [  1   0   0   0   0   0   0   0   0   0   0  10   0   0]\n",
            " [  0   0   0   0   0   0   3   2   0   0   2   1  18   0]\n",
            " [  0   0   0   0   0   0   1   0   0   0   0   0   1   8]]\n",
            "0.76\n",
            "0.8407699560632333\n",
            "0.76\n"
          ]
        }
      ],
      "source": [
        "y_pred_L4 = clf_L4.predict(x_valid_trf_L4)\n",
        "\n",
        "print (metrics.confusion_matrix(y_valid[L4], y_pred_L4))\n",
        "print (metrics.accuracy_score(y_valid[L4], y_pred_L4))\n",
        "print (metrics.precision_score(y_valid[L4], y_pred_L4, average=\"weighted\"))\n",
        "print (metrics.recall_score(y_valid[L4], y_pred_L4, average=\"weighted\"))"
      ]
    },
    {
      "cell_type": "markdown",
      "metadata": {
        "id": "cLZHqKfUIH4F"
      },
      "source": [
        "### PCA with Hyper-parameter Tuning and Cross Validation\n",
        "\n"
      ]
    },
    {
      "cell_type": "code",
      "execution_count": 14,
      "metadata": {
        "id": "Xc2Z8NZm7CRj"
      },
      "outputs": [],
      "source": [
        "from sklearn.model_selection import RandomizedSearchCV\n",
        "from sklearn.metrics import accuracy_score"
      ]
    },
    {
      "cell_type": "code",
      "execution_count": 15,
      "metadata": {
        "id": "TPSYsYIJ7DBo"
      },
      "outputs": [],
      "source": [
        "# Define the model\n",
        "svc_L4 = svm.SVC(class_weight='balanced')"
      ]
    },
    {
      "cell_type": "code",
      "execution_count": 16,
      "metadata": {
        "id": "vZwr1JjE7EBP"
      },
      "outputs": [],
      "source": [
        "# Parameters to search\n",
        "param_distributions_L4 = {\n",
        "    'C': np.logspace(-3, 3, 7),  # logarithmic scale from 0.001 to 1000\n",
        "    'kernel': ['poly'],\n",
        "    'gamma': np.logspace(-3, 3, 7)\n",
        "}"
      ]
    },
    {
      "cell_type": "markdown",
      "metadata": {},
      "source": [
        "**Wrong**"
      ]
    },
    {
      "cell_type": "code",
      "execution_count": null,
      "metadata": {
        "id": "Xt3Qhcnn7FPN"
      },
      "outputs": [
        {
          "name": "stdout",
          "output_type": "stream",
          "text": [
            "Fitting 5 folds for each of 3 candidates, totalling 15 fits\n"
          ]
        },
        {
          "data": {
            "text/html": [
              "<style>#sk-container-id-12 {color: black;}#sk-container-id-12 pre{padding: 0;}#sk-container-id-12 div.sk-toggleable {background-color: white;}#sk-container-id-12 label.sk-toggleable__label {cursor: pointer;display: block;width: 100%;margin-bottom: 0;padding: 0.3em;box-sizing: border-box;text-align: center;}#sk-container-id-12 label.sk-toggleable__label-arrow:before {content: \"▸\";float: left;margin-right: 0.25em;color: #696969;}#sk-container-id-12 label.sk-toggleable__label-arrow:hover:before {color: black;}#sk-container-id-12 div.sk-estimator:hover label.sk-toggleable__label-arrow:before {color: black;}#sk-container-id-12 div.sk-toggleable__content {max-height: 0;max-width: 0;overflow: hidden;text-align: left;background-color: #f0f8ff;}#sk-container-id-12 div.sk-toggleable__content pre {margin: 0.2em;color: black;border-radius: 0.25em;background-color: #f0f8ff;}#sk-container-id-12 input.sk-toggleable__control:checked~div.sk-toggleable__content {max-height: 200px;max-width: 100%;overflow: auto;}#sk-container-id-12 input.sk-toggleable__control:checked~label.sk-toggleable__label-arrow:before {content: \"▾\";}#sk-container-id-12 div.sk-estimator input.sk-toggleable__control:checked~label.sk-toggleable__label {background-color: #d4ebff;}#sk-container-id-12 div.sk-label input.sk-toggleable__control:checked~label.sk-toggleable__label {background-color: #d4ebff;}#sk-container-id-12 input.sk-hidden--visually {border: 0;clip: rect(1px 1px 1px 1px);clip: rect(1px, 1px, 1px, 1px);height: 1px;margin: -1px;overflow: hidden;padding: 0;position: absolute;width: 1px;}#sk-container-id-12 div.sk-estimator {font-family: monospace;background-color: #f0f8ff;border: 1px dotted black;border-radius: 0.25em;box-sizing: border-box;margin-bottom: 0.5em;}#sk-container-id-12 div.sk-estimator:hover {background-color: #d4ebff;}#sk-container-id-12 div.sk-parallel-item::after {content: \"\";width: 100%;border-bottom: 1px solid gray;flex-grow: 1;}#sk-container-id-12 div.sk-label:hover label.sk-toggleable__label {background-color: #d4ebff;}#sk-container-id-12 div.sk-serial::before {content: \"\";position: absolute;border-left: 1px solid gray;box-sizing: border-box;top: 0;bottom: 0;left: 50%;z-index: 0;}#sk-container-id-12 div.sk-serial {display: flex;flex-direction: column;align-items: center;background-color: white;padding-right: 0.2em;padding-left: 0.2em;position: relative;}#sk-container-id-12 div.sk-item {position: relative;z-index: 1;}#sk-container-id-12 div.sk-parallel {display: flex;align-items: stretch;justify-content: center;background-color: white;position: relative;}#sk-container-id-12 div.sk-item::before, #sk-container-id-12 div.sk-parallel-item::before {content: \"\";position: absolute;border-left: 1px solid gray;box-sizing: border-box;top: 0;bottom: 0;left: 50%;z-index: -1;}#sk-container-id-12 div.sk-parallel-item {display: flex;flex-direction: column;z-index: 1;position: relative;background-color: white;}#sk-container-id-12 div.sk-parallel-item:first-child::after {align-self: flex-end;width: 50%;}#sk-container-id-12 div.sk-parallel-item:last-child::after {align-self: flex-start;width: 50%;}#sk-container-id-12 div.sk-parallel-item:only-child::after {width: 0;}#sk-container-id-12 div.sk-dashed-wrapped {border: 1px dashed gray;margin: 0 0.4em 0.5em 0.4em;box-sizing: border-box;padding-bottom: 0.4em;background-color: white;}#sk-container-id-12 div.sk-label label {font-family: monospace;font-weight: bold;display: inline-block;line-height: 1.2em;}#sk-container-id-12 div.sk-label-container {text-align: center;}#sk-container-id-12 div.sk-container {/* jupyter's `normalize.less` sets `[hidden] { display: none; }` but bootstrap.min.css set `[hidden] { display: none !important; }` so we also need the `!important` here to be able to override the default hidden behavior on the sphinx rendered scikit-learn.org. See: https://github.com/scikit-learn/scikit-learn/issues/21755 */display: inline-block !important;position: relative;}#sk-container-id-12 div.sk-text-repr-fallback {display: none;}</style><div id=\"sk-container-id-12\" class=\"sk-top-container\"><div class=\"sk-text-repr-fallback\"><pre>RandomizedSearchCV(cv=5, estimator=SVC(class_weight=&#x27;balanced&#x27;), n_iter=3,\n",
              "                   n_jobs=-1,\n",
              "                   param_distributions={&#x27;C&#x27;: array([1.e-03, 1.e-02, 1.e-01, 1.e+00, 1.e+01, 1.e+02, 1.e+03]),\n",
              "                                        &#x27;gamma&#x27;: array([1.e-03, 1.e-02, 1.e-01, 1.e+00, 1.e+01, 1.e+02, 1.e+03]),\n",
              "                                        &#x27;kernel&#x27;: [&#x27;linear&#x27;, &#x27;rbf&#x27;, &#x27;poly&#x27;]},\n",
              "                   random_state=42, scoring=&#x27;accuracy&#x27;, verbose=2)</pre><b>In a Jupyter environment, please rerun this cell to show the HTML representation or trust the notebook. <br />On GitHub, the HTML representation is unable to render, please try loading this page with nbviewer.org.</b></div><div class=\"sk-container\" hidden><div class=\"sk-item sk-dashed-wrapped\"><div class=\"sk-label-container\"><div class=\"sk-label sk-toggleable\"><input class=\"sk-toggleable__control sk-hidden--visually\" id=\"sk-estimator-id-18\" type=\"checkbox\" ><label for=\"sk-estimator-id-18\" class=\"sk-toggleable__label sk-toggleable__label-arrow\">RandomizedSearchCV</label><div class=\"sk-toggleable__content\"><pre>RandomizedSearchCV(cv=5, estimator=SVC(class_weight=&#x27;balanced&#x27;), n_iter=3,\n",
              "                   n_jobs=-1,\n",
              "                   param_distributions={&#x27;C&#x27;: array([1.e-03, 1.e-02, 1.e-01, 1.e+00, 1.e+01, 1.e+02, 1.e+03]),\n",
              "                                        &#x27;gamma&#x27;: array([1.e-03, 1.e-02, 1.e-01, 1.e+00, 1.e+01, 1.e+02, 1.e+03]),\n",
              "                                        &#x27;kernel&#x27;: [&#x27;linear&#x27;, &#x27;rbf&#x27;, &#x27;poly&#x27;]},\n",
              "                   random_state=42, scoring=&#x27;accuracy&#x27;, verbose=2)</pre></div></div></div><div class=\"sk-parallel\"><div class=\"sk-parallel-item\"><div class=\"sk-item\"><div class=\"sk-label-container\"><div class=\"sk-label sk-toggleable\"><input class=\"sk-toggleable__control sk-hidden--visually\" id=\"sk-estimator-id-19\" type=\"checkbox\" ><label for=\"sk-estimator-id-19\" class=\"sk-toggleable__label sk-toggleable__label-arrow\">estimator: SVC</label><div class=\"sk-toggleable__content\"><pre>SVC(class_weight=&#x27;balanced&#x27;)</pre></div></div></div><div class=\"sk-serial\"><div class=\"sk-item\"><div class=\"sk-estimator sk-toggleable\"><input class=\"sk-toggleable__control sk-hidden--visually\" id=\"sk-estimator-id-20\" type=\"checkbox\" ><label for=\"sk-estimator-id-20\" class=\"sk-toggleable__label sk-toggleable__label-arrow\">SVC</label><div class=\"sk-toggleable__content\"><pre>SVC(class_weight=&#x27;balanced&#x27;)</pre></div></div></div></div></div></div></div></div></div></div>"
            ],
            "text/plain": [
              "RandomizedSearchCV(cv=5, estimator=SVC(class_weight='balanced'), n_iter=3,\n",
              "                   n_jobs=-1,\n",
              "                   param_distributions={'C': array([1.e-03, 1.e-02, 1.e-01, 1.e+00, 1.e+01, 1.e+02, 1.e+03]),\n",
              "                                        'gamma': array([1.e-03, 1.e-02, 1.e-01, 1.e+00, 1.e+01, 1.e+02, 1.e+03]),\n",
              "                                        'kernel': ['linear', 'rbf', 'poly']},\n",
              "                   random_state=42, scoring='accuracy', verbose=2)"
            ]
          },
          "execution_count": 83,
          "metadata": {},
          "output_type": "execute_result"
        }
      ],
      "source": [
        "# Randomized search\n",
        "random_search_L4 = RandomizedSearchCV(svc_L4, param_distributions_L4, n_iter=3, cv=5, scoring='accuracy', random_state=42, verbose=2, n_jobs=-1)\n",
        "random_search_L4.fit(x_train[L4], y_train[L4])"
      ]
    },
    {
      "cell_type": "code",
      "execution_count": 84,
      "metadata": {
        "id": "rGMwD5d37GaM"
      },
      "outputs": [
        {
          "name": "stdout",
          "output_type": "stream",
          "text": [
            "Best parameters: {'kernel': 'poly', 'gamma': 1000.0, 'C': 100.0}\n",
            "Best cross-validation score: 0.8481416549789621\n",
            "Best model: SVC(C=100.0, class_weight='balanced', gamma=1000.0, kernel='poly')\n"
          ]
        }
      ],
      "source": [
        "print(f\"Best parameters: {random_search_L4.best_params_}\")\n",
        "print(f\"Best cross-validation score: {random_search_L4.best_score_}\")\n",
        "print(f\"Best model: {random_search_L4.best_estimator_}\")"
      ]
    },
    {
      "cell_type": "code",
      "execution_count": 85,
      "metadata": {
        "id": "whA0Z6SA7HUP"
      },
      "outputs": [],
      "source": [
        "best_params = random_search_L4.best_params_\n",
        "best_model = random_search_L4.best_estimator_"
      ]
    },
    {
      "cell_type": "code",
      "execution_count": 86,
      "metadata": {
        "id": "QSWxrVuX7Iq8"
      },
      "outputs": [
        {
          "name": "stdout",
          "output_type": "stream",
          "text": [
            "Accuracy on test data:0.94\n"
          ]
        }
      ],
      "source": [
        "y_pred = best_model.predict(x_valid[L4])\n",
        "accuracy = accuracy_score(y_valid[L4], y_pred)\n",
        "print(f'Accuracy on test data:{accuracy}')"
      ]
    },
    {
      "cell_type": "code",
      "execution_count": 87,
      "metadata": {
        "id": "Rq3cXQgs7JZD"
      },
      "outputs": [],
      "source": [
        "y_pred_L4 = best_model.predict(x_test)"
      ]
    },
    {
      "cell_type": "code",
      "execution_count": 88,
      "metadata": {},
      "outputs": [
        {
          "data": {
            "text/plain": [
              "array([ 2,  8,  6,  6,  6,  6,  6,  6,  6,  2,  6,  6,  6,  6,  6,  6,  6,\n",
              "        6,  6,  0,  6,  2,  6,  6,  6,  6,  6,  6,  6,  6,  6,  6,  6,  6,\n",
              "        6,  6,  6,  6,  6,  8,  4,  3,  6,  6,  6,  1,  6, 12,  6,  0,  1,\n",
              "        6,  6,  7,  0,  6,  6,  5,  6,  6,  6,  3,  6,  2,  6,  8,  6,  6,\n",
              "        6, 12,  6,  6,  6,  6,  6,  6,  6,  6,  6,  6,  5, 12,  6,  6,  6,\n",
              "        6, 12,  4,  6,  6,  6,  6,  6,  0,  6,  6,  7,  6,  6,  0,  4,  2,\n",
              "        6,  6,  6,  6,  6,  6, 12,  6,  6,  6,  6,  6,  6,  6,  6,  6,  0,\n",
              "        6,  6,  6,  9,  6, 12,  9,  6, 11,  5,  5,  6,  6,  6,  6,  5,  6,\n",
              "        0,  6,  6,  7,  6,  6,  6,  7,  0,  6,  6,  6,  6,  6,  0,  7,  3,\n",
              "        6,  6, 10,  4,  6,  9,  6,  6,  8,  6,  6,  6,  6,  6,  6,  6,  6,\n",
              "        6,  6, 10,  6,  6,  6,  6,  5, 10,  6,  6,  8,  6,  6,  7,  6,  6,\n",
              "        6,  6,  2,  6,  5,  6,  6,  6, 10,  6, 12,  6,  6,  6, 13,  8,  6,\n",
              "        6, 11,  6,  1,  6,  2,  6,  6,  6,  6,  6,  6,  6,  3, 12,  6,  6,\n",
              "        4,  6,  7,  1,  6,  6,  9,  6, 12,  8,  6,  6, 11,  6,  6,  3,  6,\n",
              "        6,  6,  6,  6,  6,  2,  9,  6,  6,  6,  6,  6,  6,  6,  7,  6,  6,\n",
              "        6, 11,  6,  6,  6,  6,  6,  6,  6,  6,  6,  6,  6,  6,  6,  6,  6,\n",
              "        3,  6, 13,  6,  3,  6,  6,  6,  6,  6,  6,  0,  6,  6,  4,  6,  6,\n",
              "        6,  6,  6, 10,  7, 10,  6,  6,  6,  6,  6,  6,  6,  9,  6,  6,  6,\n",
              "        6,  1,  6,  6,  6,  6,  6,  6,  6,  6,  6,  6,  6,  6,  6,  6,  6,\n",
              "        0,  6,  6,  6,  6,  2,  6,  6,  6, 11,  6,  6,  6,  6,  8,  6,  6,\n",
              "        6,  6,  6,  3,  7,  6, 10,  2,  6,  7,  6,  6,  6,  6,  0,  6,  6,\n",
              "        0,  4,  6,  6,  6,  6,  7,  6,  6,  9,  6,  6,  6,  6,  6,  6,  6,\n",
              "        6,  6,  7,  6,  6, 13,  6,  0,  5,  6, 13,  6,  6,  6,  8,  6,  6,\n",
              "        6,  6,  6, 10,  9,  6,  4,  6,  6,  6,  6,  6,  2,  6,  6,  6,  6,\n",
              "        5,  6,  6,  6, 13,  6,  6,  3,  6,  7,  6,  6,  2,  6, 12,  6,  6,\n",
              "        6,  6,  8,  6,  6, 11,  9,  6,  6,  6,  6,  6,  6, 13,  5,  6,  6,\n",
              "        6,  6,  6,  6,  6,  6,  6,  6,  0,  6,  4,  6,  3, 12,  5,  6,  6,\n",
              "        6,  6,  6,  6,  6,  6,  6,  6,  6,  6,  6,  8,  7,  6,  6, 12,  6,\n",
              "        6,  6, 10,  5,  6,  6,  6,  6,  6,  6,  6,  7,  6,  6,  6,  6,  6,\n",
              "        6,  6,  6,  0,  6,  6,  7,  6,  6,  6,  6, 11,  6,  6,  6,  6,  6,\n",
              "        6,  6,  0,  6,  7, 10,  2,  6,  7,  6,  6,  3,  6,  8,  6,  8,  3,\n",
              "        6,  6,  6,  7,  6,  6,  6,  6,  8,  6,  6,  6,  6,  6,  6,  6,  6,\n",
              "        6,  6,  1,  7,  6,  0,  6,  6,  7, 12,  6,  6,  6,  6,  0,  7,  6,\n",
              "        6,  6,  6,  6,  7,  6,  6,  2,  6,  2,  6,  9,  2,  6,  6,  6,  6,\n",
              "        7,  6,  6,  6,  6,  3,  6,  6,  6,  6,  6,  0,  6,  6,  2,  6,  6,\n",
              "        6,  6, 10,  6,  6,  6,  6,  6,  6,  4,  8,  6,  6,  6,  6,  6,  6,\n",
              "        6,  6,  6,  8,  6,  7,  0,  0,  6,  6,  6,  6,  2,  6,  3, 11,  6,\n",
              "        9,  6,  6,  7,  6,  4,  6,  6, 12,  6,  6,  6,  0,  7,  9,  6,  1,\n",
              "        6,  6,  6,  6,  6,  1, 13,  6,  6,  7,  5,  6,  6,  5,  6,  6,  6,\n",
              "        6,  6,  6,  6,  7,  6,  6,  0,  6,  6, 11,  0, 10,  6,  6,  6,  7,\n",
              "        4,  2, 12,  6,  6,  6,  6,  6,  6,  6, 13,  6,  0,  6,  6,  6,  6,\n",
              "        6,  6,  6,  9,  6, 11,  6,  6,  6,  6,  6,  6,  6,  5,  6,  6,  3,\n",
              "        4,  6,  6,  6,  6,  6,  6,  6,  6,  6,  6,  6,  6,  6,  6,  6,  6,\n",
              "        6,  5,  6,  1,  6,  2,  4,  0,  6,  2,  6, 12,  6], dtype=int64)"
            ]
          },
          "execution_count": 88,
          "metadata": {},
          "output_type": "execute_result"
        }
      ],
      "source": [
        "y_pred_L4"
      ]
    },
    {
      "cell_type": "markdown",
      "metadata": {},
      "source": [
        "Correct"
      ]
    },
    {
      "cell_type": "code",
      "execution_count": 17,
      "metadata": {},
      "outputs": [
        {
          "name": "stdout",
          "output_type": "stream",
          "text": [
            "Fitting 3 folds for each of 3 candidates, totalling 9 fits\n"
          ]
        },
        {
          "name": "stdout",
          "output_type": "stream",
          "text": [
            "[CV] END ..................C=0.01, gamma=1000.0, kernel=poly; total time= 1.6min\n",
            "[CV] END ..................C=0.01, gamma=1000.0, kernel=poly; total time= 1.7min\n",
            "[CV] END ..................C=0.01, gamma=1000.0, kernel=poly; total time= 1.6min\n",
            "[CV] END ...................C=1000.0, gamma=1.0, kernel=poly; total time= 1.6min\n",
            "[CV] END ...................C=1000.0, gamma=1.0, kernel=poly; total time= 1.7min\n",
            "[CV] END ...................C=1000.0, gamma=1.0, kernel=poly; total time= 1.5min\n",
            "[CV] END .................C=1000.0, gamma=100.0, kernel=poly; total time= 1.4min\n",
            "[CV] END .................C=1000.0, gamma=100.0, kernel=poly; total time= 1.6min\n",
            "[CV] END .................C=1000.0, gamma=100.0, kernel=poly; total time= 1.7min\n"
          ]
        },
        {
          "data": {
            "text/html": [
              "<style>#sk-container-id-2 {color: black;}#sk-container-id-2 pre{padding: 0;}#sk-container-id-2 div.sk-toggleable {background-color: white;}#sk-container-id-2 label.sk-toggleable__label {cursor: pointer;display: block;width: 100%;margin-bottom: 0;padding: 0.3em;box-sizing: border-box;text-align: center;}#sk-container-id-2 label.sk-toggleable__label-arrow:before {content: \"▸\";float: left;margin-right: 0.25em;color: #696969;}#sk-container-id-2 label.sk-toggleable__label-arrow:hover:before {color: black;}#sk-container-id-2 div.sk-estimator:hover label.sk-toggleable__label-arrow:before {color: black;}#sk-container-id-2 div.sk-toggleable__content {max-height: 0;max-width: 0;overflow: hidden;text-align: left;background-color: #f0f8ff;}#sk-container-id-2 div.sk-toggleable__content pre {margin: 0.2em;color: black;border-radius: 0.25em;background-color: #f0f8ff;}#sk-container-id-2 input.sk-toggleable__control:checked~div.sk-toggleable__content {max-height: 200px;max-width: 100%;overflow: auto;}#sk-container-id-2 input.sk-toggleable__control:checked~label.sk-toggleable__label-arrow:before {content: \"▾\";}#sk-container-id-2 div.sk-estimator input.sk-toggleable__control:checked~label.sk-toggleable__label {background-color: #d4ebff;}#sk-container-id-2 div.sk-label input.sk-toggleable__control:checked~label.sk-toggleable__label {background-color: #d4ebff;}#sk-container-id-2 input.sk-hidden--visually {border: 0;clip: rect(1px 1px 1px 1px);clip: rect(1px, 1px, 1px, 1px);height: 1px;margin: -1px;overflow: hidden;padding: 0;position: absolute;width: 1px;}#sk-container-id-2 div.sk-estimator {font-family: monospace;background-color: #f0f8ff;border: 1px dotted black;border-radius: 0.25em;box-sizing: border-box;margin-bottom: 0.5em;}#sk-container-id-2 div.sk-estimator:hover {background-color: #d4ebff;}#sk-container-id-2 div.sk-parallel-item::after {content: \"\";width: 100%;border-bottom: 1px solid gray;flex-grow: 1;}#sk-container-id-2 div.sk-label:hover label.sk-toggleable__label {background-color: #d4ebff;}#sk-container-id-2 div.sk-serial::before {content: \"\";position: absolute;border-left: 1px solid gray;box-sizing: border-box;top: 0;bottom: 0;left: 50%;z-index: 0;}#sk-container-id-2 div.sk-serial {display: flex;flex-direction: column;align-items: center;background-color: white;padding-right: 0.2em;padding-left: 0.2em;position: relative;}#sk-container-id-2 div.sk-item {position: relative;z-index: 1;}#sk-container-id-2 div.sk-parallel {display: flex;align-items: stretch;justify-content: center;background-color: white;position: relative;}#sk-container-id-2 div.sk-item::before, #sk-container-id-2 div.sk-parallel-item::before {content: \"\";position: absolute;border-left: 1px solid gray;box-sizing: border-box;top: 0;bottom: 0;left: 50%;z-index: -1;}#sk-container-id-2 div.sk-parallel-item {display: flex;flex-direction: column;z-index: 1;position: relative;background-color: white;}#sk-container-id-2 div.sk-parallel-item:first-child::after {align-self: flex-end;width: 50%;}#sk-container-id-2 div.sk-parallel-item:last-child::after {align-self: flex-start;width: 50%;}#sk-container-id-2 div.sk-parallel-item:only-child::after {width: 0;}#sk-container-id-2 div.sk-dashed-wrapped {border: 1px dashed gray;margin: 0 0.4em 0.5em 0.4em;box-sizing: border-box;padding-bottom: 0.4em;background-color: white;}#sk-container-id-2 div.sk-label label {font-family: monospace;font-weight: bold;display: inline-block;line-height: 1.2em;}#sk-container-id-2 div.sk-label-container {text-align: center;}#sk-container-id-2 div.sk-container {/* jupyter's `normalize.less` sets `[hidden] { display: none; }` but bootstrap.min.css set `[hidden] { display: none !important; }` so we also need the `!important` here to be able to override the default hidden behavior on the sphinx rendered scikit-learn.org. See: https://github.com/scikit-learn/scikit-learn/issues/21755 */display: inline-block !important;position: relative;}#sk-container-id-2 div.sk-text-repr-fallback {display: none;}</style><div id=\"sk-container-id-2\" class=\"sk-top-container\"><div class=\"sk-text-repr-fallback\"><pre>RandomizedSearchCV(cv=3, estimator=SVC(class_weight=&#x27;balanced&#x27;), n_iter=3,\n",
              "                   param_distributions={&#x27;C&#x27;: array([1.e-03, 1.e-02, 1.e-01, 1.e+00, 1.e+01, 1.e+02, 1.e+03]),\n",
              "                                        &#x27;gamma&#x27;: array([1.e-03, 1.e-02, 1.e-01, 1.e+00, 1.e+01, 1.e+02, 1.e+03]),\n",
              "                                        &#x27;kernel&#x27;: [&#x27;poly&#x27;]},\n",
              "                   random_state=42, scoring=&#x27;accuracy&#x27;, verbose=2)</pre><b>In a Jupyter environment, please rerun this cell to show the HTML representation or trust the notebook. <br />On GitHub, the HTML representation is unable to render, please try loading this page with nbviewer.org.</b></div><div class=\"sk-container\" hidden><div class=\"sk-item sk-dashed-wrapped\"><div class=\"sk-label-container\"><div class=\"sk-label sk-toggleable\"><input class=\"sk-toggleable__control sk-hidden--visually\" id=\"sk-estimator-id-2\" type=\"checkbox\" ><label for=\"sk-estimator-id-2\" class=\"sk-toggleable__label sk-toggleable__label-arrow\">RandomizedSearchCV</label><div class=\"sk-toggleable__content\"><pre>RandomizedSearchCV(cv=3, estimator=SVC(class_weight=&#x27;balanced&#x27;), n_iter=3,\n",
              "                   param_distributions={&#x27;C&#x27;: array([1.e-03, 1.e-02, 1.e-01, 1.e+00, 1.e+01, 1.e+02, 1.e+03]),\n",
              "                                        &#x27;gamma&#x27;: array([1.e-03, 1.e-02, 1.e-01, 1.e+00, 1.e+01, 1.e+02, 1.e+03]),\n",
              "                                        &#x27;kernel&#x27;: [&#x27;poly&#x27;]},\n",
              "                   random_state=42, scoring=&#x27;accuracy&#x27;, verbose=2)</pre></div></div></div><div class=\"sk-parallel\"><div class=\"sk-parallel-item\"><div class=\"sk-item\"><div class=\"sk-label-container\"><div class=\"sk-label sk-toggleable\"><input class=\"sk-toggleable__control sk-hidden--visually\" id=\"sk-estimator-id-3\" type=\"checkbox\" ><label for=\"sk-estimator-id-3\" class=\"sk-toggleable__label sk-toggleable__label-arrow\">estimator: SVC</label><div class=\"sk-toggleable__content\"><pre>SVC(class_weight=&#x27;balanced&#x27;)</pre></div></div></div><div class=\"sk-serial\"><div class=\"sk-item\"><div class=\"sk-estimator sk-toggleable\"><input class=\"sk-toggleable__control sk-hidden--visually\" id=\"sk-estimator-id-4\" type=\"checkbox\" ><label for=\"sk-estimator-id-4\" class=\"sk-toggleable__label sk-toggleable__label-arrow\">SVC</label><div class=\"sk-toggleable__content\"><pre>SVC(class_weight=&#x27;balanced&#x27;)</pre></div></div></div></div></div></div></div></div></div></div>"
            ],
            "text/plain": [
              "RandomizedSearchCV(cv=3, estimator=SVC(class_weight='balanced'), n_iter=3,\n",
              "                   param_distributions={'C': array([1.e-03, 1.e-02, 1.e-01, 1.e+00, 1.e+01, 1.e+02, 1.e+03]),\n",
              "                                        'gamma': array([1.e-03, 1.e-02, 1.e-01, 1.e+00, 1.e+01, 1.e+02, 1.e+03]),\n",
              "                                        'kernel': ['poly']},\n",
              "                   random_state=42, scoring='accuracy', verbose=2)"
            ]
          },
          "execution_count": 17,
          "metadata": {},
          "output_type": "execute_result"
        }
      ],
      "source": [
        "# Randomized search new\n",
        "random_search_L4_new = RandomizedSearchCV(svc_L4, param_distributions_L4, n_iter=3, cv=3, scoring='accuracy', random_state=42, verbose=2)\n",
        "random_search_L4_new.fit(x_train_trf_L4, y_train[L4])"
      ]
    },
    {
      "cell_type": "code",
      "execution_count": 18,
      "metadata": {},
      "outputs": [
        {
          "name": "stdout",
          "output_type": "stream",
          "text": [
            "Best parameters: {'kernel': 'poly', 'gamma': 1000.0, 'C': 0.01}\n",
            "Best cross-validation score: 0.7716683975198553\n",
            "Best model: SVC(C=0.01, class_weight='balanced', gamma=1000.0, kernel='poly')\n"
          ]
        }
      ],
      "source": [
        "print(f\"Best parameters: {random_search_L4_new.best_params_}\")\n",
        "print(f\"Best cross-validation score: {random_search_L4_new.best_score_}\")\n",
        "print(f\"Best model: {random_search_L4_new.best_estimator_}\")"
      ]
    },
    {
      "cell_type": "code",
      "execution_count": 19,
      "metadata": {},
      "outputs": [],
      "source": [
        "best_params_L4 = random_search_L4_new.best_params_\n",
        "best_model_L4 = random_search_L4_new.best_estimator_"
      ]
    },
    {
      "cell_type": "code",
      "execution_count": 20,
      "metadata": {},
      "outputs": [
        {
          "name": "stdout",
          "output_type": "stream",
          "text": [
            "Accuracy on test data:0.9093333333333333\n"
          ]
        }
      ],
      "source": [
        "y_pred = best_model_L4.predict(x_valid_trf_L4)\n",
        "accuracy = accuracy_score(y_valid[L4], y_pred)\n",
        "print(f'Accuracy on test data:{accuracy}')"
      ]
    },
    {
      "cell_type": "code",
      "execution_count": 21,
      "metadata": {},
      "outputs": [
        {
          "data": {
            "text/plain": [
              "array([ 6,  6,  6,  6,  6,  6,  6, 10,  6,  6,  6,  6,  6,  7,  6,  6,  6,\n",
              "        6, 13, 13, 13, 13, 13, 13, 13, 13,  4,  4,  4,  4,  6,  4,  4,  4,\n",
              "        4,  4,  4,  6,  6,  4,  4,  4,  6,  6,  6,  6,  6,  6,  6,  6,  6,\n",
              "        6,  6,  6,  5,  5,  5,  5,  5,  6,  5,  5,  5,  5,  5,  1,  6,  1,\n",
              "        1,  6,  1,  1,  1,  1,  1,  6,  6,  6, 11,  6,  6,  6,  6,  6,  6,\n",
              "        6,  6,  6,  6,  6,  6,  6,  6,  6,  6,  6,  6,  6,  6,  6,  6,  6,\n",
              "        6,  6,  3,  6,  6,  6,  6,  6,  6,  6,  2,  2,  6,  2,  2, 12,  2,\n",
              "        2,  6,  6,  6,  6,  6,  6,  6,  6,  6,  6,  6,  6,  6,  6,  6,  6,\n",
              "        6,  6,  6,  6,  6,  6,  6,  6,  6,  6,  6,  7,  6,  6,  6,  6,  6,\n",
              "        6,  6,  1,  6,  6,  6,  6,  6,  6,  6,  6,  6,  6,  6,  6,  3,  3,\n",
              "        6,  6,  6,  6,  6,  6,  6,  6,  6,  6,  6,  6,  6,  6,  6,  6,  7,\n",
              "        6,  6,  6,  6,  6,  6,  6,  6,  6,  6,  6,  6,  7,  7,  7,  6,  1,\n",
              "        7,  7,  7,  7,  7,  7,  7,  7,  7,  7,  5,  7,  6,  6,  6,  6,  6,\n",
              "        6,  6,  6,  6,  6,  6,  6,  6,  6,  6,  6,  7,  6,  4,  6,  6,  6,\n",
              "        6,  6,  6,  6,  6,  6,  6,  6,  6,  6,  6,  6,  6,  6,  6,  6,  6,\n",
              "        6,  6,  6,  3,  3,  3,  3,  3,  3,  3,  3,  3,  3,  3,  3,  3,  6,\n",
              "        6,  6,  6,  6, 13,  6,  6,  6,  6,  6,  6,  6,  6,  7,  6,  6,  6,\n",
              "        6,  6,  6,  6,  6,  6,  6,  6,  6,  6,  6,  6,  6,  6,  6,  6,  6,\n",
              "        6,  0,  6,  6,  0,  6,  6,  6,  6,  6,  6,  6,  6,  6,  6,  6,  6,\n",
              "        6,  6,  6,  6,  6,  6,  5,  6,  6,  6,  6,  6,  6,  5,  6,  6,  6,\n",
              "        6,  6,  6,  6,  6,  6,  6,  6,  6,  6,  8,  6,  6,  6,  6,  6,  6,\n",
              "        6,  6,  6,  6, 11,  6,  6,  6,  6,  6,  6,  6,  6,  6,  6,  6,  6,\n",
              "       11,  6,  6,  6,  6,  6,  6,  6,  6,  6,  6,  6,  6, 12,  6,  6,  6,\n",
              "        6, 12,  6,  6,  0,  0,  0,  0,  0,  0,  0,  0,  0,  0,  0,  0,  0,\n",
              "        0,  0,  0,  6,  6,  6,  6,  6,  6,  6,  6,  6,  6,  6,  6,  6,  6,\n",
              "        6,  6,  6,  6,  6,  6,  6, 12, 12, 12, 12,  6, 12, 12, 12, 12, 12,\n",
              "        6, 12, 12,  6,  6,  6,  6,  6,  6,  6,  6,  6,  6,  6,  6,  6,  6,\n",
              "        6,  6,  6,  6,  6,  6,  6,  6,  6,  6,  6,  6,  6,  6,  6,  6,  6,\n",
              "        6,  6,  6,  6,  6,  6,  6,  0,  6,  6,  6,  7,  6,  1,  6,  6,  6,\n",
              "       12,  6, 12, 12,  6, 12,  9,  9,  9,  8,  9,  6,  9,  9,  9,  9,  9,\n",
              "        9,  2,  2,  2,  2,  2,  6,  6,  6,  6,  6,  6,  6,  6,  6,  6,  6,\n",
              "        6,  6,  6,  6,  6,  6,  6,  6,  6,  6,  6,  6,  6,  6,  6,  6,  6,\n",
              "        6,  8,  8,  8,  8,  8,  8,  8,  6,  8,  8,  8,  8,  8,  8,  8,  8,\n",
              "        6,  6,  6,  6,  6,  6,  6,  6,  6, 12, 11, 11, 11, 11, 11, 11, 11,\n",
              "       11, 11,  6,  6,  6,  6,  6,  6,  6,  6,  6,  6,  6, 12,  7,  7,  7,\n",
              "        7,  7,  7,  7,  7,  7,  7,  6,  7,  7,  0,  0,  0,  7,  0,  0,  0,\n",
              "        0,  0,  2,  2,  6,  2,  2,  2,  2,  2,  2,  2, 10, 10, 10, 10, 10,\n",
              "       10, 11, 10, 10, 10,  6,  6,  6,  6,  6,  3,  6,  6,  6,  6,  6,  5,\n",
              "        6,  6,  6,  6,  6,  6,  6,  6,  6,  9,  6,  6,  6,  6,  6,  6, 11,\n",
              "        6,  6,  6,  6,  6,  6,  6,  6,  6,  6,  6,  7,  6, 10,  6,  6,  6,\n",
              "        6,  6,  6,  6,  6,  6,  6,  6,  6,  6,  6,  6,  6,  6,  6,  6,  6,\n",
              "        6,  6,  6,  6,  6,  6,  6,  6,  6,  0,  6,  6,  6,  6,  6,  6,  6,\n",
              "        6,  6,  6,  6,  6,  6,  6,  6,  6,  6,  6,  6,  6,  6,  6,  6,  6,\n",
              "        6,  6,  6,  6,  6,  6,  6,  6,  6,  6,  6,  6,  6,  6,  6,  6,  6,\n",
              "        6,  6], dtype=int64)"
            ]
          },
          "execution_count": 21,
          "metadata": {},
          "output_type": "execute_result"
        }
      ],
      "source": [
        "y_pred_L4 = best_model_L4.predict(x_test_trf_L4)\n",
        "y_pred_L4"
      ]
    },
    {
      "cell_type": "markdown",
      "metadata": {},
      "source": [
        "Save the best model"
      ]
    },
    {
      "cell_type": "code",
      "execution_count": 22,
      "metadata": {},
      "outputs": [],
      "source": [
        "import joblib"
      ]
    },
    {
      "cell_type": "code",
      "execution_count": 23,
      "metadata": {},
      "outputs": [
        {
          "data": {
            "text/plain": [
              "['layer-11-new/best_model_L4.joblib']"
            ]
          },
          "execution_count": 23,
          "metadata": {},
          "output_type": "execute_result"
        }
      ],
      "source": [
        "# Save the model to your Google Drive using joblib\n",
        "joblib.dump(best_model_L4, f'{WORKING_DIR}/best_model_L4.joblib')"
      ]
    },
    {
      "cell_type": "code",
      "execution_count": 24,
      "metadata": {},
      "outputs": [],
      "source": [
        "loaded_model = joblib.load(f'{WORKING_DIR}/best_model_L4.joblib')"
      ]
    },
    {
      "cell_type": "code",
      "execution_count": 25,
      "metadata": {},
      "outputs": [
        {
          "name": "stdout",
          "output_type": "stream",
          "text": [
            "Accuracy on test data: 0.9093333333333333\n"
          ]
        }
      ],
      "source": [
        "y_pred_L4_load = loaded_model.predict(x_valid_trf_L4)\n",
        "accuracy = accuracy_score(y_valid[L4], y_pred_L4_load)\n",
        "print(f'Accuracy on test data: {accuracy}')"
      ]
    },
    {
      "cell_type": "code",
      "execution_count": 26,
      "metadata": {},
      "outputs": [
        {
          "name": "stdout",
          "output_type": "stream",
          "text": [
            "[[ 18   0   0   0   0   0   3   0   0   0   0   0   0   0]\n",
            " [  0  10   0   0   0   0   1   0   0   0   0   0   0   0]\n",
            " [  2   0  24   0   0   0   0   0   0   1   0   0   0   0]\n",
            " [  0   0   0   8   0   0   0   0   0   0   0   0   0   0]\n",
            " [  0   0   0   0  11   0   4   0   0   0   0   0   0   0]\n",
            " [  0   0   0   0   0   9   2   0   0   0   0   0   0   0]\n",
            " [  3   2   1   2   5   3 504   4   0   2   0   3   1   2]\n",
            " [  1   0   0   0   0   0   5  25   0   0   0   0   1   0]\n",
            " [  0   0   0   0   0   0   8   0  11   0   0   0   0   0]\n",
            " [  1   0   0   0   0   0   2   0   0  14   0   0   0   0]\n",
            " [  0   0   0   0   1   0   1   0   0   0   8   0   0   0]\n",
            " [  0   0   0   0   0   0   1   0   0   0   0  10   0   0]\n",
            " [  0   0   0   0   0   0   4   0   0   0   0   0  22   0]\n",
            " [  0   0   1   0   0   0   1   0   0   0   0   0   0   8]]\n",
            "0.9093333333333333\n",
            "0.9129140141390102\n",
            "0.9093333333333333\n"
          ]
        }
      ],
      "source": [
        "print (metrics.confusion_matrix(y_valid[L4], y_pred_L4_load))\n",
        "print (metrics.accuracy_score(y_valid[L4], y_pred_L4_load))\n",
        "print (metrics.precision_score(y_valid[L4], y_pred_L4_load, average=\"weighted\"))\n",
        "print (metrics.recall_score(y_valid[L4], y_pred_L4_load, average=\"weighted\"))"
      ]
    },
    {
      "cell_type": "code",
      "execution_count": 27,
      "metadata": {},
      "outputs": [
        {
          "data": {
            "text/html": [
              "<div>\n",
              "<style scoped>\n",
              "    .dataframe tbody tr th:only-of-type {\n",
              "        vertical-align: middle;\n",
              "    }\n",
              "\n",
              "    .dataframe tbody tr th {\n",
              "        vertical-align: top;\n",
              "    }\n",
              "\n",
              "    .dataframe thead th {\n",
              "        text-align: right;\n",
              "    }\n",
              "</style>\n",
              "<table border=\"1\" class=\"dataframe\">\n",
              "  <thead>\n",
              "    <tr style=\"text-align: right;\">\n",
              "      <th></th>\n",
              "      <th>label_4</th>\n",
              "    </tr>\n",
              "  </thead>\n",
              "  <tbody>\n",
              "    <tr>\n",
              "      <th>0</th>\n",
              "      <td>12</td>\n",
              "    </tr>\n",
              "    <tr>\n",
              "      <th>1</th>\n",
              "      <td>6</td>\n",
              "    </tr>\n",
              "    <tr>\n",
              "      <th>2</th>\n",
              "      <td>6</td>\n",
              "    </tr>\n",
              "    <tr>\n",
              "      <th>3</th>\n",
              "      <td>6</td>\n",
              "    </tr>\n",
              "    <tr>\n",
              "      <th>4</th>\n",
              "      <td>6</td>\n",
              "    </tr>\n",
              "  </tbody>\n",
              "</table>\n",
              "</div>"
            ],
            "text/plain": [
              "   label_4\n",
              "0       12\n",
              "1        6\n",
              "2        6\n",
              "3        6\n",
              "4        6"
            ]
          },
          "execution_count": 27,
          "metadata": {},
          "output_type": "execute_result"
        }
      ],
      "source": [
        "# Create the base DataFrame\n",
        "output_df_L4 = pd.DataFrame({\n",
        "    'label_4': y_pred_L4_load\n",
        "})\n",
        "\n",
        "output_df_L4.head()"
      ]
    },
    {
      "cell_type": "code",
      "execution_count": 28,
      "metadata": {},
      "outputs": [],
      "source": [
        "output_df_L4.to_csv(f\"{WORKING_DIR}/L4.csv\", index=False)"
      ]
    },
    {
      "cell_type": "markdown",
      "metadata": {},
      "source": [
        "## Valid"
      ]
    },
    {
      "cell_type": "code",
      "execution_count": null,
      "metadata": {},
      "outputs": [],
      "source": [
        "y_pred_L1_valid = best_model_L1.predict(x_valid_trf_L1)\n",
        "accuracy = accuracy_score(y_valid[L1], y_pred_L1)\n",
        "print(f'Accuracy on test data: {accuracy}')\n",
        "\n",
        "print (metrics.confusion_matrix(y_valid[L1], y_pred_L1))\n",
        "print (metrics.accuracy_score(y_valid[L1], y_pred_L1))\n",
        "print (metrics.precision_score(y_valid[L1], y_pred_L1, average=\"weighted\"))\n",
        "print (metrics.recall_score(y_valid[L1], y_pred_L1, average=\"weighted\"))"
      ]
    },
    {
      "cell_type": "code",
      "execution_count": null,
      "metadata": {},
      "outputs": [],
      "source": [
        "y_pred_L2_valid = best_model_L2.predict(x_valid_trf_L2)\n",
        "accuracy = accuracy_score(y_valid[L2], y_pred_L2)\n",
        "print(f'Accuracy on test data: {accuracy}')\n",
        "\n",
        "print (metrics.confusion_matrix(y_valid[L2], y_pred_L2))\n",
        "print (metrics.accuracy_score(y_valid[L2], y_pred_L2))\n",
        "print (metrics.precision_score(y_valid[L2], y_pred_L2, average=\"weighted\"))\n",
        "print (metrics.recall_score(y_valid[L2], y_pred_L2, average=\"weighted\"))"
      ]
    },
    {
      "cell_type": "code",
      "execution_count": null,
      "metadata": {},
      "outputs": [],
      "source": [
        "y_pred_L3_valid = best_model_L3.predict(x_valid_trf_L3)\n",
        "accuracy = accuracy_score(y_valid[L3], y_pred_L3)\n",
        "print(f'Accuracy on test data: {accuracy}')\n",
        "\n",
        "print (metrics.confusion_matrix(y_valid[L3], y_pred_L3))\n",
        "print (metrics.accuracy_score(y_valid[L3], y_pred_L3))\n",
        "print (metrics.precision_score(y_valid[L3], y_pred_L3, average=\"weighted\"))\n",
        "print (metrics.recall_score(y_valid[L3], y_pred_L3, average=\"weighted\"))"
      ]
    },
    {
      "cell_type": "code",
      "execution_count": null,
      "metadata": {},
      "outputs": [],
      "source": [
        "y_pred_L4_valid = best_model_L4.predict(x_valid_trf_L4)\n",
        "accuracy = accuracy_score(y_valid[L4], y_pred_L4)\n",
        "print(f'Accuracy on test data: {accuracy}')\n",
        "\n",
        "print (metrics.confusion_matrix(y_valid[L4], y_pred_L4))\n",
        "print (metrics.accuracy_score(y_valid[L4], y_pred_L4))\n",
        "print (metrics.precision_score(y_valid[L4], y_pred_L4, average=\"weighted\"))\n",
        "print (metrics.recall_score(y_valid[L4], y_pred_L4, average=\"weighted\"))"
      ]
    },
    {
      "cell_type": "markdown",
      "metadata": {
        "id": "8nrVQ5qsBEhj"
      },
      "source": [
        "# Output"
      ]
    },
    {
      "cell_type": "code",
      "execution_count": null,
      "metadata": {
        "id": "MFwFSjk5BDum"
      },
      "outputs": [
        {
          "data": {
            "text/html": [
              "<div>\n",
              "<style scoped>\n",
              "    .dataframe tbody tr th:only-of-type {\n",
              "        vertical-align: middle;\n",
              "    }\n",
              "\n",
              "    .dataframe tbody tr th {\n",
              "        vertical-align: top;\n",
              "    }\n",
              "\n",
              "    .dataframe thead th {\n",
              "        text-align: right;\n",
              "    }\n",
              "</style>\n",
              "<table border=\"1\" class=\"dataframe\">\n",
              "  <thead>\n",
              "    <tr style=\"text-align: right;\">\n",
              "      <th></th>\n",
              "      <th>ID</th>\n",
              "      <th>label_1</th>\n",
              "      <th>label_2</th>\n",
              "      <th>label_3</th>\n",
              "      <th>label_4</th>\n",
              "    </tr>\n",
              "  </thead>\n",
              "  <tbody>\n",
              "    <tr>\n",
              "      <th>0</th>\n",
              "      <td>1</td>\n",
              "      <td>26</td>\n",
              "      <td>22.0</td>\n",
              "      <td>0</td>\n",
              "      <td>2</td>\n",
              "    </tr>\n",
              "    <tr>\n",
              "      <th>1</th>\n",
              "      <td>2</td>\n",
              "      <td>18</td>\n",
              "      <td>25.0</td>\n",
              "      <td>1</td>\n",
              "      <td>8</td>\n",
              "    </tr>\n",
              "    <tr>\n",
              "      <th>2</th>\n",
              "      <td>3</td>\n",
              "      <td>16</td>\n",
              "      <td>30.0</td>\n",
              "      <td>1</td>\n",
              "      <td>6</td>\n",
              "    </tr>\n",
              "    <tr>\n",
              "      <th>3</th>\n",
              "      <td>4</td>\n",
              "      <td>7</td>\n",
              "      <td>27.0</td>\n",
              "      <td>1</td>\n",
              "      <td>6</td>\n",
              "    </tr>\n",
              "    <tr>\n",
              "      <th>4</th>\n",
              "      <td>5</td>\n",
              "      <td>58</td>\n",
              "      <td>29.0</td>\n",
              "      <td>0</td>\n",
              "      <td>6</td>\n",
              "    </tr>\n",
              "  </tbody>\n",
              "</table>\n",
              "</div>"
            ],
            "text/plain": [
              "   ID  label_1  label_2  label_3  label_4\n",
              "0   1       26     22.0        0        2\n",
              "1   2       18     25.0        1        8\n",
              "2   3       16     30.0        1        6\n",
              "3   4        7     27.0        1        6\n",
              "4   5       58     29.0        0        6"
            ]
          },
          "execution_count": 89,
          "metadata": {},
          "output_type": "execute_result"
        }
      ],
      "source": [
        "# Create the base DataFrame\n",
        "output_df_L1 = pd.DataFrame({\n",
        "    'label_1': y_pred_L1\n",
        "})\n",
        "\n",
        "output_df_L1.head()"
      ]
    },
    {
      "cell_type": "code",
      "execution_count": null,
      "metadata": {},
      "outputs": [],
      "source": [
        "# Create the base DataFrame\n",
        "output_df_L2 = pd.DataFrame({\n",
        "    'label_2': y_pred_L2\n",
        "})\n",
        "\n",
        "output_df_L2.head()"
      ]
    },
    {
      "cell_type": "code",
      "execution_count": null,
      "metadata": {},
      "outputs": [],
      "source": [
        "# Create the base DataFrame\n",
        "output_df_L3 = pd.DataFrame({\n",
        "    'label_3': y_pred_L3\n",
        "})\n",
        "\n",
        "output_df_L3.head()"
      ]
    },
    {
      "cell_type": "code",
      "execution_count": null,
      "metadata": {},
      "outputs": [],
      "source": [
        "# Create the base DataFrame\n",
        "output_df_L4 = pd.DataFrame({\n",
        "    'label_4': y_pred_L4\n",
        "})\n",
        "\n",
        "output_df_L4.head()"
      ]
    },
    {
      "cell_type": "code",
      "execution_count": null,
      "metadata": {
        "id": "Xgx5Tc9yBI9T"
      },
      "outputs": [],
      "source": [
        "# Save the DataFrame to the specified CSV file path\n",
        "output_df_L1.to_csv(f\"{WORKING_DIR}/L1.csv\", index=False)\n",
        "output_df_L2.to_csv(f\"{WORKING_DIR}/L2.csv\", index=False)\n",
        "output_df_L3.to_csv(f\"{WORKING_DIR}/L3.csv\", index=False)\n",
        "output_df_L4.to_csv(f\"{WORKING_DIR}/L4.csv\", index=False)"
      ]
    }
  ],
  "metadata": {
    "colab": {
      "provenance": []
    },
    "kernelspec": {
      "display_name": "Python 3",
      "name": "python3"
    },
    "language_info": {
      "codemirror_mode": {
        "name": "ipython",
        "version": 3
      },
      "file_extension": ".py",
      "mimetype": "text/x-python",
      "name": "python",
      "nbconvert_exporter": "python",
      "pygments_lexer": "ipython3",
      "version": "3.9.1"
    }
  },
  "nbformat": 4,
  "nbformat_minor": 0
}
